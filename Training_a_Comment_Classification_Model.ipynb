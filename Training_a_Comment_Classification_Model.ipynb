{
 "cells": [
  {
   "cell_type": "markdown",
   "metadata": {
    "toc": true
   },
   "source": [
    "<h1>Содержание<span class=\"tocSkip\"></span></h1>\n",
    "<div class=\"toc\"><ul class=\"toc-item\"><li><span><a href=\"#Подготовка\" data-toc-modified-id=\"Подготовка-1\"><span class=\"toc-item-num\">1&nbsp;&nbsp;</span>Подготовка</a></span></li><li><span><a href=\"#Обучение\" data-toc-modified-id=\"Обучение-2\"><span class=\"toc-item-num\">2&nbsp;&nbsp;</span>Обучение</a></span><ul class=\"toc-item\"><li><span><a href=\"#SGDClassifier\" data-toc-modified-id=\"SGDClassifier-2.1\"><span class=\"toc-item-num\">2.1&nbsp;&nbsp;</span>SGDClassifier</a></span></li><li><span><a href=\"#LogisticRegression\" data-toc-modified-id=\"LogisticRegression-2.2\"><span class=\"toc-item-num\">2.2&nbsp;&nbsp;</span>LogisticRegression</a></span></li><li><span><a href=\"#AdaBoostClassifier\" data-toc-modified-id=\"AdaBoostClassifier-2.3\"><span class=\"toc-item-num\">2.3&nbsp;&nbsp;</span>AdaBoostClassifier</a></span></li><li><span><a href=\"#SVM\" data-toc-modified-id=\"SVM-2.4\"><span class=\"toc-item-num\">2.4&nbsp;&nbsp;</span>SVM</a></span></li></ul></li><li><span><a href=\"#Проверка-лучшей-модели-на-тестовой-выборке\" data-toc-modified-id=\"Проверка-лучшей-модели-на-тестовой-выборке-3\"><span class=\"toc-item-num\">3&nbsp;&nbsp;</span>Проверка лучшей модели на тестовой выборке</a></span></li><li><span><a href=\"#Выводы\" data-toc-modified-id=\"Выводы-4\"><span class=\"toc-item-num\">4&nbsp;&nbsp;</span>Выводы</a></span></li><li><span><a href=\"#Чек-лист-проверки\" data-toc-modified-id=\"Чек-лист-проверки-5\"><span class=\"toc-item-num\">5&nbsp;&nbsp;</span>Чек-лист проверки</a></span></li></ul></div>"
   ]
  },
  {
   "cell_type": "markdown",
   "metadata": {},
   "source": [
    "# Проект для «Викишоп»"
   ]
  },
  {
   "cell_type": "markdown",
   "metadata": {},
   "source": [
    "Интернет-магазин «Викишоп» запускает новый сервис. Теперь пользователи могут редактировать и дополнять описания товаров, как в вики-сообществах. То есть клиенты предлагают свои правки и комментируют изменения других. Магазину нужен инструмент, который будет искать токсичные комментарии и отправлять их на модерацию. \n",
    "\n",
    "Обучите модель классифицировать комментарии на позитивные и негативные. В вашем распоряжении набор данных с разметкой о токсичности правок. \n",
    "\n",
    "Постройте модель со значением метрики качества *F1* не меньше 0.75.\n",
    "\n",
    "**Инструкция по выполнению проекта**\n",
    "\n",
    "1. Загрузите и подготовьте данные.\n",
    "2. Обучите разные модели. \n",
    "3. Сделайте выводы.\n",
    "\n",
    "Для выполнения проекта применять *BERT* необязательно, но вы можете попробовать.\n",
    "\n",
    "**Описание данных**\n",
    "\n",
    "Данные находятся в файле `toxic_comments.csv`. Столбец *text* в нём содержит текст комментария, а *toxic* — целевой признак."
   ]
  },
  {
   "cell_type": "markdown",
   "metadata": {},
   "source": [
    "## Подготовка"
   ]
  },
  {
   "cell_type": "code",
   "execution_count": 1,
   "metadata": {},
   "outputs": [],
   "source": [
    "import numpy as np\n",
    "import pandas as pd\n",
    "from sklearn.model_selection import train_test_split,cross_val_score\n",
    "from sklearn.linear_model import LogisticRegression, SGDClassifier\n",
    "from sklearn.model_selection import GridSearchCV\n",
    "from sklearn.metrics import f1_score,make_scorer,accuracy_score\n",
    "from sklearn.svm import SVC,LinearSVC\n",
    "from sklearn.ensemble import AdaBoostClassifier\n",
    "from sklearn.tree import DecisionTreeClassifier\n",
    "from sklearn import svm\n",
    "\n",
    "from tqdm import notebook,tqdm, trange\n",
    "import re\n",
    "import nltk\n",
    "from nltk.corpus import stopwords\n",
    "from nltk.stem import WordNetLemmatizer\n",
    "from sklearn.feature_extraction.text import TfidfVectorizer,CountVectorizer\n",
    "from sklearn.dummy import DummyClassifier\n",
    "nltk.download('wordnet','stopwords','punkt','averaged_perceptron_tagger')\n",
    "from nltk.corpus import wordnet\n",
    "from lightgbm import LGBMClassifier\n",
    "import lightgbm as lgb\n",
    "import time \n",
    " \n",
    "\n",
    "\n",
    "from IPython.display import clear_output\n",
    "import matplotlib.pyplot as plt\n",
    "import io\n",
    "\n",
    "import torch\n",
    "import warnings\n",
    "warnings.filterwarnings('ignore')"
   ]
  },
  {
   "cell_type": "code",
   "execution_count": 2,
   "metadata": {},
   "outputs": [
    {
     "data": {
      "text/html": [
       "<div>\n",
       "<style scoped>\n",
       "    .dataframe tbody tr th:only-of-type {\n",
       "        vertical-align: middle;\n",
       "    }\n",
       "\n",
       "    .dataframe tbody tr th {\n",
       "        vertical-align: top;\n",
       "    }\n",
       "\n",
       "    .dataframe thead th {\n",
       "        text-align: right;\n",
       "    }\n",
       "</style>\n",
       "<table border=\"1\" class=\"dataframe\">\n",
       "  <thead>\n",
       "    <tr style=\"text-align: right;\">\n",
       "      <th></th>\n",
       "      <th>Unnamed: 0</th>\n",
       "      <th>text</th>\n",
       "      <th>toxic</th>\n",
       "    </tr>\n",
       "  </thead>\n",
       "  <tbody>\n",
       "    <tr>\n",
       "      <th>0</th>\n",
       "      <td>0</td>\n",
       "      <td>Explanation\\nWhy the edits made under my usern...</td>\n",
       "      <td>0</td>\n",
       "    </tr>\n",
       "    <tr>\n",
       "      <th>1</th>\n",
       "      <td>1</td>\n",
       "      <td>D'aww! He matches this background colour I'm s...</td>\n",
       "      <td>0</td>\n",
       "    </tr>\n",
       "    <tr>\n",
       "      <th>2</th>\n",
       "      <td>2</td>\n",
       "      <td>Hey man, I'm really not trying to edit war. It...</td>\n",
       "      <td>0</td>\n",
       "    </tr>\n",
       "    <tr>\n",
       "      <th>3</th>\n",
       "      <td>3</td>\n",
       "      <td>\"\\nMore\\nI can't make any real suggestions on ...</td>\n",
       "      <td>0</td>\n",
       "    </tr>\n",
       "    <tr>\n",
       "      <th>4</th>\n",
       "      <td>4</td>\n",
       "      <td>You, sir, are my hero. Any chance you remember...</td>\n",
       "      <td>0</td>\n",
       "    </tr>\n",
       "    <tr>\n",
       "      <th>5</th>\n",
       "      <td>5</td>\n",
       "      <td>\"\\n\\nCongratulations from me as well, use the ...</td>\n",
       "      <td>0</td>\n",
       "    </tr>\n",
       "    <tr>\n",
       "      <th>6</th>\n",
       "      <td>6</td>\n",
       "      <td>COCKSUCKER BEFORE YOU PISS AROUND ON MY WORK</td>\n",
       "      <td>1</td>\n",
       "    </tr>\n",
       "    <tr>\n",
       "      <th>7</th>\n",
       "      <td>7</td>\n",
       "      <td>Your vandalism to the Matt Shirvington article...</td>\n",
       "      <td>0</td>\n",
       "    </tr>\n",
       "    <tr>\n",
       "      <th>8</th>\n",
       "      <td>8</td>\n",
       "      <td>Sorry if the word 'nonsense' was offensive to ...</td>\n",
       "      <td>0</td>\n",
       "    </tr>\n",
       "    <tr>\n",
       "      <th>9</th>\n",
       "      <td>9</td>\n",
       "      <td>alignment on this subject and which are contra...</td>\n",
       "      <td>0</td>\n",
       "    </tr>\n",
       "  </tbody>\n",
       "</table>\n",
       "</div>"
      ],
      "text/plain": [
       "   Unnamed: 0                                               text  toxic\n",
       "0           0  Explanation\\nWhy the edits made under my usern...      0\n",
       "1           1  D'aww! He matches this background colour I'm s...      0\n",
       "2           2  Hey man, I'm really not trying to edit war. It...      0\n",
       "3           3  \"\\nMore\\nI can't make any real suggestions on ...      0\n",
       "4           4  You, sir, are my hero. Any chance you remember...      0\n",
       "5           5  \"\\n\\nCongratulations from me as well, use the ...      0\n",
       "6           6       COCKSUCKER BEFORE YOU PISS AROUND ON MY WORK      1\n",
       "7           7  Your vandalism to the Matt Shirvington article...      0\n",
       "8           8  Sorry if the word 'nonsense' was offensive to ...      0\n",
       "9           9  alignment on this subject and which are contra...      0"
      ]
     },
     "execution_count": 2,
     "metadata": {},
     "output_type": "execute_result"
    }
   ],
   "source": [
    "try:\n",
    "    comments =pd.read_csv(r\"C:\\\\Users\\\\Специалист\\\\Downloads\\\\toxic_comments.csv\")\n",
    "except:\n",
    "    comments =pd.read_csv('/datasets/toxic_comments.csv')\n",
    "\n",
    "comments.head(10)\n"
   ]
  },
  {
   "cell_type": "code",
   "execution_count": 3,
   "metadata": {},
   "outputs": [
    {
     "name": "stdout",
     "output_type": "stream",
     "text": [
      "<class 'pandas.core.frame.DataFrame'>\n",
      "RangeIndex: 159292 entries, 0 to 159291\n",
      "Data columns (total 3 columns):\n",
      " #   Column      Non-Null Count   Dtype \n",
      "---  ------      --------------   ----- \n",
      " 0   Unnamed: 0  159292 non-null  int64 \n",
      " 1   text        159292 non-null  object\n",
      " 2   toxic       159292 non-null  int64 \n",
      "dtypes: int64(2), object(1)\n",
      "memory usage: 3.6+ MB\n"
     ]
    }
   ],
   "source": [
    "comments.info()"
   ]
  },
  {
   "cell_type": "code",
   "execution_count": 4,
   "metadata": {},
   "outputs": [
    {
     "data": {
      "text/plain": [
       "0"
      ]
     },
     "execution_count": 4,
     "metadata": {},
     "output_type": "execute_result"
    }
   ],
   "source": [
    "comments.duplicated().sum()"
   ]
  },
  {
   "cell_type": "code",
   "execution_count": 5,
   "metadata": {},
   "outputs": [
    {
     "data": {
      "text/html": [
       "<div>\n",
       "<style scoped>\n",
       "    .dataframe tbody tr th:only-of-type {\n",
       "        vertical-align: middle;\n",
       "    }\n",
       "\n",
       "    .dataframe tbody tr th {\n",
       "        vertical-align: top;\n",
       "    }\n",
       "\n",
       "    .dataframe thead th {\n",
       "        text-align: right;\n",
       "    }\n",
       "</style>\n",
       "<table border=\"1\" class=\"dataframe\">\n",
       "  <thead>\n",
       "    <tr style=\"text-align: right;\">\n",
       "      <th></th>\n",
       "      <th>Unnamed: 0</th>\n",
       "      <th>text</th>\n",
       "      <th>toxic</th>\n",
       "    </tr>\n",
       "  </thead>\n",
       "  <tbody>\n",
       "    <tr>\n",
       "      <th>count</th>\n",
       "      <td>159292.000000</td>\n",
       "      <td>159292</td>\n",
       "      <td>159292.000000</td>\n",
       "    </tr>\n",
       "    <tr>\n",
       "      <th>unique</th>\n",
       "      <td>NaN</td>\n",
       "      <td>159292</td>\n",
       "      <td>NaN</td>\n",
       "    </tr>\n",
       "    <tr>\n",
       "      <th>top</th>\n",
       "      <td>NaN</td>\n",
       "      <td>well i can guarantee that brazil has more pote...</td>\n",
       "      <td>NaN</td>\n",
       "    </tr>\n",
       "    <tr>\n",
       "      <th>freq</th>\n",
       "      <td>NaN</td>\n",
       "      <td>1</td>\n",
       "      <td>NaN</td>\n",
       "    </tr>\n",
       "    <tr>\n",
       "      <th>mean</th>\n",
       "      <td>79725.697242</td>\n",
       "      <td>NaN</td>\n",
       "      <td>0.101612</td>\n",
       "    </tr>\n",
       "    <tr>\n",
       "      <th>std</th>\n",
       "      <td>46028.837471</td>\n",
       "      <td>NaN</td>\n",
       "      <td>0.302139</td>\n",
       "    </tr>\n",
       "    <tr>\n",
       "      <th>min</th>\n",
       "      <td>0.000000</td>\n",
       "      <td>NaN</td>\n",
       "      <td>0.000000</td>\n",
       "    </tr>\n",
       "    <tr>\n",
       "      <th>25%</th>\n",
       "      <td>39872.750000</td>\n",
       "      <td>NaN</td>\n",
       "      <td>0.000000</td>\n",
       "    </tr>\n",
       "    <tr>\n",
       "      <th>50%</th>\n",
       "      <td>79721.500000</td>\n",
       "      <td>NaN</td>\n",
       "      <td>0.000000</td>\n",
       "    </tr>\n",
       "    <tr>\n",
       "      <th>75%</th>\n",
       "      <td>119573.250000</td>\n",
       "      <td>NaN</td>\n",
       "      <td>0.000000</td>\n",
       "    </tr>\n",
       "    <tr>\n",
       "      <th>max</th>\n",
       "      <td>159450.000000</td>\n",
       "      <td>NaN</td>\n",
       "      <td>1.000000</td>\n",
       "    </tr>\n",
       "  </tbody>\n",
       "</table>\n",
       "</div>"
      ],
      "text/plain": [
       "           Unnamed: 0                                               text  \\\n",
       "count   159292.000000                                             159292   \n",
       "unique            NaN                                             159292   \n",
       "top               NaN  well i can guarantee that brazil has more pote...   \n",
       "freq              NaN                                                  1   \n",
       "mean     79725.697242                                                NaN   \n",
       "std      46028.837471                                                NaN   \n",
       "min          0.000000                                                NaN   \n",
       "25%      39872.750000                                                NaN   \n",
       "50%      79721.500000                                                NaN   \n",
       "75%     119573.250000                                                NaN   \n",
       "max     159450.000000                                                NaN   \n",
       "\n",
       "                toxic  \n",
       "count   159292.000000  \n",
       "unique            NaN  \n",
       "top               NaN  \n",
       "freq              NaN  \n",
       "mean         0.101612  \n",
       "std          0.302139  \n",
       "min          0.000000  \n",
       "25%          0.000000  \n",
       "50%          0.000000  \n",
       "75%          0.000000  \n",
       "max          1.000000  "
      ]
     },
     "execution_count": 5,
     "metadata": {},
     "output_type": "execute_result"
    }
   ],
   "source": [
    "comments.describe(include='all')"
   ]
  },
  {
   "cell_type": "code",
   "execution_count": 6,
   "metadata": {},
   "outputs": [
    {
     "data": {
      "text/plain": [
       "0    89.838787\n",
       "1    10.161213\n",
       "Name: toxic, dtype: float64"
      ]
     },
     "execution_count": 6,
     "metadata": {},
     "output_type": "execute_result"
    }
   ],
   "source": [
    "# Преимущественно не токсичные комментарии соотношение 89,8% к 10,2%\n",
    "comments.toxic.value_counts()/comments.shape[0]*100 "
   ]
  },
  {
   "cell_type": "code",
   "execution_count": 7,
   "metadata": {},
   "outputs": [],
   "source": [
    "#приведем все буквенные данные к нижнему регистру\n",
    "comments['text'] = comments['text'].str.lower()"
   ]
  },
  {
   "cell_type": "code",
   "execution_count": 8,
   "metadata": {},
   "outputs": [],
   "source": [
    "# оставим только буквы в нижнем и верхнем регистре + цифры\n",
    "comments_new = []\n",
    "pattern = r'[^a-zA-Z0-9]' #r'[^a-zA-z]' [^a-zA-Z0-9]\n",
    "for sentence in comments.text:\n",
    "    cleared_text = re.sub(pattern, \" \", sentence)\n",
    "    comments_new.append(\" \". join(cleared_text.split()))"
   ]
  },
  {
   "cell_type": "code",
   "execution_count": 9,
   "metadata": {},
   "outputs": [
    {
     "data": {
      "text/html": [
       "<div>\n",
       "<style scoped>\n",
       "    .dataframe tbody tr th:only-of-type {\n",
       "        vertical-align: middle;\n",
       "    }\n",
       "\n",
       "    .dataframe tbody tr th {\n",
       "        vertical-align: top;\n",
       "    }\n",
       "\n",
       "    .dataframe thead th {\n",
       "        text-align: right;\n",
       "    }\n",
       "</style>\n",
       "<table border=\"1\" class=\"dataframe\">\n",
       "  <thead>\n",
       "    <tr style=\"text-align: right;\">\n",
       "      <th></th>\n",
       "      <th>Unnamed: 0</th>\n",
       "      <th>text</th>\n",
       "      <th>toxic</th>\n",
       "      <th>clear_text</th>\n",
       "    </tr>\n",
       "  </thead>\n",
       "  <tbody>\n",
       "    <tr>\n",
       "      <th>0</th>\n",
       "      <td>0</td>\n",
       "      <td>explanation\\nwhy the edits made under my usern...</td>\n",
       "      <td>0</td>\n",
       "      <td>explanation why the edits made under my userna...</td>\n",
       "    </tr>\n",
       "    <tr>\n",
       "      <th>1</th>\n",
       "      <td>1</td>\n",
       "      <td>d'aww! he matches this background colour i'm s...</td>\n",
       "      <td>0</td>\n",
       "      <td>d aww he matches this background colour i m se...</td>\n",
       "    </tr>\n",
       "    <tr>\n",
       "      <th>2</th>\n",
       "      <td>2</td>\n",
       "      <td>hey man, i'm really not trying to edit war. it...</td>\n",
       "      <td>0</td>\n",
       "      <td>hey man i m really not trying to edit war it s...</td>\n",
       "    </tr>\n",
       "    <tr>\n",
       "      <th>3</th>\n",
       "      <td>3</td>\n",
       "      <td>\"\\nmore\\ni can't make any real suggestions on ...</td>\n",
       "      <td>0</td>\n",
       "      <td>more i can t make any real suggestions on impr...</td>\n",
       "    </tr>\n",
       "    <tr>\n",
       "      <th>4</th>\n",
       "      <td>4</td>\n",
       "      <td>you, sir, are my hero. any chance you remember...</td>\n",
       "      <td>0</td>\n",
       "      <td>you sir are my hero any chance you remember wh...</td>\n",
       "    </tr>\n",
       "    <tr>\n",
       "      <th>5</th>\n",
       "      <td>5</td>\n",
       "      <td>\"\\n\\ncongratulations from me as well, use the ...</td>\n",
       "      <td>0</td>\n",
       "      <td>congratulations from me as well use the tools ...</td>\n",
       "    </tr>\n",
       "    <tr>\n",
       "      <th>6</th>\n",
       "      <td>6</td>\n",
       "      <td>cocksucker before you piss around on my work</td>\n",
       "      <td>1</td>\n",
       "      <td>cocksucker before you piss around on my work</td>\n",
       "    </tr>\n",
       "    <tr>\n",
       "      <th>7</th>\n",
       "      <td>7</td>\n",
       "      <td>your vandalism to the matt shirvington article...</td>\n",
       "      <td>0</td>\n",
       "      <td>your vandalism to the matt shirvington article...</td>\n",
       "    </tr>\n",
       "    <tr>\n",
       "      <th>8</th>\n",
       "      <td>8</td>\n",
       "      <td>sorry if the word 'nonsense' was offensive to ...</td>\n",
       "      <td>0</td>\n",
       "      <td>sorry if the word nonsense was offensive to yo...</td>\n",
       "    </tr>\n",
       "    <tr>\n",
       "      <th>9</th>\n",
       "      <td>9</td>\n",
       "      <td>alignment on this subject and which are contra...</td>\n",
       "      <td>0</td>\n",
       "      <td>alignment on this subject and which are contra...</td>\n",
       "    </tr>\n",
       "  </tbody>\n",
       "</table>\n",
       "</div>"
      ],
      "text/plain": [
       "   Unnamed: 0                                               text  toxic  \\\n",
       "0           0  explanation\\nwhy the edits made under my usern...      0   \n",
       "1           1  d'aww! he matches this background colour i'm s...      0   \n",
       "2           2  hey man, i'm really not trying to edit war. it...      0   \n",
       "3           3  \"\\nmore\\ni can't make any real suggestions on ...      0   \n",
       "4           4  you, sir, are my hero. any chance you remember...      0   \n",
       "5           5  \"\\n\\ncongratulations from me as well, use the ...      0   \n",
       "6           6       cocksucker before you piss around on my work      1   \n",
       "7           7  your vandalism to the matt shirvington article...      0   \n",
       "8           8  sorry if the word 'nonsense' was offensive to ...      0   \n",
       "9           9  alignment on this subject and which are contra...      0   \n",
       "\n",
       "                                          clear_text  \n",
       "0  explanation why the edits made under my userna...  \n",
       "1  d aww he matches this background colour i m se...  \n",
       "2  hey man i m really not trying to edit war it s...  \n",
       "3  more i can t make any real suggestions on impr...  \n",
       "4  you sir are my hero any chance you remember wh...  \n",
       "5  congratulations from me as well use the tools ...  \n",
       "6       cocksucker before you piss around on my work  \n",
       "7  your vandalism to the matt shirvington article...  \n",
       "8  sorry if the word nonsense was offensive to yo...  \n",
       "9  alignment on this subject and which are contra...  "
      ]
     },
     "execution_count": 9,
     "metadata": {},
     "output_type": "execute_result"
    }
   ],
   "source": [
    "comments[\"clear_text\"]=comments_new\n",
    "comments.head(10)"
   ]
  },
  {
   "cell_type": "markdown",
   "metadata": {},
   "source": [
    "## Обучение"
   ]
  },
  {
   "cell_type": "markdown",
   "metadata": {},
   "source": [
    "Для дальнейшего использования 159571 очень большой датасет, поэтому сделаем sample.\n",
    "\n",
    "переменную **corpus** будем использовать для TF-IDF\n"
   ]
  },
  {
   "cell_type": "code",
   "execution_count": 10,
   "metadata": {},
   "outputs": [],
   "source": [
    "#sample_size = 60000\n",
    "#corpus = comments.sample(n=sample_size,random_state=0).reset_index(drop=True)\n",
    "#print('соотношение классов в датасете corpus\\n', corpus.toxic.value_counts()/corpus.shape[0]*100)"
   ]
  },
  {
   "cell_type": "markdown",
   "metadata": {},
   "source": [
    "Соотношение классов приблизтельно как в исходном датасете.\n",
    "Можно считать, что baseline по accuracy для данного датасета 90."
   ]
  },
  {
   "cell_type": "code",
   "execution_count": 11,
   "metadata": {},
   "outputs": [],
   "source": [
    "#corpus.head()"
   ]
  },
  {
   "cell_type": "markdown",
   "metadata": {},
   "source": [
    "Применяем Wordnet Lemmatizer + Pos_tag"
   ]
  },
  {
   "cell_type": "code",
   "execution_count": 12,
   "metadata": {},
   "outputs": [],
   "source": [
    "# инициализация Wordnet Lemmatizer\n",
    "L = WordNetLemmatizer()"
   ]
  },
  {
   "cell_type": "code",
   "execution_count": 13,
   "metadata": {},
   "outputs": [],
   "source": [
    "\n",
    "def lemmatizered(comments):\n",
    "    ''' функция выполняет токенизациию и лемматизацию массива текстов'''\n",
    "    corpus_new = []\n",
    "    for sentence in corpus:\n",
    "        word_list = nltk.word_tokenize(sentence)\n",
    "        corpus_new.append(' '.join([L.lemmatize(w) for w in word_list]))\n",
    "    return corpus_new"
   ]
  },
  {
   "cell_type": "code",
   "execution_count": 14,
   "metadata": {},
   "outputs": [],
   "source": [
    "def get_wordnet_pos(word):\n",
    "    \"\"\"функция возвращает словарь, где возвращается значение часть речи (pos_tag)\"\"\"\n",
    "    tag = nltk.pos_tag([word])[0][1][0].upper()\n",
    "    tag_dict = {\"J\": wordnet.ADJ,\n",
    "                \"N\": wordnet.NOUN,\n",
    "                \"V\": wordnet.VERB,\n",
    "                \"R\": wordnet.ADV}\n",
    " \n",
    "    return tag_dict.get(tag, wordnet.NOUN)\n",
    "     "
   ]
  },
  {
   "cell_type": "code",
   "execution_count": 15,
   "metadata": {},
   "outputs": [],
   "source": [
    "def get_word_text(comments):\n",
    "    ''' функция выполняет токенизациию и лемматизацию массива текстов c учетом pos_tag и удаление стоп-слов'''\n",
    "    corpus_new = []\n",
    "    for sentence in comments:\n",
    "        corpus_new.append(' '.join([L.lemmatize(w, get_wordnet_pos(w)) for w in nltk.word_tokenize(sentence) if not w in stopwords.words('english')]))\n",
    "    return corpus_new"
   ]
  },
  {
   "cell_type": "markdown",
   "metadata": {},
   "source": [
    "Выполним лемматизацию корпуса c учетом pos_tag\n",
    "\n",
    "\n",
    "\n"
   ]
  },
  {
   "cell_type": "code",
   "execution_count": 16,
   "metadata": {},
   "outputs": [
    {
     "name": "stderr",
     "output_type": "stream",
     "text": [
      "[nltk_data] Downloading package punkt to /home/jovyan/nltk_data...\n",
      "[nltk_data]   Package punkt is already up-to-date!\n",
      "[nltk_data] Downloading package wordnet to /home/jovyan/nltk_data...\n",
      "[nltk_data]   Package wordnet is already up-to-date!\n",
      "[nltk_data] Downloading package averaged_perceptron_tagger to\n",
      "[nltk_data]     /home/jovyan/nltk_data...\n",
      "[nltk_data]   Package averaged_perceptron_tagger is already up-to-\n",
      "[nltk_data]       date!\n"
     ]
    },
    {
     "name": "stdout",
     "output_type": "stream",
     "text": [
      "CPU times: user 24min 34s, sys: 3min 5s, total: 27min 40s\n",
      "Wall time: 27min 43s\n"
     ]
    }
   ],
   "source": [
    " %%time\n",
    "nltk.download('punkt')\n",
    "nltk.download('wordnet')\n",
    "nltk.download('averaged_perceptron_tagger')\n",
    " \n",
    "comments['lemma_text_no_sw'] = get_word_text(comments['clear_text'])"
   ]
  },
  {
   "cell_type": "code",
   "execution_count": 17,
   "metadata": {},
   "outputs": [
    {
     "data": {
      "text/html": [
       "<div>\n",
       "<style scoped>\n",
       "    .dataframe tbody tr th:only-of-type {\n",
       "        vertical-align: middle;\n",
       "    }\n",
       "\n",
       "    .dataframe tbody tr th {\n",
       "        vertical-align: top;\n",
       "    }\n",
       "\n",
       "    .dataframe thead th {\n",
       "        text-align: right;\n",
       "    }\n",
       "</style>\n",
       "<table border=\"1\" class=\"dataframe\">\n",
       "  <thead>\n",
       "    <tr style=\"text-align: right;\">\n",
       "      <th></th>\n",
       "      <th>Unnamed: 0</th>\n",
       "      <th>text</th>\n",
       "      <th>toxic</th>\n",
       "      <th>clear_text</th>\n",
       "      <th>lemma_text_no_sw</th>\n",
       "    </tr>\n",
       "  </thead>\n",
       "  <tbody>\n",
       "    <tr>\n",
       "      <th>0</th>\n",
       "      <td>0</td>\n",
       "      <td>explanation\\nwhy the edits made under my usern...</td>\n",
       "      <td>0</td>\n",
       "      <td>explanation why the edits made under my userna...</td>\n",
       "      <td>explanation edits make username hardcore metal...</td>\n",
       "    </tr>\n",
       "    <tr>\n",
       "      <th>1</th>\n",
       "      <td>1</td>\n",
       "      <td>d'aww! he matches this background colour i'm s...</td>\n",
       "      <td>0</td>\n",
       "      <td>d aww he matches this background colour i m se...</td>\n",
       "      <td>aww match background colour seemingly stuck th...</td>\n",
       "    </tr>\n",
       "    <tr>\n",
       "      <th>2</th>\n",
       "      <td>2</td>\n",
       "      <td>hey man, i'm really not trying to edit war. it...</td>\n",
       "      <td>0</td>\n",
       "      <td>hey man i m really not trying to edit war it s...</td>\n",
       "      <td>hey man really try edit war guy constantly rem...</td>\n",
       "    </tr>\n",
       "    <tr>\n",
       "      <th>3</th>\n",
       "      <td>3</td>\n",
       "      <td>\"\\nmore\\ni can't make any real suggestions on ...</td>\n",
       "      <td>0</td>\n",
       "      <td>more i can t make any real suggestions on impr...</td>\n",
       "      <td>make real suggestion improvement wonder sectio...</td>\n",
       "    </tr>\n",
       "    <tr>\n",
       "      <th>4</th>\n",
       "      <td>4</td>\n",
       "      <td>you, sir, are my hero. any chance you remember...</td>\n",
       "      <td>0</td>\n",
       "      <td>you sir are my hero any chance you remember wh...</td>\n",
       "      <td>sir hero chance remember page</td>\n",
       "    </tr>\n",
       "  </tbody>\n",
       "</table>\n",
       "</div>"
      ],
      "text/plain": [
       "   Unnamed: 0                                               text  toxic  \\\n",
       "0           0  explanation\\nwhy the edits made under my usern...      0   \n",
       "1           1  d'aww! he matches this background colour i'm s...      0   \n",
       "2           2  hey man, i'm really not trying to edit war. it...      0   \n",
       "3           3  \"\\nmore\\ni can't make any real suggestions on ...      0   \n",
       "4           4  you, sir, are my hero. any chance you remember...      0   \n",
       "\n",
       "                                          clear_text  \\\n",
       "0  explanation why the edits made under my userna...   \n",
       "1  d aww he matches this background colour i m se...   \n",
       "2  hey man i m really not trying to edit war it s...   \n",
       "3  more i can t make any real suggestions on impr...   \n",
       "4  you sir are my hero any chance you remember wh...   \n",
       "\n",
       "                                    lemma_text_no_sw  \n",
       "0  explanation edits make username hardcore metal...  \n",
       "1  aww match background colour seemingly stuck th...  \n",
       "2  hey man really try edit war guy constantly rem...  \n",
       "3  make real suggestion improvement wonder sectio...  \n",
       "4                      sir hero chance remember page  "
      ]
     },
     "execution_count": 17,
     "metadata": {},
     "output_type": "execute_result"
    }
   ],
   "source": [
    "comments.head()"
   ]
  },
  {
   "cell_type": "code",
   "execution_count": 18,
   "metadata": {},
   "outputs": [
    {
     "name": "stderr",
     "output_type": "stream",
     "text": [
      "[nltk_data] Downloading package stopwords to /home/jovyan/nltk_data...\n",
      "[nltk_data]   Package stopwords is already up-to-date!\n"
     ]
    },
    {
     "data": {
      "text/plain": [
       "True"
      ]
     },
     "execution_count": 18,
     "metadata": {},
     "output_type": "execute_result"
    }
   ],
   "source": [
    "nltk.download('stopwords')"
   ]
  },
  {
   "cell_type": "code",
   "execution_count": 19,
   "metadata": {},
   "outputs": [],
   "source": [
    "stop_words = set(stopwords.words(\"english\"))"
   ]
  },
  {
   "cell_type": "code",
   "execution_count": 20,
   "metadata": {},
   "outputs": [],
   "source": [
    "train = []\n",
    "# потребуется для Word2vec\n",
    "for sentences in comments['lemma_text_no_sw']:\n",
    "    train.append(sentences.split())\n",
    "\n",
    "comments['split'] = train"
   ]
  },
  {
   "cell_type": "code",
   "execution_count": 21,
   "metadata": {},
   "outputs": [],
   "source": [
    "train_comments,test_comments = train_test_split(comments, test_size=0.2, random_state =0,stratify = comments['toxic'])"
   ]
  },
  {
   "cell_type": "code",
   "execution_count": 22,
   "metadata": {},
   "outputs": [
    {
     "data": {
      "text/html": [
       "<div>\n",
       "<style scoped>\n",
       "    .dataframe tbody tr th:only-of-type {\n",
       "        vertical-align: middle;\n",
       "    }\n",
       "\n",
       "    .dataframe tbody tr th {\n",
       "        vertical-align: top;\n",
       "    }\n",
       "\n",
       "    .dataframe thead th {\n",
       "        text-align: right;\n",
       "    }\n",
       "</style>\n",
       "<table border=\"1\" class=\"dataframe\">\n",
       "  <thead>\n",
       "    <tr style=\"text-align: right;\">\n",
       "      <th></th>\n",
       "      <th>Unnamed: 0</th>\n",
       "      <th>text</th>\n",
       "      <th>toxic</th>\n",
       "      <th>clear_text</th>\n",
       "      <th>lemma_text_no_sw</th>\n",
       "      <th>split</th>\n",
       "    </tr>\n",
       "  </thead>\n",
       "  <tbody>\n",
       "    <tr>\n",
       "      <th>138503</th>\n",
       "      <td>138654</td>\n",
       "      <td>\"::::*the name of the geographical reference i...</td>\n",
       "      <td>0</td>\n",
       "      <td>the name of the geographical reference isn t r...</td>\n",
       "      <td>name geographical reference really pertinent d...</td>\n",
       "      <td>[name, geographical, reference, really, pertin...</td>\n",
       "    </tr>\n",
       "    <tr>\n",
       "      <th>87577</th>\n",
       "      <td>87658</td>\n",
       "      <td>\"\\n\\n disscussions with dmacks \\n\\noth have un...</td>\n",
       "      <td>0</td>\n",
       "      <td>disscussions with dmacks oth have understandin...</td>\n",
       "      <td>disscussions dmacks oth understand difficulty ...</td>\n",
       "      <td>[disscussions, dmacks, oth, understand, diffic...</td>\n",
       "    </tr>\n",
       "    <tr>\n",
       "      <th>26277</th>\n",
       "      <td>26311</td>\n",
       "      <td>on further investigation, i think i see what y...</td>\n",
       "      <td>0</td>\n",
       "      <td>on further investigation i think i see what yo...</td>\n",
       "      <td>investigation think see question edit sub stub...</td>\n",
       "      <td>[investigation, think, see, question, edit, su...</td>\n",
       "    </tr>\n",
       "    <tr>\n",
       "      <th>56665</th>\n",
       "      <td>56726</td>\n",
       "      <td>i am going to make a good-faith assumption tha...</td>\n",
       "      <td>0</td>\n",
       "      <td>i am going to make a good faith assumption tha...</td>\n",
       "      <td>go make good faith assumption reply request ma...</td>\n",
       "      <td>[go, make, good, faith, assumption, reply, req...</td>\n",
       "    </tr>\n",
       "    <tr>\n",
       "      <th>143787</th>\n",
       "      <td>143942</td>\n",
       "      <td>i suggest you take a look at the archived link...</td>\n",
       "      <td>0</td>\n",
       "      <td>i suggest you take a look at the archived link...</td>\n",
       "      <td>suggest take look archive link current site qu...</td>\n",
       "      <td>[suggest, take, look, archive, link, current, ...</td>\n",
       "    </tr>\n",
       "  </tbody>\n",
       "</table>\n",
       "</div>"
      ],
      "text/plain": [
       "        Unnamed: 0                                               text  toxic  \\\n",
       "138503      138654  \"::::*the name of the geographical reference i...      0   \n",
       "87577        87658  \"\\n\\n disscussions with dmacks \\n\\noth have un...      0   \n",
       "26277        26311  on further investigation, i think i see what y...      0   \n",
       "56665        56726  i am going to make a good-faith assumption tha...      0   \n",
       "143787      143942  i suggest you take a look at the archived link...      0   \n",
       "\n",
       "                                               clear_text  \\\n",
       "138503  the name of the geographical reference isn t r...   \n",
       "87577   disscussions with dmacks oth have understandin...   \n",
       "26277   on further investigation i think i see what yo...   \n",
       "56665   i am going to make a good faith assumption tha...   \n",
       "143787  i suggest you take a look at the archived link...   \n",
       "\n",
       "                                         lemma_text_no_sw  \\\n",
       "138503  name geographical reference really pertinent d...   \n",
       "87577   disscussions dmacks oth understand difficulty ...   \n",
       "26277   investigation think see question edit sub stub...   \n",
       "56665   go make good faith assumption reply request ma...   \n",
       "143787  suggest take look archive link current site qu...   \n",
       "\n",
       "                                                    split  \n",
       "138503  [name, geographical, reference, really, pertin...  \n",
       "87577   [disscussions, dmacks, oth, understand, diffic...  \n",
       "26277   [investigation, think, see, question, edit, su...  \n",
       "56665   [go, make, good, faith, assumption, reply, req...  \n",
       "143787  [suggest, take, look, archive, link, current, ...  "
      ]
     },
     "execution_count": 22,
     "metadata": {},
     "output_type": "execute_result"
    }
   ],
   "source": [
    "train_comments.head()"
   ]
  },
  {
   "cell_type": "code",
   "execution_count": 23,
   "metadata": {},
   "outputs": [],
   "source": [
    "def result_write(model_name,f1,cross_val_score,time_fit):\n",
    "    ''' \n",
    "    функция добавляет значения метрики f1 по умолчания, f1 c учетом измененного порога,\n",
    "    порог, время настройки модели\n",
    "    '''\n",
    "    result_df.loc[model_name,'F1_predict'] = f1\n",
    "    result_df.loc[model_name,'cross_val_score'] = cross_val_score\n",
    "    result_df.loc[model_name,'Time_fit'] = time_fit\n",
    "\n",
    "    return result_df\n"
   ]
  },
  {
   "cell_type": "code",
   "execution_count": 24,
   "metadata": {},
   "outputs": [
    {
     "data": {
      "text/html": [
       "<div>\n",
       "<style scoped>\n",
       "    .dataframe tbody tr th:only-of-type {\n",
       "        vertical-align: middle;\n",
       "    }\n",
       "\n",
       "    .dataframe tbody tr th {\n",
       "        vertical-align: top;\n",
       "    }\n",
       "\n",
       "    .dataframe thead th {\n",
       "        text-align: right;\n",
       "    }\n",
       "</style>\n",
       "<table border=\"1\" class=\"dataframe\">\n",
       "  <thead>\n",
       "    <tr style=\"text-align: right;\">\n",
       "      <th></th>\n",
       "      <th>F1_predict</th>\n",
       "      <th>cross_val_score</th>\n",
       "      <th>Time_fit</th>\n",
       "    </tr>\n",
       "  </thead>\n",
       "  <tbody>\n",
       "  </tbody>\n",
       "</table>\n",
       "</div>"
      ],
      "text/plain": [
       "Empty DataFrame\n",
       "Columns: [F1_predict, cross_val_score, Time_fit]\n",
       "Index: []"
      ]
     },
     "execution_count": 24,
     "metadata": {},
     "output_type": "execute_result"
    }
   ],
   "source": [
    "result_df = pd.DataFrame(columns=['F1_predict','cross_val_score','Time_fit'])\n",
    "result_df"
   ]
  },
  {
   "cell_type": "markdown",
   "metadata": {},
   "source": [
    "# TF-IDF\n"
   ]
  },
  {
   "cell_type": "markdown",
   "metadata": {},
   "source": [
    "Выполним векторизацию слов методом TfidfVectorize.\n",
    "\n",
    "Метод fit настривает модель, transform выполняет вектризацию."
   ]
  },
  {
   "cell_type": "code",
   "execution_count": 25,
   "metadata": {},
   "outputs": [],
   "source": [
    "\n",
    "count_tf_idf = TfidfVectorizer(stop_words = 'english') \n",
    "tf_idf = count_tf_idf.fit(train_comments['lemma_text_no_sw'])\n",
    "tf_idf_train = tf_idf.transform(train_comments['lemma_text_no_sw'])\n",
    "test_tf_idf = tf_idf.transform(test_comments['lemma_text_no_sw'])"
   ]
  },
  {
   "cell_type": "code",
   "execution_count": 26,
   "metadata": {},
   "outputs": [
    {
     "name": "stdout",
     "output_type": "stream",
     "text": [
      "Размер матрицы train: (127433, 143240) Размер матрицы test: (31859, 143240)\n"
     ]
    }
   ],
   "source": [
    "print(\"Размер матрицы train:\", tf_idf_train.shape,\"Размер матрицы test:\", test_tf_idf.shape)\n"
   ]
  },
  {
   "cell_type": "code",
   "execution_count": 27,
   "metadata": {},
   "outputs": [],
   "source": [
    "# Обозначим что есть признаки и таргеты для трейн и тест.\n",
    "X_train = tf_idf_train\n",
    "X_test = test_tf_idf\n",
    "y_train = train_comments['toxic'].values\n",
    "y_test = test_comments['toxic'].values"
   ]
  },
  {
   "cell_type": "code",
   "execution_count": 28,
   "metadata": {},
   "outputs": [
    {
     "name": "stdout",
     "output_type": "stream",
     "text": [
      "(127433, 143240) (31859, 143240)\n"
     ]
    }
   ],
   "source": [
    "print(X_train.shape,X_test.shape)"
   ]
  },
  {
   "cell_type": "code",
   "execution_count": 29,
   "metadata": {},
   "outputs": [],
   "source": [
    "f1 = make_scorer(f1_score)"
   ]
  },
  {
   "cell_type": "markdown",
   "metadata": {},
   "source": [
    "### SGDClassifier"
   ]
  },
  {
   "cell_type": "code",
   "execution_count": 30,
   "metadata": {},
   "outputs": [
    {
     "data": {
      "text/plain": [
       "0.9435154236822731"
      ]
     },
     "execution_count": 30,
     "metadata": {},
     "output_type": "execute_result"
    }
   ],
   "source": [
    "modelSGDClassifier_TF_IDF = SGDClassifier()\n",
    "\n",
    "hyperparams = [{'loss':['hinge', 'log', 'modified_huber'],\n",
    "                'learning_rate':['constant', 'optimal', 'invscaling', 'adaptive'],\n",
    "                'eta0':[0.01, 0.05, 0.1, 0.2, 0.3, 0.5],\n",
    "                'random_state':[12082020],\n",
    "                'class_weight':['balanced']}]\n",
    "\n",
    "grid_search_SGDClassifier = GridSearchCV(modelSGDClassifier_TF_IDF, hyperparams, cv=5)\n",
    "\n",
    "start = time.time()\n",
    "\n",
    "grid_search_SGDClassifier.fit(X_train, y_train)\n",
    "grid_search_SGDClassifier.best_params_ \n",
    "grid_search_SGDClassifier.best_score_ "
   ]
  },
  {
   "cell_type": "code",
   "execution_count": 31,
   "metadata": {},
   "outputs": [],
   "source": [
    "\n",
    "modelSGDClassifier = SGDClassifier(**grid_search_SGDClassifier.best_params_)\n",
    "\n",
    "model_sgd = modelSGDClassifier.fit(X_train, y_train)\n",
    "end= time.time()\n",
    "time_fit = end - start"
   ]
  },
  {
   "cell_type": "code",
   "execution_count": 32,
   "metadata": {},
   "outputs": [
    {
     "data": {
      "text/plain": [
       "0.7447300421596628"
      ]
     },
     "execution_count": 32,
     "metadata": {},
     "output_type": "execute_result"
    }
   ],
   "source": [
    "SGD_predict = model_sgd.predict(X_test)\n",
    "f1_SGD = f1_score(SGD_predict,y_test)\n",
    "f1_SGD"
   ]
  },
  {
   "cell_type": "code",
   "execution_count": 33,
   "metadata": {},
   "outputs": [
    {
     "data": {
      "text/plain": [
       "0.7512679897107728"
      ]
     },
     "execution_count": 33,
     "metadata": {},
     "output_type": "execute_result"
    }
   ],
   "source": [
    "cross_val_sgd = cross_val_score(model_sgd,X_train,y_train,cv=5,scoring='f1').mean()\n",
    "cross_val_sgd"
   ]
  },
  {
   "cell_type": "code",
   "execution_count": 34,
   "metadata": {},
   "outputs": [
    {
     "data": {
      "text/html": [
       "<div>\n",
       "<style scoped>\n",
       "    .dataframe tbody tr th:only-of-type {\n",
       "        vertical-align: middle;\n",
       "    }\n",
       "\n",
       "    .dataframe tbody tr th {\n",
       "        vertical-align: top;\n",
       "    }\n",
       "\n",
       "    .dataframe thead th {\n",
       "        text-align: right;\n",
       "    }\n",
       "</style>\n",
       "<table border=\"1\" class=\"dataframe\">\n",
       "  <thead>\n",
       "    <tr style=\"text-align: right;\">\n",
       "      <th></th>\n",
       "      <th>F1_predict</th>\n",
       "      <th>cross_val_score</th>\n",
       "      <th>Time_fit</th>\n",
       "    </tr>\n",
       "  </thead>\n",
       "  <tbody>\n",
       "    <tr>\n",
       "      <th>TF-IDF+SGDClassifier</th>\n",
       "      <td>0.74473</td>\n",
       "      <td>0.751268</td>\n",
       "      <td>437.849358</td>\n",
       "    </tr>\n",
       "  </tbody>\n",
       "</table>\n",
       "</div>"
      ],
      "text/plain": [
       "                     F1_predict cross_val_score    Time_fit\n",
       "TF-IDF+SGDClassifier    0.74473        0.751268  437.849358"
      ]
     },
     "execution_count": 34,
     "metadata": {},
     "output_type": "execute_result"
    }
   ],
   "source": [
    "result_write('TF-IDF+SGDClassifier',f1_SGD,cross_val_sgd,time_fit)"
   ]
  },
  {
   "cell_type": "markdown",
   "metadata": {},
   "source": [
    "### LogisticRegression"
   ]
  },
  {
   "cell_type": "code",
   "execution_count": 35,
   "metadata": {},
   "outputs": [],
   "source": [
    "start = time.time()\n",
    "\n",
    "logreg = LogisticRegression()\n",
    "result_logreg = logreg.fit(X_train, y_train)\n",
    "end = time.time()\n",
    "time_fit = end - start\n"
   ]
  },
  {
   "cell_type": "code",
   "execution_count": 36,
   "metadata": {},
   "outputs": [
    {
     "data": {
      "text/plain": [
       "0.7362576346474182"
      ]
     },
     "execution_count": 36,
     "metadata": {},
     "output_type": "execute_result"
    }
   ],
   "source": [
    "lr_predict = result_logreg.predict(X_test)\n",
    "lr_f1 = f1_score(lr_predict,y_test)\n",
    "lr_f1"
   ]
  },
  {
   "cell_type": "code",
   "execution_count": 37,
   "metadata": {},
   "outputs": [
    {
     "data": {
      "text/plain": [
       "0.7137018791041585"
      ]
     },
     "execution_count": 37,
     "metadata": {},
     "output_type": "execute_result"
    }
   ],
   "source": [
    "lr_cross_val = cross_val_score(result_logreg,X_train,y_train,cv=5,scoring='f1').mean()\n",
    "lr_cross_val"
   ]
  },
  {
   "cell_type": "code",
   "execution_count": 38,
   "metadata": {},
   "outputs": [
    {
     "data": {
      "text/html": [
       "<div>\n",
       "<style scoped>\n",
       "    .dataframe tbody tr th:only-of-type {\n",
       "        vertical-align: middle;\n",
       "    }\n",
       "\n",
       "    .dataframe tbody tr th {\n",
       "        vertical-align: top;\n",
       "    }\n",
       "\n",
       "    .dataframe thead th {\n",
       "        text-align: right;\n",
       "    }\n",
       "</style>\n",
       "<table border=\"1\" class=\"dataframe\">\n",
       "  <thead>\n",
       "    <tr style=\"text-align: right;\">\n",
       "      <th></th>\n",
       "      <th>F1_predict</th>\n",
       "      <th>cross_val_score</th>\n",
       "      <th>Time_fit</th>\n",
       "    </tr>\n",
       "  </thead>\n",
       "  <tbody>\n",
       "    <tr>\n",
       "      <th>TF-IDF+SGDClassifier</th>\n",
       "      <td>0.74473</td>\n",
       "      <td>0.751268</td>\n",
       "      <td>437.849358</td>\n",
       "    </tr>\n",
       "    <tr>\n",
       "      <th>TF-IDF+LogisticRegression</th>\n",
       "      <td>0.736258</td>\n",
       "      <td>0.713702</td>\n",
       "      <td>44.909829</td>\n",
       "    </tr>\n",
       "  </tbody>\n",
       "</table>\n",
       "</div>"
      ],
      "text/plain": [
       "                          F1_predict cross_val_score    Time_fit\n",
       "TF-IDF+SGDClassifier         0.74473        0.751268  437.849358\n",
       "TF-IDF+LogisticRegression   0.736258        0.713702   44.909829"
      ]
     },
     "execution_count": 38,
     "metadata": {},
     "output_type": "execute_result"
    }
   ],
   "source": [
    "result_write('TF-IDF+LogisticRegression',lr_f1,lr_cross_val,time_fit)"
   ]
  },
  {
   "cell_type": "markdown",
   "metadata": {},
   "source": [
    "### AdaBoostClassifier"
   ]
  },
  {
   "cell_type": "code",
   "execution_count": 39,
   "metadata": {},
   "outputs": [],
   "source": [
    "start = time.time()\n",
    "modelClf = AdaBoostClassifier(base_estimator=DecisionTreeClassifier(max_depth=2), n_estimators=100, random_state=42)\n",
    "modelclf_fit = modelClf.fit(X_train, y_train)\n",
    "end = time.time()\n",
    "time_fit = end - start\n"
   ]
  },
  {
   "cell_type": "code",
   "execution_count": 40,
   "metadata": {},
   "outputs": [
    {
     "data": {
      "text/plain": [
       "0.7300407151708267"
      ]
     },
     "execution_count": 40,
     "metadata": {},
     "output_type": "execute_result"
    }
   ],
   "source": [
    "adaboost_predict = modelclf_fit.predict(X_test)\n",
    "adaboost_f1 = f1_score(adaboost_predict,y_test)\n",
    "adaboost_f1"
   ]
  },
  {
   "cell_type": "code",
   "execution_count": 41,
   "metadata": {},
   "outputs": [
    {
     "data": {
      "text/plain": [
       "0.7235590738255137"
      ]
     },
     "execution_count": 41,
     "metadata": {},
     "output_type": "execute_result"
    }
   ],
   "source": [
    "adaboost_cross_val = cross_val_score(modelclf_fit,X_train,y_train,cv=5,scoring='f1').mean()\n",
    "adaboost_cross_val"
   ]
  },
  {
   "cell_type": "code",
   "execution_count": 42,
   "metadata": {},
   "outputs": [
    {
     "data": {
      "text/html": [
       "<div>\n",
       "<style scoped>\n",
       "    .dataframe tbody tr th:only-of-type {\n",
       "        vertical-align: middle;\n",
       "    }\n",
       "\n",
       "    .dataframe tbody tr th {\n",
       "        vertical-align: top;\n",
       "    }\n",
       "\n",
       "    .dataframe thead th {\n",
       "        text-align: right;\n",
       "    }\n",
       "</style>\n",
       "<table border=\"1\" class=\"dataframe\">\n",
       "  <thead>\n",
       "    <tr style=\"text-align: right;\">\n",
       "      <th></th>\n",
       "      <th>F1_predict</th>\n",
       "      <th>cross_val_score</th>\n",
       "      <th>Time_fit</th>\n",
       "    </tr>\n",
       "  </thead>\n",
       "  <tbody>\n",
       "    <tr>\n",
       "      <th>TF-IDF+SGDClassifier</th>\n",
       "      <td>0.74473</td>\n",
       "      <td>0.751268</td>\n",
       "      <td>437.849358</td>\n",
       "    </tr>\n",
       "    <tr>\n",
       "      <th>TF-IDF+LogisticRegression</th>\n",
       "      <td>0.736258</td>\n",
       "      <td>0.713702</td>\n",
       "      <td>44.909829</td>\n",
       "    </tr>\n",
       "    <tr>\n",
       "      <th>TF-IDF+AdaBoostClassifier</th>\n",
       "      <td>0.730041</td>\n",
       "      <td>0.723559</td>\n",
       "      <td>86.912569</td>\n",
       "    </tr>\n",
       "  </tbody>\n",
       "</table>\n",
       "</div>"
      ],
      "text/plain": [
       "                          F1_predict cross_val_score    Time_fit\n",
       "TF-IDF+SGDClassifier         0.74473        0.751268  437.849358\n",
       "TF-IDF+LogisticRegression   0.736258        0.713702   44.909829\n",
       "TF-IDF+AdaBoostClassifier   0.730041        0.723559   86.912569"
      ]
     },
     "execution_count": 42,
     "metadata": {},
     "output_type": "execute_result"
    }
   ],
   "source": [
    "result_write('TF-IDF+AdaBoostClassifier',adaboost_f1,adaboost_cross_val,time_fit)"
   ]
  },
  {
   "cell_type": "markdown",
   "metadata": {},
   "source": [
    "### SVM"
   ]
  },
  {
   "cell_type": "code",
   "execution_count": 44,
   "metadata": {},
   "outputs": [],
   "source": [
    "start = time.time()\n",
    "metodsvm = svm.SVC()\n",
    "result_svm = metodsvm.fit(X_train, y_train)\n",
    "end = time.time()\n",
    "time_fit = end - start\n"
   ]
  },
  {
   "cell_type": "code",
   "execution_count": 45,
   "metadata": {},
   "outputs": [
    {
     "data": {
      "text/plain": [
       "0.7517367458866545"
      ]
     },
     "execution_count": 45,
     "metadata": {},
     "output_type": "execute_result"
    }
   ],
   "source": [
    "svm_predict = result_svm.predict(X_test)\n",
    "svm_f1 = f1_score(svm_predict,y_test)\n",
    "svm_f1"
   ]
  },
  {
   "cell_type": "code",
   "execution_count": 46,
   "metadata": {},
   "outputs": [
    {
     "data": {
      "text/plain": [
       "0.7358101074687179"
      ]
     },
     "execution_count": 46,
     "metadata": {},
     "output_type": "execute_result"
    }
   ],
   "source": [
    "svm_cross_val = cross_val_score(result_svm,X_train,y_train,cv=5,scoring='f1').mean()\n",
    "svm_cross_val"
   ]
  },
  {
   "cell_type": "code",
   "execution_count": 47,
   "metadata": {},
   "outputs": [
    {
     "data": {
      "text/html": [
       "<div>\n",
       "<style scoped>\n",
       "    .dataframe tbody tr th:only-of-type {\n",
       "        vertical-align: middle;\n",
       "    }\n",
       "\n",
       "    .dataframe tbody tr th {\n",
       "        vertical-align: top;\n",
       "    }\n",
       "\n",
       "    .dataframe thead th {\n",
       "        text-align: right;\n",
       "    }\n",
       "</style>\n",
       "<table border=\"1\" class=\"dataframe\">\n",
       "  <thead>\n",
       "    <tr style=\"text-align: right;\">\n",
       "      <th></th>\n",
       "      <th>F1_predict</th>\n",
       "      <th>cross_val_score</th>\n",
       "      <th>Time_fit</th>\n",
       "    </tr>\n",
       "  </thead>\n",
       "  <tbody>\n",
       "    <tr>\n",
       "      <th>TF-IDF+SGDClassifier</th>\n",
       "      <td>0.74473</td>\n",
       "      <td>0.751268</td>\n",
       "      <td>437.849358</td>\n",
       "    </tr>\n",
       "    <tr>\n",
       "      <th>TF-IDF+LogisticRegression</th>\n",
       "      <td>0.736258</td>\n",
       "      <td>0.713702</td>\n",
       "      <td>44.909829</td>\n",
       "    </tr>\n",
       "    <tr>\n",
       "      <th>TF-IDF+AdaBoostClassifier</th>\n",
       "      <td>0.730041</td>\n",
       "      <td>0.723559</td>\n",
       "      <td>86.912569</td>\n",
       "    </tr>\n",
       "    <tr>\n",
       "      <th>TF-IDF+svm</th>\n",
       "      <td>0.751737</td>\n",
       "      <td>0.73581</td>\n",
       "      <td>3128.358924</td>\n",
       "    </tr>\n",
       "  </tbody>\n",
       "</table>\n",
       "</div>"
      ],
      "text/plain": [
       "                          F1_predict cross_val_score     Time_fit\n",
       "TF-IDF+SGDClassifier         0.74473        0.751268   437.849358\n",
       "TF-IDF+LogisticRegression   0.736258        0.713702    44.909829\n",
       "TF-IDF+AdaBoostClassifier   0.730041        0.723559    86.912569\n",
       "TF-IDF+svm                  0.751737         0.73581  3128.358924"
      ]
     },
     "execution_count": 47,
     "metadata": {},
     "output_type": "execute_result"
    }
   ],
   "source": [
    "result_write('TF-IDF+svm',svm_f1,svm_cross_val,time_fit)"
   ]
  },
  {
   "cell_type": "markdown",
   "metadata": {},
   "source": [
    "## Проверка лучшей модели на тестовой выборке"
   ]
  },
  {
   "cell_type": "markdown",
   "metadata": {},
   "source": [
    "Лучшей моделью выбрана модель **SVM**. Получение предсказаний на тестовой выборке\n",
    "\n"
   ]
  },
  {
   "cell_type": "code",
   "execution_count": 48,
   "metadata": {
    "scrolled": true
   },
   "outputs": [
    {
     "name": "stdout",
     "output_type": "stream",
     "text": [
      "TF-IDF+svm: 0.7517\n"
     ]
    }
   ],
   "source": [
    "# Проверим на тестовой выборке качество модели 'SVM' \n",
    "svm_predict = result_svm.predict(X_test)\n",
    "\n",
    "f1_svm_test = round(f1_score(y_test, svm_predict),4)\n",
    "print(\"TF-IDF+svm:\", f1_svm_test)"
   ]
  },
  {
   "cell_type": "markdown",
   "metadata": {},
   "source": [
    "## Выводы"
   ]
  },
  {
   "cell_type": "markdown",
   "metadata": {},
   "source": [
    "При выполнении проекта проделана следующая работа:\n",
    "\n",
    "* На первом этапе произведена загрузка данных и их подготовка для обучения моделей:\n",
    "\n",
    "- Были исследованы модели **TF-IDF+SGDClassifier**,**TF-IDF+Logistic Regression**,**TF-IDF+AdaBoostClassifier**,**TF-IDF+svm**.\n",
    "\n",
    "\n",
    "* **Наилучший показатель f1_score в данном случае у svm = 0.7448**.\n"
   ]
  }
 ],
 "metadata": {
  "ExecuteTimeLog": [
   {
    "duration": 4011,
    "start_time": "2023-04-10T06:44:49.065Z"
   },
   {
    "duration": 2411,
    "start_time": "2023-04-10T06:44:54.926Z"
   },
   {
    "duration": 13,
    "start_time": "2023-04-10T06:47:17.850Z"
   },
   {
    "duration": 1033,
    "start_time": "2023-04-10T06:47:22.407Z"
   },
   {
    "duration": 34,
    "start_time": "2023-04-10T06:47:35.263Z"
   },
   {
    "duration": 915,
    "start_time": "2023-04-10T06:51:31.603Z"
   },
   {
    "duration": 33,
    "start_time": "2023-04-10T06:51:39.991Z"
   },
   {
    "duration": 24,
    "start_time": "2023-04-10T07:01:11.482Z"
   },
   {
    "duration": 56,
    "start_time": "2023-04-10T07:01:44.331Z"
   },
   {
    "duration": 9,
    "start_time": "2023-04-10T07:04:31.134Z"
   },
   {
    "duration": 4298,
    "start_time": "2023-04-10T07:08:39.158Z"
   },
   {
    "duration": 2655,
    "start_time": "2023-04-10T07:08:43.458Z"
   },
   {
    "duration": 35,
    "start_time": "2023-04-10T07:08:46.114Z"
   },
   {
    "duration": 10,
    "start_time": "2023-04-10T07:08:46.153Z"
   },
   {
    "duration": 54,
    "start_time": "2023-04-10T07:09:02.459Z"
   },
   {
    "duration": 7,
    "start_time": "2023-04-10T07:09:02.602Z"
   },
   {
    "duration": 9,
    "start_time": "2023-04-10T07:09:02.662Z"
   },
   {
    "duration": 7,
    "start_time": "2023-04-10T07:09:34.646Z"
   },
   {
    "duration": 6,
    "start_time": "2023-04-10T07:09:34.793Z"
   },
   {
    "duration": 7,
    "start_time": "2023-04-10T07:10:20.835Z"
   },
   {
    "duration": 991,
    "start_time": "2023-04-10T07:10:20.844Z"
   },
   {
    "duration": 34,
    "start_time": "2023-04-10T07:10:21.838Z"
   },
   {
    "duration": 16,
    "start_time": "2023-04-10T07:10:21.873Z"
   },
   {
    "duration": 4,
    "start_time": "2023-04-10T07:10:21.890Z"
   },
   {
    "duration": 338,
    "start_time": "2023-04-10T07:10:21.895Z"
   },
   {
    "duration": 4347,
    "start_time": "2023-04-10T07:10:22.236Z"
   },
   {
    "duration": 36,
    "start_time": "2023-04-10T07:10:26.586Z"
   },
   {
    "duration": 35,
    "start_time": "2023-04-10T07:15:16.242Z"
   },
   {
    "duration": 10,
    "start_time": "2023-04-10T07:17:02.195Z"
   },
   {
    "duration": 2,
    "start_time": "2023-04-10T07:19:34.195Z"
   },
   {
    "duration": 4,
    "start_time": "2023-04-10T07:19:35.589Z"
   },
   {
    "duration": 181,
    "start_time": "2023-04-10T07:19:46.762Z"
   },
   {
    "duration": 18,
    "start_time": "2023-04-10T07:20:25.150Z"
   },
   {
    "duration": 4528,
    "start_time": "2023-04-10T07:23:44.968Z"
   },
   {
    "duration": 0,
    "start_time": "2023-04-10T07:23:49.498Z"
   },
   {
    "duration": 0,
    "start_time": "2023-04-10T07:23:49.499Z"
   },
   {
    "duration": 0,
    "start_time": "2023-04-10T07:23:49.500Z"
   },
   {
    "duration": 0,
    "start_time": "2023-04-10T07:23:49.501Z"
   },
   {
    "duration": 0,
    "start_time": "2023-04-10T07:23:49.502Z"
   },
   {
    "duration": 0,
    "start_time": "2023-04-10T07:23:49.503Z"
   },
   {
    "duration": 0,
    "start_time": "2023-04-10T07:23:49.504Z"
   },
   {
    "duration": 0,
    "start_time": "2023-04-10T07:23:49.506Z"
   },
   {
    "duration": 0,
    "start_time": "2023-04-10T07:23:49.507Z"
   },
   {
    "duration": 0,
    "start_time": "2023-04-10T07:23:49.508Z"
   },
   {
    "duration": 0,
    "start_time": "2023-04-10T07:23:49.509Z"
   },
   {
    "duration": 5404,
    "start_time": "2023-04-10T07:24:20.135Z"
   },
   {
    "duration": 981,
    "start_time": "2023-04-10T07:24:25.542Z"
   },
   {
    "duration": 38,
    "start_time": "2023-04-10T07:24:26.525Z"
   },
   {
    "duration": 11,
    "start_time": "2023-04-10T07:24:26.566Z"
   },
   {
    "duration": 348,
    "start_time": "2023-04-10T07:24:26.579Z"
   },
   {
    "duration": 4224,
    "start_time": "2023-04-10T07:24:26.929Z"
   },
   {
    "duration": 29,
    "start_time": "2023-04-10T07:24:31.155Z"
   },
   {
    "duration": 66,
    "start_time": "2023-04-10T07:24:31.186Z"
   },
   {
    "duration": 8,
    "start_time": "2023-04-10T07:24:31.254Z"
   },
   {
    "duration": 26,
    "start_time": "2023-04-10T07:24:31.266Z"
   },
   {
    "duration": 35,
    "start_time": "2023-04-10T07:24:31.294Z"
   },
   {
    "duration": 36,
    "start_time": "2023-04-10T07:24:31.331Z"
   },
   {
    "duration": 6,
    "start_time": "2023-04-10T07:25:23.952Z"
   },
   {
    "duration": 6,
    "start_time": "2023-04-10T07:25:56.575Z"
   },
   {
    "duration": 4,
    "start_time": "2023-04-10T07:26:13.122Z"
   },
   {
    "duration": 256954,
    "start_time": "2023-04-10T07:27:03.074Z"
   },
   {
    "duration": 37,
    "start_time": "2023-04-10T07:31:20.031Z"
   },
   {
    "duration": 126,
    "start_time": "2023-04-10T07:31:20.071Z"
   },
   {
    "duration": 25,
    "start_time": "2023-04-10T07:31:20.200Z"
   },
   {
    "duration": 15,
    "start_time": "2023-04-10T07:31:20.227Z"
   },
   {
    "duration": 34,
    "start_time": "2023-04-10T07:31:20.244Z"
   },
   {
    "duration": 176,
    "start_time": "2023-04-10T07:37:05.003Z"
   },
   {
    "duration": 77,
    "start_time": "2023-04-10T07:38:46.002Z"
   },
   {
    "duration": 200,
    "start_time": "2023-04-10T07:39:21.018Z"
   },
   {
    "duration": 272,
    "start_time": "2023-04-10T07:39:56.002Z"
   },
   {
    "duration": 4,
    "start_time": "2023-04-10T07:40:23.082Z"
   },
   {
    "duration": 5,
    "start_time": "2023-04-10T07:40:23.202Z"
   },
   {
    "duration": 9592,
    "start_time": "2023-04-10T07:40:34.546Z"
   },
   {
    "duration": 3,
    "start_time": "2023-04-10T07:41:13.636Z"
   },
   {
    "duration": 2325,
    "start_time": "2023-04-10T10:13:09.042Z"
   },
   {
    "duration": 6355,
    "start_time": "2023-04-10T10:13:11.370Z"
   },
   {
    "duration": 2483,
    "start_time": "2023-04-10T10:13:17.727Z"
   },
   {
    "duration": 38,
    "start_time": "2023-04-10T10:13:20.212Z"
   },
   {
    "duration": 58,
    "start_time": "2023-04-10T10:13:33.137Z"
   },
   {
    "duration": 6,
    "start_time": "2023-04-10T10:15:09.930Z"
   },
   {
    "duration": 2569,
    "start_time": "2023-04-10T10:15:50.399Z"
   },
   {
    "duration": 7475,
    "start_time": "2023-04-10T10:15:52.971Z"
   },
   {
    "duration": 2597,
    "start_time": "2023-04-10T10:16:00.449Z"
   },
   {
    "duration": 36,
    "start_time": "2023-04-10T10:16:03.048Z"
   },
   {
    "duration": 53,
    "start_time": "2023-04-10T10:16:17.914Z"
   },
   {
    "duration": 7,
    "start_time": "2023-04-10T10:16:18.200Z"
   },
   {
    "duration": 2576,
    "start_time": "2023-04-10T10:20:21.015Z"
   },
   {
    "duration": 6055,
    "start_time": "2023-04-10T10:20:23.593Z"
   },
   {
    "duration": 931,
    "start_time": "2023-04-10T10:20:29.651Z"
   },
   {
    "duration": 35,
    "start_time": "2023-04-10T10:20:30.584Z"
   },
   {
    "duration": 39,
    "start_time": "2023-04-10T10:20:30.634Z"
   },
   {
    "duration": 340,
    "start_time": "2023-04-10T10:20:30.675Z"
   },
   {
    "duration": 4080,
    "start_time": "2023-04-10T10:20:36.307Z"
   },
   {
    "duration": 29,
    "start_time": "2023-04-10T10:20:40.389Z"
   },
   {
    "duration": 37,
    "start_time": "2023-04-10T10:20:46.599Z"
   },
   {
    "duration": 9,
    "start_time": "2023-04-10T10:20:51.701Z"
   },
   {
    "duration": 4,
    "start_time": "2023-04-10T10:20:57.306Z"
   },
   {
    "duration": 4,
    "start_time": "2023-04-10T10:20:57.435Z"
   },
   {
    "duration": 8,
    "start_time": "2023-04-10T10:20:59.197Z"
   },
   {
    "duration": 4,
    "start_time": "2023-04-10T10:20:59.323Z"
   },
   {
    "duration": 5,
    "start_time": "2023-04-10T10:21:01.974Z"
   },
   {
    "duration": 263725,
    "start_time": "2023-04-10T10:21:05.803Z"
   },
   {
    "duration": 11,
    "start_time": "2023-04-10T10:25:29.530Z"
   },
   {
    "duration": 120,
    "start_time": "2023-04-10T10:25:29.542Z"
   },
   {
    "duration": 26,
    "start_time": "2023-04-10T10:25:29.665Z"
   },
   {
    "duration": 14,
    "start_time": "2023-04-10T10:25:29.693Z"
   },
   {
    "duration": 10,
    "start_time": "2023-04-10T10:25:29.733Z"
   },
   {
    "duration": 13,
    "start_time": "2023-04-10T10:25:29.745Z"
   },
   {
    "duration": 13,
    "start_time": "2023-04-10T10:25:29.760Z"
   },
   {
    "duration": 9219,
    "start_time": "2023-04-10T10:25:29.775Z"
   },
   {
    "duration": 3,
    "start_time": "2023-04-10T10:25:38.997Z"
   },
   {
    "duration": 2499081,
    "start_time": "2023-04-10T10:25:39.002Z"
   },
   {
    "duration": 110799,
    "start_time": "2023-04-10T11:07:18.085Z"
   },
   {
    "duration": 367,
    "start_time": "2023-04-10T11:09:08.885Z"
   },
   {
    "duration": 0,
    "start_time": "2023-04-10T11:09:09.254Z"
   },
   {
    "duration": 0,
    "start_time": "2023-04-10T11:09:09.255Z"
   },
   {
    "duration": 0,
    "start_time": "2023-04-10T11:09:09.256Z"
   },
   {
    "duration": 0,
    "start_time": "2023-04-10T11:09:09.257Z"
   },
   {
    "duration": 0,
    "start_time": "2023-04-10T11:09:09.258Z"
   },
   {
    "duration": 0,
    "start_time": "2023-04-10T11:09:09.259Z"
   },
   {
    "duration": 0,
    "start_time": "2023-04-10T11:09:09.260Z"
   },
   {
    "duration": 0,
    "start_time": "2023-04-10T11:09:09.261Z"
   },
   {
    "duration": 0,
    "start_time": "2023-04-10T11:09:09.263Z"
   },
   {
    "duration": 0,
    "start_time": "2023-04-10T11:09:09.264Z"
   },
   {
    "duration": 1,
    "start_time": "2023-04-10T11:09:09.264Z"
   },
   {
    "duration": 0,
    "start_time": "2023-04-10T11:09:09.266Z"
   },
   {
    "duration": 0,
    "start_time": "2023-04-10T11:09:09.267Z"
   },
   {
    "duration": 0,
    "start_time": "2023-04-10T11:09:09.268Z"
   },
   {
    "duration": 0,
    "start_time": "2023-04-10T11:09:09.269Z"
   },
   {
    "duration": 3,
    "start_time": "2023-04-10T11:20:19.650Z"
   },
   {
    "duration": 7,
    "start_time": "2023-04-10T11:20:23.863Z"
   },
   {
    "duration": 4787,
    "start_time": "2023-04-10T11:20:23.990Z"
   },
   {
    "duration": 0,
    "start_time": "2023-04-10T11:20:28.779Z"
   },
   {
    "duration": 22,
    "start_time": "2023-04-10T11:20:28.871Z"
   },
   {
    "duration": 46,
    "start_time": "2023-04-10T11:20:47.119Z"
   },
   {
    "duration": 103,
    "start_time": "2023-04-10T11:24:14.065Z"
   },
   {
    "duration": 98,
    "start_time": "2023-04-10T11:24:40.647Z"
   },
   {
    "duration": 2427,
    "start_time": "2023-04-10T11:32:10.765Z"
   },
   {
    "duration": 6992,
    "start_time": "2023-04-10T11:32:13.196Z"
   },
   {
    "duration": 2422,
    "start_time": "2023-04-10T11:32:20.190Z"
   },
   {
    "duration": 8,
    "start_time": "2023-04-10T11:32:22.614Z"
   },
   {
    "duration": 20,
    "start_time": "2023-04-10T11:32:22.624Z"
   },
   {
    "duration": 352,
    "start_time": "2023-04-10T11:32:22.646Z"
   },
   {
    "duration": 54,
    "start_time": "2023-04-10T11:32:41.646Z"
   },
   {
    "duration": 8,
    "start_time": "2023-04-10T11:33:00.766Z"
   },
   {
    "duration": 2411,
    "start_time": "2023-04-10T11:33:19.286Z"
   },
   {
    "duration": 6284,
    "start_time": "2023-04-10T11:33:21.699Z"
   },
   {
    "duration": 2426,
    "start_time": "2023-04-10T11:33:27.984Z"
   },
   {
    "duration": 11,
    "start_time": "2023-04-10T11:33:30.413Z"
   },
   {
    "duration": 41,
    "start_time": "2023-04-10T11:33:30.425Z"
   },
   {
    "duration": 399,
    "start_time": "2023-04-10T11:33:30.467Z"
   },
   {
    "duration": 2651,
    "start_time": "2023-04-10T11:33:47.057Z"
   },
   {
    "duration": 6494,
    "start_time": "2023-04-10T11:33:49.711Z"
   },
   {
    "duration": 2658,
    "start_time": "2023-04-10T11:33:56.208Z"
   },
   {
    "duration": 12,
    "start_time": "2023-04-10T11:33:58.868Z"
   },
   {
    "duration": 6,
    "start_time": "2023-04-10T11:33:58.883Z"
   },
   {
    "duration": 329,
    "start_time": "2023-04-10T11:33:58.976Z"
   },
   {
    "duration": 54,
    "start_time": "2023-04-10T11:34:19.361Z"
   },
   {
    "duration": 2479,
    "start_time": "2023-04-10T11:43:57.444Z"
   },
   {
    "duration": 7010,
    "start_time": "2023-04-10T11:43:59.925Z"
   },
   {
    "duration": 2431,
    "start_time": "2023-04-10T11:44:06.936Z"
   },
   {
    "duration": 8,
    "start_time": "2023-04-10T11:44:09.369Z"
   },
   {
    "duration": 28,
    "start_time": "2023-04-10T11:44:09.379Z"
   },
   {
    "duration": 330,
    "start_time": "2023-04-10T11:44:09.409Z"
   },
   {
    "duration": 303,
    "start_time": "2023-04-10T11:44:09.741Z"
   },
   {
    "duration": 4165,
    "start_time": "2023-04-10T11:44:10.046Z"
   },
   {
    "duration": 28,
    "start_time": "2023-04-10T11:44:14.213Z"
   },
   {
    "duration": 35,
    "start_time": "2023-04-10T11:44:14.250Z"
   },
   {
    "duration": 8,
    "start_time": "2023-04-10T11:44:14.286Z"
   },
   {
    "duration": 37,
    "start_time": "2023-04-10T11:44:14.295Z"
   },
   {
    "duration": 4,
    "start_time": "2023-04-10T11:44:14.334Z"
   },
   {
    "duration": 10,
    "start_time": "2023-04-10T11:44:14.340Z"
   },
   {
    "duration": 4,
    "start_time": "2023-04-10T11:44:14.352Z"
   },
   {
    "duration": 10,
    "start_time": "2023-04-10T11:44:14.358Z"
   },
   {
    "duration": 267911,
    "start_time": "2023-04-10T11:44:14.370Z"
   },
   {
    "duration": 16,
    "start_time": "2023-04-10T11:48:42.285Z"
   },
   {
    "duration": 126,
    "start_time": "2023-04-10T11:48:42.304Z"
   },
   {
    "duration": 24,
    "start_time": "2023-04-10T11:48:42.432Z"
   },
   {
    "duration": 14,
    "start_time": "2023-04-10T11:48:42.458Z"
   },
   {
    "duration": 27,
    "start_time": "2023-04-10T11:48:42.475Z"
   },
   {
    "duration": 110,
    "start_time": "2023-04-10T11:48:42.505Z"
   },
   {
    "duration": 0,
    "start_time": "2023-04-10T11:48:42.617Z"
   },
   {
    "duration": 0,
    "start_time": "2023-04-10T11:48:42.619Z"
   },
   {
    "duration": 0,
    "start_time": "2023-04-10T11:48:42.620Z"
   },
   {
    "duration": 0,
    "start_time": "2023-04-10T11:48:42.621Z"
   },
   {
    "duration": 0,
    "start_time": "2023-04-10T11:48:42.622Z"
   },
   {
    "duration": 0,
    "start_time": "2023-04-10T11:48:42.623Z"
   },
   {
    "duration": 0,
    "start_time": "2023-04-10T11:48:42.625Z"
   },
   {
    "duration": 0,
    "start_time": "2023-04-10T11:48:42.626Z"
   },
   {
    "duration": 0,
    "start_time": "2023-04-10T11:48:42.627Z"
   },
   {
    "duration": 0,
    "start_time": "2023-04-10T11:48:42.628Z"
   },
   {
    "duration": 0,
    "start_time": "2023-04-10T11:48:42.629Z"
   },
   {
    "duration": 0,
    "start_time": "2023-04-10T11:48:42.631Z"
   },
   {
    "duration": 0,
    "start_time": "2023-04-10T11:48:42.632Z"
   },
   {
    "duration": 0,
    "start_time": "2023-04-10T11:48:42.634Z"
   },
   {
    "duration": 0,
    "start_time": "2023-04-10T11:48:42.635Z"
   },
   {
    "duration": 0,
    "start_time": "2023-04-10T11:48:42.637Z"
   },
   {
    "duration": 0,
    "start_time": "2023-04-10T11:48:42.638Z"
   },
   {
    "duration": 0,
    "start_time": "2023-04-10T11:48:42.639Z"
   },
   {
    "duration": 0,
    "start_time": "2023-04-10T11:48:42.641Z"
   },
   {
    "duration": 0,
    "start_time": "2023-04-10T11:48:42.642Z"
   },
   {
    "duration": 0,
    "start_time": "2023-04-10T11:48:42.644Z"
   },
   {
    "duration": 75,
    "start_time": "2023-04-10T11:55:08.905Z"
   },
   {
    "duration": 4,
    "start_time": "2023-04-10T11:55:22.403Z"
   },
   {
    "duration": 4,
    "start_time": "2023-04-10T11:55:25.016Z"
   },
   {
    "duration": 8615,
    "start_time": "2023-04-10T11:55:26.320Z"
   },
   {
    "duration": 4,
    "start_time": "2023-04-10T11:55:34.937Z"
   },
   {
    "duration": 2600367,
    "start_time": "2023-04-10T11:55:34.942Z"
   },
   {
    "duration": 119297,
    "start_time": "2023-04-10T12:38:55.312Z"
   },
   {
    "duration": 401,
    "start_time": "2023-04-10T12:40:54.611Z"
   },
   {
    "duration": 0,
    "start_time": "2023-04-10T12:40:55.014Z"
   },
   {
    "duration": 0,
    "start_time": "2023-04-10T12:40:55.016Z"
   },
   {
    "duration": 0,
    "start_time": "2023-04-10T12:40:55.019Z"
   },
   {
    "duration": 9,
    "start_time": "2023-04-10T12:43:23.605Z"
   },
   {
    "duration": 22,
    "start_time": "2023-04-10T12:43:23.758Z"
   },
   {
    "duration": 2,
    "start_time": "2023-04-10T12:43:42.576Z"
   },
   {
    "duration": 3,
    "start_time": "2023-04-10T12:43:49.076Z"
   },
   {
    "duration": 10,
    "start_time": "2023-04-10T12:43:52.960Z"
   },
   {
    "duration": 4226,
    "start_time": "2023-04-10T12:44:08.860Z"
   },
   {
    "duration": 26,
    "start_time": "2023-04-10T12:44:24.324Z"
   },
   {
    "duration": 6,
    "start_time": "2023-04-10T12:45:25.430Z"
   },
   {
    "duration": 10,
    "start_time": "2023-04-10T12:45:27.936Z"
   },
   {
    "duration": 23,
    "start_time": "2023-04-10T12:45:33.942Z"
   },
   {
    "duration": 43,
    "start_time": "2023-04-10T12:45:53.165Z"
   },
   {
    "duration": 1362,
    "start_time": "2023-04-10T12:47:54.705Z"
   },
   {
    "duration": 7,
    "start_time": "2023-04-10T12:47:56.070Z"
   },
   {
    "duration": 3,
    "start_time": "2023-04-10T12:48:00.004Z"
   },
   {
    "duration": 5,
    "start_time": "2023-04-10T12:48:01.222Z"
   },
   {
    "duration": 296302,
    "start_time": "2023-04-10T12:48:08.268Z"
   },
   {
    "duration": 0,
    "start_time": "2023-04-10T12:53:04.574Z"
   },
   {
    "duration": 0,
    "start_time": "2023-04-10T12:53:04.575Z"
   },
   {
    "duration": 0,
    "start_time": "2023-04-10T12:53:04.576Z"
   },
   {
    "duration": 0,
    "start_time": "2023-04-10T12:53:04.578Z"
   },
   {
    "duration": 0,
    "start_time": "2023-04-10T12:53:04.579Z"
   },
   {
    "duration": 0,
    "start_time": "2023-04-10T12:53:04.581Z"
   },
   {
    "duration": 95,
    "start_time": "2023-04-10T12:53:26.907Z"
   },
   {
    "duration": 4,
    "start_time": "2023-04-10T12:53:27.053Z"
   },
   {
    "duration": 4,
    "start_time": "2023-04-10T12:53:53.424Z"
   },
   {
    "duration": 5,
    "start_time": "2023-04-10T12:53:56.715Z"
   },
   {
    "duration": 10494,
    "start_time": "2023-04-10T12:53:58.987Z"
   },
   {
    "duration": 3,
    "start_time": "2023-04-10T12:54:09.484Z"
   },
   {
    "duration": 2898,
    "start_time": "2023-04-10T12:56:50.683Z"
   },
   {
    "duration": 6872,
    "start_time": "2023-04-10T12:56:53.584Z"
   },
   {
    "duration": 1319,
    "start_time": "2023-04-10T12:57:00.458Z"
   },
   {
    "duration": 19,
    "start_time": "2023-04-10T12:57:01.781Z"
   },
   {
    "duration": 35,
    "start_time": "2023-04-10T12:57:01.805Z"
   },
   {
    "duration": 662,
    "start_time": "2023-04-10T12:57:01.844Z"
   },
   {
    "duration": 443,
    "start_time": "2023-04-10T12:57:02.509Z"
   },
   {
    "duration": 5359,
    "start_time": "2023-04-10T12:57:02.955Z"
   },
   {
    "duration": 36,
    "start_time": "2023-04-10T12:57:08.316Z"
   },
   {
    "duration": 52,
    "start_time": "2023-04-10T12:57:08.364Z"
   },
   {
    "duration": 18,
    "start_time": "2023-04-10T12:57:08.418Z"
   },
   {
    "duration": 24,
    "start_time": "2023-04-10T12:57:08.438Z"
   },
   {
    "duration": 15,
    "start_time": "2023-04-10T12:57:08.464Z"
   },
   {
    "duration": 27,
    "start_time": "2023-04-10T12:57:08.481Z"
   },
   {
    "duration": 14,
    "start_time": "2023-04-10T12:57:08.510Z"
   },
   {
    "duration": 31,
    "start_time": "2023-04-10T12:57:08.527Z"
   },
   {
    "duration": 2808,
    "start_time": "2023-04-10T12:57:50.602Z"
   },
   {
    "duration": 2889,
    "start_time": "2023-04-10T12:57:59.224Z"
   },
   {
    "duration": 6406,
    "start_time": "2023-04-10T12:58:02.116Z"
   },
   {
    "duration": 1056,
    "start_time": "2023-04-10T12:58:08.524Z"
   },
   {
    "duration": 15,
    "start_time": "2023-04-10T12:58:09.584Z"
   },
   {
    "duration": 9,
    "start_time": "2023-04-10T12:58:09.602Z"
   },
   {
    "duration": 448,
    "start_time": "2023-04-10T12:58:09.614Z"
   },
   {
    "duration": 363,
    "start_time": "2023-04-10T12:58:10.065Z"
   },
   {
    "duration": 4894,
    "start_time": "2023-04-10T12:58:10.430Z"
   },
   {
    "duration": 44,
    "start_time": "2023-04-10T12:58:15.327Z"
   },
   {
    "duration": 66,
    "start_time": "2023-04-10T12:58:15.382Z"
   },
   {
    "duration": 10,
    "start_time": "2023-04-10T12:58:15.450Z"
   },
   {
    "duration": 10,
    "start_time": "2023-04-10T12:58:15.462Z"
   },
   {
    "duration": 26,
    "start_time": "2023-04-10T12:58:15.475Z"
   },
   {
    "duration": 25,
    "start_time": "2023-04-10T12:58:15.503Z"
   },
   {
    "duration": 16,
    "start_time": "2023-04-10T12:58:15.530Z"
   },
   {
    "duration": 34,
    "start_time": "2023-04-10T12:58:15.549Z"
   },
   {
    "duration": 282889,
    "start_time": "2023-04-10T12:58:15.586Z"
   },
   {
    "duration": 11,
    "start_time": "2023-04-10T13:02:58.478Z"
   },
   {
    "duration": 131,
    "start_time": "2023-04-10T13:02:58.492Z"
   },
   {
    "duration": 30,
    "start_time": "2023-04-10T13:02:58.625Z"
   },
   {
    "duration": 12,
    "start_time": "2023-04-10T13:02:58.658Z"
   },
   {
    "duration": 16,
    "start_time": "2023-04-10T13:02:58.673Z"
   },
   {
    "duration": 4,
    "start_time": "2023-04-10T13:02:58.691Z"
   },
   {
    "duration": 12,
    "start_time": "2023-04-10T13:02:58.697Z"
   },
   {
    "duration": 10160,
    "start_time": "2023-04-10T13:02:58.710Z"
   },
   {
    "duration": 3,
    "start_time": "2023-04-10T13:03:08.872Z"
   },
   {
    "duration": 2596045,
    "start_time": "2023-04-10T13:03:08.878Z"
   },
   {
    "duration": 117205,
    "start_time": "2023-04-10T13:46:24.936Z"
   },
   {
    "duration": 419,
    "start_time": "2023-04-10T13:48:22.143Z"
   },
   {
    "duration": 0,
    "start_time": "2023-04-10T13:48:22.565Z"
   },
   {
    "duration": 0,
    "start_time": "2023-04-10T13:48:22.566Z"
   },
   {
    "duration": 0,
    "start_time": "2023-04-10T13:48:22.567Z"
   },
   {
    "duration": 0,
    "start_time": "2023-04-10T13:48:22.569Z"
   },
   {
    "duration": 0,
    "start_time": "2023-04-10T13:48:22.570Z"
   },
   {
    "duration": 0,
    "start_time": "2023-04-10T13:48:22.571Z"
   },
   {
    "duration": 0,
    "start_time": "2023-04-10T13:48:22.572Z"
   },
   {
    "duration": 0,
    "start_time": "2023-04-10T13:48:22.573Z"
   },
   {
    "duration": 0,
    "start_time": "2023-04-10T13:48:22.574Z"
   },
   {
    "duration": 0,
    "start_time": "2023-04-10T13:48:22.575Z"
   },
   {
    "duration": 0,
    "start_time": "2023-04-10T13:48:22.577Z"
   },
   {
    "duration": 0,
    "start_time": "2023-04-10T13:48:22.578Z"
   },
   {
    "duration": 0,
    "start_time": "2023-04-10T13:48:22.579Z"
   },
   {
    "duration": 0,
    "start_time": "2023-04-10T13:48:22.580Z"
   },
   {
    "duration": 0,
    "start_time": "2023-04-10T13:48:22.581Z"
   },
   {
    "duration": 10,
    "start_time": "2023-04-10T14:03:43.539Z"
   },
   {
    "duration": 5,
    "start_time": "2023-04-10T14:03:50.142Z"
   },
   {
    "duration": 9,
    "start_time": "2023-04-10T14:03:53.943Z"
   },
   {
    "duration": 4574,
    "start_time": "2023-04-10T14:03:58.556Z"
   },
   {
    "duration": 7798,
    "start_time": "2023-04-12T11:45:36.593Z"
   },
   {
    "duration": 2760,
    "start_time": "2023-04-12T11:45:44.393Z"
   },
   {
    "duration": 3462,
    "start_time": "2023-04-12T11:45:47.155Z"
   },
   {
    "duration": 30,
    "start_time": "2023-04-12T11:47:08.076Z"
   },
   {
    "duration": 359,
    "start_time": "2023-04-12T11:48:14.305Z"
   },
   {
    "duration": 209,
    "start_time": "2023-04-12T11:48:28.134Z"
   },
   {
    "duration": 259,
    "start_time": "2023-04-12T11:49:10.110Z"
   },
   {
    "duration": 8,
    "start_time": "2023-04-12T11:50:46.010Z"
   },
   {
    "duration": 5420,
    "start_time": "2023-04-12T11:52:55.124Z"
   },
   {
    "duration": 5,
    "start_time": "2023-04-12T11:53:58.511Z"
   },
   {
    "duration": 10982,
    "start_time": "2023-04-12T11:55:01.601Z"
   },
   {
    "duration": 10,
    "start_time": "2023-04-12T11:55:55.216Z"
   },
   {
    "duration": 202047,
    "start_time": "2023-04-12T11:57:54.918Z"
   },
   {
    "duration": 39,
    "start_time": "2023-04-12T12:01:16.967Z"
   },
   {
    "duration": 199,
    "start_time": "2023-04-12T12:01:17.008Z"
   },
   {
    "duration": 3,
    "start_time": "2023-04-12T12:01:44.371Z"
   },
   {
    "duration": 27,
    "start_time": "2023-04-12T12:02:52.904Z"
   },
   {
    "duration": 5,
    "start_time": "2023-04-12T12:03:36.321Z"
   },
   {
    "duration": 24,
    "start_time": "2023-04-12T12:04:46.172Z"
   },
   {
    "duration": 18,
    "start_time": "2023-04-12T12:08:04.744Z"
   },
   {
    "duration": 24,
    "start_time": "2023-04-12T12:08:23.959Z"
   },
   {
    "duration": 18,
    "start_time": "2023-04-12T12:11:12.381Z"
   },
   {
    "duration": 19,
    "start_time": "2023-04-12T12:13:27.485Z"
   },
   {
    "duration": 2334,
    "start_time": "2023-04-12T12:30:41.834Z"
   },
   {
    "duration": 6191,
    "start_time": "2023-04-12T12:30:44.170Z"
   },
   {
    "duration": 858,
    "start_time": "2023-04-12T12:30:50.363Z"
   },
   {
    "duration": 32,
    "start_time": "2023-04-12T12:30:51.223Z"
   },
   {
    "duration": 249,
    "start_time": "2023-04-12T12:30:51.257Z"
   },
   {
    "duration": 270,
    "start_time": "2023-04-12T12:30:51.507Z"
   },
   {
    "duration": 9,
    "start_time": "2023-04-12T12:30:51.779Z"
   },
   {
    "duration": 331,
    "start_time": "2023-04-12T12:30:51.790Z"
   },
   {
    "duration": 0,
    "start_time": "2023-04-12T12:30:52.123Z"
   },
   {
    "duration": 0,
    "start_time": "2023-04-12T12:30:52.124Z"
   },
   {
    "duration": 0,
    "start_time": "2023-04-12T12:30:52.125Z"
   },
   {
    "duration": 0,
    "start_time": "2023-04-12T12:30:52.126Z"
   },
   {
    "duration": 0,
    "start_time": "2023-04-12T12:30:52.127Z"
   },
   {
    "duration": 0,
    "start_time": "2023-04-12T12:30:52.128Z"
   },
   {
    "duration": 0,
    "start_time": "2023-04-12T12:30:52.129Z"
   },
   {
    "duration": 0,
    "start_time": "2023-04-12T12:30:52.130Z"
   },
   {
    "duration": 0,
    "start_time": "2023-04-12T12:30:52.131Z"
   },
   {
    "duration": 0,
    "start_time": "2023-04-12T12:30:52.132Z"
   },
   {
    "duration": 0,
    "start_time": "2023-04-12T12:30:52.133Z"
   },
   {
    "duration": 0,
    "start_time": "2023-04-12T12:30:52.134Z"
   },
   {
    "duration": 0,
    "start_time": "2023-04-12T12:30:52.135Z"
   },
   {
    "duration": 0,
    "start_time": "2023-04-12T12:30:52.136Z"
   },
   {
    "duration": 0,
    "start_time": "2023-04-12T12:30:52.137Z"
   },
   {
    "duration": 0,
    "start_time": "2023-04-12T12:30:52.138Z"
   },
   {
    "duration": 2464,
    "start_time": "2023-04-12T12:32:32.490Z"
   },
   {
    "duration": 6510,
    "start_time": "2023-04-12T12:32:34.957Z"
   },
   {
    "duration": 861,
    "start_time": "2023-04-12T12:32:41.469Z"
   },
   {
    "duration": 31,
    "start_time": "2023-04-12T12:32:42.332Z"
   },
   {
    "duration": 246,
    "start_time": "2023-04-12T12:32:42.365Z"
   },
   {
    "duration": 247,
    "start_time": "2023-04-12T12:32:42.613Z"
   },
   {
    "duration": 6,
    "start_time": "2023-04-12T12:32:42.861Z"
   },
   {
    "duration": 3526,
    "start_time": "2023-04-12T12:32:42.869Z"
   },
   {
    "duration": 4,
    "start_time": "2023-04-12T12:32:46.397Z"
   },
   {
    "duration": 620,
    "start_time": "2023-04-12T12:32:46.403Z"
   },
   {
    "duration": 24,
    "start_time": "2023-04-12T12:32:47.025Z"
   },
   {
    "duration": 0,
    "start_time": "2023-04-12T12:32:47.051Z"
   },
   {
    "duration": 0,
    "start_time": "2023-04-12T12:32:47.052Z"
   },
   {
    "duration": 0,
    "start_time": "2023-04-12T12:32:47.053Z"
   },
   {
    "duration": 0,
    "start_time": "2023-04-12T12:32:47.054Z"
   },
   {
    "duration": 0,
    "start_time": "2023-04-12T12:32:47.057Z"
   },
   {
    "duration": 0,
    "start_time": "2023-04-12T12:32:47.058Z"
   },
   {
    "duration": 0,
    "start_time": "2023-04-12T12:32:47.059Z"
   },
   {
    "duration": 0,
    "start_time": "2023-04-12T12:32:47.060Z"
   },
   {
    "duration": 0,
    "start_time": "2023-04-12T12:32:47.061Z"
   },
   {
    "duration": 0,
    "start_time": "2023-04-12T12:32:47.062Z"
   },
   {
    "duration": 0,
    "start_time": "2023-04-12T12:32:47.063Z"
   },
   {
    "duration": 0,
    "start_time": "2023-04-12T12:32:47.064Z"
   },
   {
    "duration": 0,
    "start_time": "2023-04-12T12:32:47.065Z"
   },
   {
    "duration": 2261,
    "start_time": "2023-04-12T12:34:09.869Z"
   },
   {
    "duration": 5769,
    "start_time": "2023-04-12T12:34:12.133Z"
   },
   {
    "duration": 866,
    "start_time": "2023-04-12T12:34:17.904Z"
   },
   {
    "duration": 30,
    "start_time": "2023-04-12T12:34:18.772Z"
   },
   {
    "duration": 248,
    "start_time": "2023-04-12T12:34:18.804Z"
   },
   {
    "duration": 261,
    "start_time": "2023-04-12T12:34:19.054Z"
   },
   {
    "duration": 6,
    "start_time": "2023-04-12T12:34:19.317Z"
   },
   {
    "duration": 2336,
    "start_time": "2023-04-12T12:34:19.325Z"
   },
   {
    "duration": 4,
    "start_time": "2023-04-12T12:34:21.663Z"
   },
   {
    "duration": 11104,
    "start_time": "2023-04-12T12:34:21.670Z"
   },
   {
    "duration": 12,
    "start_time": "2023-04-12T12:34:32.775Z"
   },
   {
    "duration": 358,
    "start_time": "2023-04-12T12:34:32.789Z"
   },
   {
    "duration": 0,
    "start_time": "2023-04-12T12:34:33.148Z"
   },
   {
    "duration": 0,
    "start_time": "2023-04-12T12:34:33.150Z"
   },
   {
    "duration": 0,
    "start_time": "2023-04-12T12:34:33.153Z"
   },
   {
    "duration": 0,
    "start_time": "2023-04-12T12:34:33.154Z"
   },
   {
    "duration": 0,
    "start_time": "2023-04-12T12:34:33.155Z"
   },
   {
    "duration": 0,
    "start_time": "2023-04-12T12:34:33.157Z"
   },
   {
    "duration": 0,
    "start_time": "2023-04-12T12:34:33.158Z"
   },
   {
    "duration": 0,
    "start_time": "2023-04-12T12:34:33.160Z"
   },
   {
    "duration": 0,
    "start_time": "2023-04-12T12:34:33.185Z"
   },
   {
    "duration": 0,
    "start_time": "2023-04-12T12:34:33.186Z"
   },
   {
    "duration": 0,
    "start_time": "2023-04-12T12:34:33.188Z"
   },
   {
    "duration": 0,
    "start_time": "2023-04-12T12:34:33.189Z"
   },
   {
    "duration": 14,
    "start_time": "2023-04-12T12:34:59.798Z"
   },
   {
    "duration": 8,
    "start_time": "2023-04-12T12:35:05.950Z"
   },
   {
    "duration": 2321,
    "start_time": "2023-04-12T12:39:24.305Z"
   },
   {
    "duration": 1701,
    "start_time": "2023-04-12T12:39:26.930Z"
   },
   {
    "duration": 927,
    "start_time": "2023-04-12T12:39:28.633Z"
   },
   {
    "duration": 44,
    "start_time": "2023-04-12T12:39:29.562Z"
   },
   {
    "duration": 235,
    "start_time": "2023-04-12T12:39:31.099Z"
   },
   {
    "duration": 253,
    "start_time": "2023-04-12T12:39:32.501Z"
   },
   {
    "duration": 7,
    "start_time": "2023-04-12T12:39:34.901Z"
   },
   {
    "duration": 328,
    "start_time": "2023-04-12T12:39:38.042Z"
   },
   {
    "duration": 4338,
    "start_time": "2023-04-12T12:39:42.899Z"
   },
   {
    "duration": 29,
    "start_time": "2023-04-12T12:39:47.239Z"
   },
   {
    "duration": 33,
    "start_time": "2023-04-12T12:41:15.289Z"
   },
   {
    "duration": 8,
    "start_time": "2023-04-12T12:41:19.475Z"
   },
   {
    "duration": 3,
    "start_time": "2023-04-12T12:42:02.393Z"
   },
   {
    "duration": 4,
    "start_time": "2023-04-12T12:42:03.334Z"
   },
   {
    "duration": 8,
    "start_time": "2023-04-12T12:42:04.681Z"
   },
   {
    "duration": 3,
    "start_time": "2023-04-12T12:42:06.020Z"
   },
   {
    "duration": 4,
    "start_time": "2023-04-12T12:42:07.787Z"
   },
   {
    "duration": 257993,
    "start_time": "2023-04-12T12:42:15.707Z"
   },
   {
    "duration": 9,
    "start_time": "2023-04-12T12:46:33.702Z"
   },
   {
    "duration": 97,
    "start_time": "2023-04-12T12:46:33.713Z"
   },
   {
    "duration": 19,
    "start_time": "2023-04-12T12:46:33.812Z"
   },
   {
    "duration": 11,
    "start_time": "2023-04-12T12:46:33.833Z"
   },
   {
    "duration": 9,
    "start_time": "2023-04-12T12:46:33.845Z"
   },
   {
    "duration": 22,
    "start_time": "2023-04-12T12:54:40.389Z"
   },
   {
    "duration": 4,
    "start_time": "2023-04-12T12:54:50.581Z"
   },
   {
    "duration": 25,
    "start_time": "2023-04-12T12:55:01.208Z"
   },
   {
    "duration": 67,
    "start_time": "2023-04-12T13:03:34.715Z"
   },
   {
    "duration": 8471,
    "start_time": "2023-04-12T13:05:38.637Z"
   },
   {
    "duration": 5,
    "start_time": "2023-04-12T13:06:10.741Z"
   },
   {
    "duration": 253977,
    "start_time": "2023-04-12T13:06:31.943Z"
   },
   {
    "duration": 0,
    "start_time": "2023-04-12T13:10:45.922Z"
   },
   {
    "duration": 274,
    "start_time": "2023-04-12T14:07:58.372Z"
   },
   {
    "duration": 6,
    "start_time": "2023-04-12T14:08:22.756Z"
   },
   {
    "duration": 23,
    "start_time": "2023-04-12T14:08:31.437Z"
   },
   {
    "duration": 1091,
    "start_time": "2023-04-12T14:10:08.846Z"
   },
   {
    "duration": 1383,
    "start_time": "2023-04-12T14:10:32.878Z"
   },
   {
    "duration": 1270,
    "start_time": "2023-04-12T14:11:10.565Z"
   },
   {
    "duration": 24,
    "start_time": "2023-04-12T14:17:34.182Z"
   },
   {
    "duration": 345,
    "start_time": "2023-04-12T14:18:12.844Z"
   },
   {
    "duration": 375,
    "start_time": "2023-04-12T14:19:59.876Z"
   },
   {
    "duration": 108,
    "start_time": "2023-04-12T14:24:59.359Z"
   },
   {
    "duration": 2320,
    "start_time": "2023-04-12T14:29:29.466Z"
   },
   {
    "duration": 5743,
    "start_time": "2023-04-12T14:29:31.789Z"
   },
   {
    "duration": 908,
    "start_time": "2023-04-12T14:29:37.534Z"
   },
   {
    "duration": 41,
    "start_time": "2023-04-12T14:29:38.445Z"
   },
   {
    "duration": 252,
    "start_time": "2023-04-12T14:29:38.488Z"
   },
   {
    "duration": 275,
    "start_time": "2023-04-12T14:29:38.742Z"
   },
   {
    "duration": 6,
    "start_time": "2023-04-12T14:29:39.019Z"
   },
   {
    "duration": 307,
    "start_time": "2023-04-12T14:29:39.027Z"
   },
   {
    "duration": 3891,
    "start_time": "2023-04-12T14:29:39.336Z"
   },
   {
    "duration": 29,
    "start_time": "2023-04-12T14:29:43.237Z"
   },
   {
    "duration": 52,
    "start_time": "2023-04-12T14:29:43.267Z"
   },
   {
    "duration": 8,
    "start_time": "2023-04-12T14:29:43.321Z"
   },
   {
    "duration": 8,
    "start_time": "2023-04-12T14:29:43.331Z"
   },
   {
    "duration": 6,
    "start_time": "2023-04-12T14:29:43.341Z"
   },
   {
    "duration": 10,
    "start_time": "2023-04-12T14:29:43.349Z"
   },
   {
    "duration": 24,
    "start_time": "2023-04-12T14:29:43.361Z"
   },
   {
    "duration": 5,
    "start_time": "2023-04-12T14:29:43.388Z"
   },
   {
    "duration": 243173,
    "start_time": "2023-04-12T14:29:43.395Z"
   },
   {
    "duration": 9,
    "start_time": "2023-04-12T14:33:46.569Z"
   },
   {
    "duration": 106,
    "start_time": "2023-04-12T14:33:46.580Z"
   },
   {
    "duration": 20,
    "start_time": "2023-04-12T14:33:46.688Z"
   },
   {
    "duration": 12,
    "start_time": "2023-04-12T14:33:46.709Z"
   },
   {
    "duration": 8,
    "start_time": "2023-04-12T14:33:46.723Z"
   },
   {
    "duration": 69,
    "start_time": "2023-04-12T14:33:46.733Z"
   },
   {
    "duration": 0,
    "start_time": "2023-04-12T14:33:46.804Z"
   },
   {
    "duration": 0,
    "start_time": "2023-04-12T14:33:46.805Z"
   },
   {
    "duration": 0,
    "start_time": "2023-04-12T14:33:46.806Z"
   },
   {
    "duration": 0,
    "start_time": "2023-04-12T14:33:46.807Z"
   },
   {
    "duration": 0,
    "start_time": "2023-04-12T14:33:46.808Z"
   },
   {
    "duration": 0,
    "start_time": "2023-04-12T14:33:46.810Z"
   },
   {
    "duration": 0,
    "start_time": "2023-04-12T14:33:46.810Z"
   },
   {
    "duration": 0,
    "start_time": "2023-04-12T14:33:46.812Z"
   },
   {
    "duration": 0,
    "start_time": "2023-04-12T14:33:46.813Z"
   },
   {
    "duration": 0,
    "start_time": "2023-04-12T14:33:46.814Z"
   },
   {
    "duration": 4,
    "start_time": "2023-04-12T14:34:35.437Z"
   },
   {
    "duration": 4,
    "start_time": "2023-04-12T14:34:40.509Z"
   },
   {
    "duration": 9430,
    "start_time": "2023-04-12T14:34:46.109Z"
   },
   {
    "duration": 2,
    "start_time": "2023-04-12T14:34:55.541Z"
   },
   {
    "duration": 2487212,
    "start_time": "2023-04-12T14:34:55.545Z"
   },
   {
    "duration": 112703,
    "start_time": "2023-04-12T15:16:22.759Z"
   },
   {
    "duration": 357,
    "start_time": "2023-04-12T15:18:15.464Z"
   },
   {
    "duration": 0,
    "start_time": "2023-04-12T15:18:15.822Z"
   },
   {
    "duration": 0,
    "start_time": "2023-04-12T15:18:15.824Z"
   },
   {
    "duration": 4,
    "start_time": "2023-04-12T15:27:39.146Z"
   },
   {
    "duration": 3,
    "start_time": "2023-04-12T15:27:40.387Z"
   },
   {
    "duration": 10308,
    "start_time": "2023-04-12T15:27:53.291Z"
   },
   {
    "duration": 3,
    "start_time": "2023-04-12T15:28:05.179Z"
   },
   {
    "duration": 2596985,
    "start_time": "2023-04-12T15:28:07.593Z"
   },
   {
    "duration": 122885,
    "start_time": "2023-04-12T16:11:24.586Z"
   },
   {
    "duration": 46,
    "start_time": "2023-04-12T16:13:27.473Z"
   },
   {
    "duration": 0,
    "start_time": "2023-04-12T16:13:27.521Z"
   },
   {
    "duration": 0,
    "start_time": "2023-04-12T16:13:27.522Z"
   },
   {
    "duration": 2104,
    "start_time": "2023-04-13T00:43:15.974Z"
   },
   {
    "duration": 6507,
    "start_time": "2023-04-13T00:43:18.081Z"
   },
   {
    "duration": 895,
    "start_time": "2023-04-13T00:43:24.590Z"
   },
   {
    "duration": 34,
    "start_time": "2023-04-13T00:43:25.487Z"
   },
   {
    "duration": 252,
    "start_time": "2023-04-13T00:43:25.522Z"
   },
   {
    "duration": 263,
    "start_time": "2023-04-13T00:43:25.777Z"
   },
   {
    "duration": 8,
    "start_time": "2023-04-13T00:43:26.042Z"
   },
   {
    "duration": 320,
    "start_time": "2023-04-13T00:43:26.052Z"
   },
   {
    "duration": 4213,
    "start_time": "2023-04-13T00:43:26.375Z"
   },
   {
    "duration": 34,
    "start_time": "2023-04-13T00:43:30.598Z"
   },
   {
    "duration": 65,
    "start_time": "2023-04-13T00:43:30.634Z"
   },
   {
    "duration": 8,
    "start_time": "2023-04-13T00:43:30.701Z"
   },
   {
    "duration": 29,
    "start_time": "2023-04-13T00:43:30.710Z"
   },
   {
    "duration": 42,
    "start_time": "2023-04-13T00:43:30.741Z"
   },
   {
    "duration": 31,
    "start_time": "2023-04-13T00:43:30.785Z"
   },
   {
    "duration": 33,
    "start_time": "2023-04-13T00:43:30.818Z"
   },
   {
    "duration": 23,
    "start_time": "2023-04-13T00:43:30.853Z"
   },
   {
    "duration": 227587,
    "start_time": "2023-04-13T00:43:30.878Z"
   },
   {
    "duration": 9,
    "start_time": "2023-04-13T00:47:18.467Z"
   },
   {
    "duration": 113,
    "start_time": "2023-04-13T00:47:18.485Z"
   },
   {
    "duration": 22,
    "start_time": "2023-04-13T00:47:18.599Z"
   },
   {
    "duration": 10,
    "start_time": "2023-04-13T00:47:18.623Z"
   },
   {
    "duration": 7,
    "start_time": "2023-04-13T00:47:18.635Z"
   },
   {
    "duration": 5,
    "start_time": "2023-04-13T00:47:18.644Z"
   },
   {
    "duration": 8,
    "start_time": "2023-04-13T00:47:18.651Z"
   },
   {
    "duration": 2,
    "start_time": "2023-04-13T00:47:18.686Z"
   },
   {
    "duration": 6,
    "start_time": "2023-04-13T00:47:18.690Z"
   },
   {
    "duration": 9832,
    "start_time": "2023-04-13T00:47:18.700Z"
   },
   {
    "duration": 4,
    "start_time": "2023-04-13T00:47:28.533Z"
   },
   {
    "duration": 2360519,
    "start_time": "2023-04-13T00:47:28.538Z"
   },
   {
    "duration": 109206,
    "start_time": "2023-04-13T01:26:49.058Z"
   },
   {
    "duration": 349,
    "start_time": "2023-04-13T01:28:38.266Z"
   },
   {
    "duration": 0,
    "start_time": "2023-04-13T01:28:38.616Z"
   },
   {
    "duration": 0,
    "start_time": "2023-04-13T01:28:38.618Z"
   },
   {
    "duration": 2283,
    "start_time": "2023-04-13T06:28:38.382Z"
   },
   {
    "duration": 6639,
    "start_time": "2023-04-13T06:28:40.667Z"
   },
   {
    "duration": 891,
    "start_time": "2023-04-13T06:28:47.308Z"
   },
   {
    "duration": 36,
    "start_time": "2023-04-13T06:28:48.201Z"
   },
   {
    "duration": 266,
    "start_time": "2023-04-13T06:28:48.239Z"
   },
   {
    "duration": 289,
    "start_time": "2023-04-13T06:28:48.507Z"
   },
   {
    "duration": 7,
    "start_time": "2023-04-13T06:28:48.798Z"
   },
   {
    "duration": 308,
    "start_time": "2023-04-13T06:28:48.806Z"
   },
   {
    "duration": 4006,
    "start_time": "2023-04-13T06:28:49.116Z"
   },
   {
    "duration": 30,
    "start_time": "2023-04-13T06:28:53.132Z"
   },
   {
    "duration": 51,
    "start_time": "2023-04-13T06:28:53.164Z"
   },
   {
    "duration": 8,
    "start_time": "2023-04-13T06:28:53.217Z"
   },
   {
    "duration": 3,
    "start_time": "2023-04-13T06:28:53.227Z"
   },
   {
    "duration": 7,
    "start_time": "2023-04-13T06:28:53.232Z"
   },
   {
    "duration": 8,
    "start_time": "2023-04-13T06:28:53.241Z"
   },
   {
    "duration": 5,
    "start_time": "2023-04-13T06:28:53.250Z"
   },
   {
    "duration": 4,
    "start_time": "2023-04-13T06:28:53.286Z"
   },
   {
    "duration": 240569,
    "start_time": "2023-04-13T06:28:53.292Z"
   },
   {
    "duration": 10,
    "start_time": "2023-04-13T06:32:53.863Z"
   },
   {
    "duration": 137,
    "start_time": "2023-04-13T06:32:53.885Z"
   },
   {
    "duration": 32,
    "start_time": "2023-04-13T06:32:54.024Z"
   },
   {
    "duration": 31,
    "start_time": "2023-04-13T06:32:54.059Z"
   },
   {
    "duration": 35,
    "start_time": "2023-04-13T06:32:54.092Z"
   },
   {
    "duration": 7,
    "start_time": "2023-04-13T06:32:54.129Z"
   },
   {
    "duration": 5,
    "start_time": "2023-04-13T06:32:54.138Z"
   },
   {
    "duration": 27,
    "start_time": "2023-04-13T06:32:54.145Z"
   },
   {
    "duration": 15,
    "start_time": "2023-04-13T06:32:54.174Z"
   },
   {
    "duration": 9615,
    "start_time": "2023-04-13T06:32:54.194Z"
   },
   {
    "duration": 2,
    "start_time": "2023-04-13T06:33:03.811Z"
   },
   {
    "duration": 2719229,
    "start_time": "2023-04-13T06:33:03.815Z"
   },
   {
    "duration": 109905,
    "start_time": "2023-04-13T07:18:23.045Z"
   },
   {
    "duration": 383,
    "start_time": "2023-04-13T07:20:12.952Z"
   },
   {
    "duration": 0,
    "start_time": "2023-04-13T07:20:13.337Z"
   },
   {
    "duration": 0,
    "start_time": "2023-04-13T07:20:13.338Z"
   },
   {
    "duration": 4,
    "start_time": "2023-04-13T07:26:52.802Z"
   },
   {
    "duration": 4,
    "start_time": "2023-04-13T07:26:55.175Z"
   },
   {
    "duration": 9839,
    "start_time": "2023-04-13T07:26:59.545Z"
   },
   {
    "duration": 3,
    "start_time": "2023-04-13T07:27:09.386Z"
   },
   {
    "duration": 2370357,
    "start_time": "2023-04-13T07:27:09.390Z"
   },
   {
    "duration": 108896,
    "start_time": "2023-04-13T08:06:39.749Z"
   },
   {
    "duration": 50,
    "start_time": "2023-04-13T08:08:28.647Z"
   },
   {
    "duration": 10,
    "start_time": "2023-04-13T08:08:28.699Z"
   },
   {
    "duration": 11,
    "start_time": "2023-04-13T08:08:28.711Z"
   },
   {
    "duration": 3,
    "start_time": "2023-04-13T09:34:51.239Z"
   },
   {
    "duration": 7,
    "start_time": "2023-04-13T09:44:59.529Z"
   },
   {
    "duration": 3258,
    "start_time": "2023-04-13T09:45:39.455Z"
   },
   {
    "duration": 82,
    "start_time": "2023-04-13T09:50:50.529Z"
   },
   {
    "duration": 54,
    "start_time": "2023-04-13T09:53:09.933Z"
   },
   {
    "duration": 2390,
    "start_time": "2023-04-13T09:54:22.607Z"
   },
   {
    "duration": 7208,
    "start_time": "2023-04-13T09:54:24.999Z"
   },
   {
    "duration": 948,
    "start_time": "2023-04-13T09:54:32.209Z"
   },
   {
    "duration": 39,
    "start_time": "2023-04-13T09:54:33.160Z"
   },
   {
    "duration": 253,
    "start_time": "2023-04-13T09:54:33.200Z"
   },
   {
    "duration": 279,
    "start_time": "2023-04-13T09:54:33.455Z"
   },
   {
    "duration": 6,
    "start_time": "2023-04-13T09:54:33.736Z"
   },
   {
    "duration": 356,
    "start_time": "2023-04-13T09:54:33.744Z"
   },
   {
    "duration": 4077,
    "start_time": "2023-04-13T09:54:34.102Z"
   },
   {
    "duration": 56,
    "start_time": "2023-04-13T09:54:38.183Z"
   },
   {
    "duration": 61,
    "start_time": "2023-04-13T09:54:38.241Z"
   },
   {
    "duration": 9,
    "start_time": "2023-04-13T09:54:38.304Z"
   },
   {
    "duration": 19,
    "start_time": "2023-04-13T09:54:38.315Z"
   },
   {
    "duration": 11,
    "start_time": "2023-04-13T09:54:38.336Z"
   },
   {
    "duration": 25,
    "start_time": "2023-04-13T09:54:38.348Z"
   },
   {
    "duration": 18,
    "start_time": "2023-04-13T09:54:38.374Z"
   },
   {
    "duration": 7,
    "start_time": "2023-04-13T09:54:38.394Z"
   },
   {
    "duration": 252121,
    "start_time": "2023-04-13T09:54:38.403Z"
   },
   {
    "duration": 10,
    "start_time": "2023-04-13T09:58:50.526Z"
   },
   {
    "duration": 112,
    "start_time": "2023-04-13T09:58:50.537Z"
   },
   {
    "duration": 24,
    "start_time": "2023-04-13T09:58:50.651Z"
   },
   {
    "duration": 12,
    "start_time": "2023-04-13T09:58:50.685Z"
   },
   {
    "duration": 16,
    "start_time": "2023-04-13T09:58:50.699Z"
   },
   {
    "duration": 46,
    "start_time": "2023-04-13T09:58:50.717Z"
   },
   {
    "duration": 0,
    "start_time": "2023-04-13T09:58:50.765Z"
   },
   {
    "duration": 8061,
    "start_time": "2023-04-13T10:04:12.350Z"
   },
   {
    "duration": 49,
    "start_time": "2023-04-13T10:04:23.348Z"
   },
   {
    "duration": 0,
    "start_time": "2023-04-13T10:59:48.107Z"
   },
   {
    "duration": 0,
    "start_time": "2023-04-13T10:59:48.109Z"
   },
   {
    "duration": 0,
    "start_time": "2023-04-13T10:59:48.110Z"
   },
   {
    "duration": 0,
    "start_time": "2023-04-13T10:59:48.111Z"
   },
   {
    "duration": 0,
    "start_time": "2023-04-13T10:59:48.112Z"
   },
   {
    "duration": 0,
    "start_time": "2023-04-13T10:59:48.113Z"
   },
   {
    "duration": 0,
    "start_time": "2023-04-13T10:59:48.114Z"
   },
   {
    "duration": 0,
    "start_time": "2023-04-13T10:59:48.115Z"
   },
   {
    "duration": 0,
    "start_time": "2023-04-13T10:59:48.116Z"
   },
   {
    "duration": 0,
    "start_time": "2023-04-13T10:59:48.117Z"
   },
   {
    "duration": 0,
    "start_time": "2023-04-13T10:59:48.119Z"
   },
   {
    "duration": 0,
    "start_time": "2023-04-13T10:59:48.120Z"
   },
   {
    "duration": 0,
    "start_time": "2023-04-13T10:59:48.121Z"
   },
   {
    "duration": 0,
    "start_time": "2023-04-13T10:59:48.122Z"
   },
   {
    "duration": 0,
    "start_time": "2023-04-13T10:59:48.122Z"
   },
   {
    "duration": 0,
    "start_time": "2023-04-13T10:59:48.123Z"
   },
   {
    "duration": 0,
    "start_time": "2023-04-13T10:59:48.124Z"
   },
   {
    "duration": 0,
    "start_time": "2023-04-13T10:59:48.125Z"
   },
   {
    "duration": 0,
    "start_time": "2023-04-13T10:59:48.126Z"
   },
   {
    "duration": 0,
    "start_time": "2023-04-13T10:59:48.127Z"
   },
   {
    "duration": 0,
    "start_time": "2023-04-13T10:59:48.128Z"
   },
   {
    "duration": 0,
    "start_time": "2023-04-13T10:59:48.129Z"
   },
   {
    "duration": 0,
    "start_time": "2023-04-13T10:59:48.130Z"
   },
   {
    "duration": 0,
    "start_time": "2023-04-13T10:59:48.132Z"
   },
   {
    "duration": 0,
    "start_time": "2023-04-13T10:59:48.133Z"
   },
   {
    "duration": 2411,
    "start_time": "2023-04-13T11:04:59.421Z"
   },
   {
    "duration": 6638,
    "start_time": "2023-04-13T11:05:01.835Z"
   },
   {
    "duration": 922,
    "start_time": "2023-04-13T11:05:08.474Z"
   },
   {
    "duration": 35,
    "start_time": "2023-04-13T11:05:09.398Z"
   },
   {
    "duration": 248,
    "start_time": "2023-04-13T11:05:09.434Z"
   },
   {
    "duration": 289,
    "start_time": "2023-04-13T11:05:09.684Z"
   },
   {
    "duration": 6,
    "start_time": "2023-04-13T11:05:09.974Z"
   },
   {
    "duration": 310,
    "start_time": "2023-04-13T11:05:09.985Z"
   },
   {
    "duration": 4129,
    "start_time": "2023-04-13T11:05:10.299Z"
   },
   {
    "duration": 36,
    "start_time": "2023-04-13T11:05:14.432Z"
   },
   {
    "duration": 55,
    "start_time": "2023-04-13T11:05:14.470Z"
   },
   {
    "duration": 8,
    "start_time": "2023-04-13T11:05:14.527Z"
   },
   {
    "duration": 7,
    "start_time": "2023-04-13T11:05:14.537Z"
   },
   {
    "duration": 9,
    "start_time": "2023-04-13T11:05:14.545Z"
   },
   {
    "duration": 13,
    "start_time": "2023-04-13T11:05:14.556Z"
   },
   {
    "duration": 24,
    "start_time": "2023-04-13T11:05:14.570Z"
   },
   {
    "duration": 6,
    "start_time": "2023-04-13T11:05:14.600Z"
   },
   {
    "duration": 257216,
    "start_time": "2023-04-13T11:05:14.608Z"
   },
   {
    "duration": 9,
    "start_time": "2023-04-13T11:09:31.826Z"
   },
   {
    "duration": 115,
    "start_time": "2023-04-13T11:09:31.837Z"
   },
   {
    "duration": 44,
    "start_time": "2023-04-13T11:09:31.954Z"
   },
   {
    "duration": 11,
    "start_time": "2023-04-13T11:09:32.000Z"
   },
   {
    "duration": 29,
    "start_time": "2023-04-13T11:09:32.013Z"
   },
   {
    "duration": 9038,
    "start_time": "2023-04-13T11:09:32.044Z"
   },
   {
    "duration": 355,
    "start_time": "2023-04-13T11:09:41.085Z"
   },
   {
    "duration": 3,
    "start_time": "2023-04-13T11:17:52.448Z"
   },
   {
    "duration": 63874,
    "start_time": "2023-04-13T11:18:14.243Z"
   },
   {
    "duration": 0,
    "start_time": "2023-04-13T11:19:18.119Z"
   },
   {
    "duration": 50,
    "start_time": "2023-04-13T11:21:04.594Z"
   },
   {
    "duration": 4,
    "start_time": "2023-04-13T11:21:04.765Z"
   },
   {
    "duration": 4,
    "start_time": "2023-04-13T11:21:21.089Z"
   },
   {
    "duration": 4,
    "start_time": "2023-04-13T11:21:23.820Z"
   },
   {
    "duration": 3,
    "start_time": "2023-04-13T11:21:25.278Z"
   },
   {
    "duration": 2403841,
    "start_time": "2023-04-13T11:21:28.419Z"
   },
   {
    "duration": 114895,
    "start_time": "2023-04-13T12:01:32.262Z"
   },
   {
    "duration": 40,
    "start_time": "2023-04-13T12:03:27.158Z"
   },
   {
    "duration": 72,
    "start_time": "2023-04-13T12:03:27.202Z"
   },
   {
    "duration": 0,
    "start_time": "2023-04-13T12:03:27.277Z"
   },
   {
    "duration": 5,
    "start_time": "2023-04-13T12:09:07.438Z"
   },
   {
    "duration": 4,
    "start_time": "2023-04-13T12:09:08.758Z"
   },
   {
    "duration": 3,
    "start_time": "2023-04-13T12:09:09.938Z"
   },
   {
    "duration": 2730,
    "start_time": "2023-04-13T12:47:28.571Z"
   },
   {
    "duration": 8599,
    "start_time": "2023-04-13T12:47:31.304Z"
   },
   {
    "duration": 3258,
    "start_time": "2023-04-13T12:47:39.905Z"
   },
   {
    "duration": 34,
    "start_time": "2023-04-13T12:47:43.165Z"
   },
   {
    "duration": 257,
    "start_time": "2023-04-13T12:47:43.201Z"
   },
   {
    "duration": 286,
    "start_time": "2023-04-13T12:47:43.460Z"
   },
   {
    "duration": 7,
    "start_time": "2023-04-13T12:47:43.748Z"
   },
   {
    "duration": 318,
    "start_time": "2023-04-13T12:47:43.757Z"
   },
   {
    "duration": 4355,
    "start_time": "2023-04-13T12:47:44.077Z"
   },
   {
    "duration": 43,
    "start_time": "2023-04-13T12:47:48.443Z"
   },
   {
    "duration": 55,
    "start_time": "2023-04-13T12:47:48.488Z"
   },
   {
    "duration": 8,
    "start_time": "2023-04-13T12:47:48.545Z"
   },
   {
    "duration": 8,
    "start_time": "2023-04-13T12:47:48.554Z"
   },
   {
    "duration": 16,
    "start_time": "2023-04-13T12:47:48.564Z"
   },
   {
    "duration": 10,
    "start_time": "2023-04-13T12:47:48.582Z"
   },
   {
    "duration": 9,
    "start_time": "2023-04-13T12:47:48.594Z"
   },
   {
    "duration": 7,
    "start_time": "2023-04-13T12:47:48.605Z"
   },
   {
    "duration": 257041,
    "start_time": "2023-04-13T12:47:48.615Z"
   },
   {
    "duration": 9,
    "start_time": "2023-04-13T12:52:05.658Z"
   },
   {
    "duration": 116,
    "start_time": "2023-04-13T12:52:05.669Z"
   },
   {
    "duration": 22,
    "start_time": "2023-04-13T12:52:05.787Z"
   },
   {
    "duration": 12,
    "start_time": "2023-04-13T12:52:05.811Z"
   },
   {
    "duration": 10,
    "start_time": "2023-04-13T12:52:05.825Z"
   },
   {
    "duration": 12,
    "start_time": "2023-04-13T12:52:05.836Z"
   },
   {
    "duration": 356,
    "start_time": "2023-04-13T12:52:05.849Z"
   },
   {
    "duration": 0,
    "start_time": "2023-04-13T12:52:06.207Z"
   },
   {
    "duration": 0,
    "start_time": "2023-04-13T12:52:06.208Z"
   },
   {
    "duration": 0,
    "start_time": "2023-04-13T12:52:06.209Z"
   },
   {
    "duration": 0,
    "start_time": "2023-04-13T12:52:06.210Z"
   },
   {
    "duration": 0,
    "start_time": "2023-04-13T12:52:06.212Z"
   },
   {
    "duration": 0,
    "start_time": "2023-04-13T12:52:06.213Z"
   },
   {
    "duration": 0,
    "start_time": "2023-04-13T12:52:06.214Z"
   },
   {
    "duration": 0,
    "start_time": "2023-04-13T12:52:06.215Z"
   },
   {
    "duration": 0,
    "start_time": "2023-04-13T12:52:06.216Z"
   },
   {
    "duration": 0,
    "start_time": "2023-04-13T12:52:06.217Z"
   },
   {
    "duration": 0,
    "start_time": "2023-04-13T12:52:06.218Z"
   },
   {
    "duration": 0,
    "start_time": "2023-04-13T12:52:06.219Z"
   },
   {
    "duration": 18,
    "start_time": "2023-04-13T12:57:43.873Z"
   },
   {
    "duration": 5,
    "start_time": "2023-04-13T12:58:44.852Z"
   },
   {
    "duration": 3,
    "start_time": "2023-04-13T12:58:51.345Z"
   },
   {
    "duration": 24,
    "start_time": "2023-04-13T12:58:51.461Z"
   },
   {
    "duration": 2402,
    "start_time": "2023-04-13T13:00:26.870Z"
   },
   {
    "duration": 5316,
    "start_time": "2023-04-13T13:00:29.274Z"
   },
   {
    "duration": 874,
    "start_time": "2023-04-13T13:00:34.591Z"
   },
   {
    "duration": 33,
    "start_time": "2023-04-13T13:00:35.467Z"
   },
   {
    "duration": 242,
    "start_time": "2023-04-13T13:00:35.502Z"
   },
   {
    "duration": 270,
    "start_time": "2023-04-13T13:00:35.745Z"
   },
   {
    "duration": 6,
    "start_time": "2023-04-13T13:00:36.016Z"
   },
   {
    "duration": 305,
    "start_time": "2023-04-13T13:00:36.024Z"
   },
   {
    "duration": 3787,
    "start_time": "2023-04-13T13:00:36.331Z"
   },
   {
    "duration": 30,
    "start_time": "2023-04-13T13:00:40.129Z"
   },
   {
    "duration": 49,
    "start_time": "2023-04-13T13:00:40.161Z"
   },
   {
    "duration": 7,
    "start_time": "2023-04-13T13:00:40.212Z"
   },
   {
    "duration": 11,
    "start_time": "2023-04-13T13:00:40.221Z"
   },
   {
    "duration": 5,
    "start_time": "2023-04-13T13:00:40.234Z"
   },
   {
    "duration": 7,
    "start_time": "2023-04-13T13:00:40.241Z"
   },
   {
    "duration": 3,
    "start_time": "2023-04-13T13:00:40.250Z"
   },
   {
    "duration": 7,
    "start_time": "2023-04-13T13:00:40.255Z"
   },
   {
    "duration": 242186,
    "start_time": "2023-04-13T13:00:40.263Z"
   },
   {
    "duration": 11,
    "start_time": "2023-04-13T13:04:42.451Z"
   },
   {
    "duration": 120,
    "start_time": "2023-04-13T13:04:42.464Z"
   },
   {
    "duration": 24,
    "start_time": "2023-04-13T13:04:42.586Z"
   },
   {
    "duration": 13,
    "start_time": "2023-04-13T13:04:42.612Z"
   },
   {
    "duration": 28,
    "start_time": "2023-04-13T13:04:42.627Z"
   },
   {
    "duration": 4,
    "start_time": "2023-04-13T13:04:42.657Z"
   },
   {
    "duration": 6,
    "start_time": "2023-04-13T13:04:42.663Z"
   },
   {
    "duration": 0,
    "start_time": "2023-04-13T13:04:43.009Z"
   },
   {
    "duration": 0,
    "start_time": "2023-04-13T13:04:43.010Z"
   },
   {
    "duration": 0,
    "start_time": "2023-04-13T13:04:43.011Z"
   },
   {
    "duration": 0,
    "start_time": "2023-04-13T13:04:43.012Z"
   },
   {
    "duration": 0,
    "start_time": "2023-04-13T13:04:43.013Z"
   },
   {
    "duration": 0,
    "start_time": "2023-04-13T13:04:43.014Z"
   },
   {
    "duration": 0,
    "start_time": "2023-04-13T13:04:43.015Z"
   },
   {
    "duration": 0,
    "start_time": "2023-04-13T13:04:43.016Z"
   },
   {
    "duration": 0,
    "start_time": "2023-04-13T13:04:43.018Z"
   },
   {
    "duration": 0,
    "start_time": "2023-04-13T13:04:43.019Z"
   },
   {
    "duration": 21,
    "start_time": "2023-04-13T13:05:18.753Z"
   },
   {
    "duration": 2352,
    "start_time": "2023-04-13T13:10:52.442Z"
   },
   {
    "duration": 4919,
    "start_time": "2023-04-13T13:10:54.797Z"
   },
   {
    "duration": 889,
    "start_time": "2023-04-13T13:10:59.718Z"
   },
   {
    "duration": 34,
    "start_time": "2023-04-13T13:11:00.610Z"
   },
   {
    "duration": 266,
    "start_time": "2023-04-13T13:11:00.646Z"
   },
   {
    "duration": 279,
    "start_time": "2023-04-13T13:11:00.913Z"
   },
   {
    "duration": 7,
    "start_time": "2023-04-13T13:11:01.193Z"
   },
   {
    "duration": 354,
    "start_time": "2023-04-13T13:11:01.202Z"
   },
   {
    "duration": 4026,
    "start_time": "2023-04-13T13:11:01.558Z"
   },
   {
    "duration": 30,
    "start_time": "2023-04-13T13:11:05.594Z"
   },
   {
    "duration": 49,
    "start_time": "2023-04-13T13:11:05.627Z"
   },
   {
    "duration": 14,
    "start_time": "2023-04-13T13:11:05.678Z"
   },
   {
    "duration": 12,
    "start_time": "2023-04-13T13:11:05.694Z"
   },
   {
    "duration": 4,
    "start_time": "2023-04-13T13:11:05.708Z"
   },
   {
    "duration": 9,
    "start_time": "2023-04-13T13:11:05.714Z"
   },
   {
    "duration": 17,
    "start_time": "2023-04-13T13:11:05.724Z"
   },
   {
    "duration": 12,
    "start_time": "2023-04-13T13:11:05.742Z"
   },
   {
    "duration": 237381,
    "start_time": "2023-04-13T13:11:05.756Z"
   },
   {
    "duration": 11,
    "start_time": "2023-04-13T13:15:03.138Z"
   },
   {
    "duration": 113,
    "start_time": "2023-04-13T13:15:03.150Z"
   },
   {
    "duration": 28,
    "start_time": "2023-04-13T13:15:03.265Z"
   },
   {
    "duration": 12,
    "start_time": "2023-04-13T13:15:03.296Z"
   },
   {
    "duration": 17,
    "start_time": "2023-04-13T13:15:03.310Z"
   },
   {
    "duration": 4,
    "start_time": "2023-04-13T13:15:03.328Z"
   },
   {
    "duration": 5,
    "start_time": "2023-04-13T13:15:03.333Z"
   },
   {
    "duration": 385,
    "start_time": "2023-04-13T13:15:03.340Z"
   },
   {
    "duration": 0,
    "start_time": "2023-04-13T13:15:03.727Z"
   },
   {
    "duration": 0,
    "start_time": "2023-04-13T13:15:03.731Z"
   },
   {
    "duration": 0,
    "start_time": "2023-04-13T13:15:03.732Z"
   },
   {
    "duration": 0,
    "start_time": "2023-04-13T13:15:03.733Z"
   },
   {
    "duration": 0,
    "start_time": "2023-04-13T13:15:03.734Z"
   },
   {
    "duration": 0,
    "start_time": "2023-04-13T13:15:03.735Z"
   },
   {
    "duration": 0,
    "start_time": "2023-04-13T13:15:03.736Z"
   },
   {
    "duration": 0,
    "start_time": "2023-04-13T13:15:03.738Z"
   },
   {
    "duration": 0,
    "start_time": "2023-04-13T13:15:03.739Z"
   },
   {
    "duration": 22,
    "start_time": "2023-04-13T13:15:23.451Z"
   },
   {
    "duration": 9109,
    "start_time": "2023-04-13T13:16:28.670Z"
   },
   {
    "duration": 3,
    "start_time": "2023-04-13T13:17:18.318Z"
   },
   {
    "duration": 19,
    "start_time": "2023-04-13T13:20:17.406Z"
   },
   {
    "duration": 3,
    "start_time": "2023-04-13T13:21:55.376Z"
   },
   {
    "duration": 58,
    "start_time": "2023-04-13T13:21:56.303Z"
   },
   {
    "duration": 2420,
    "start_time": "2023-04-13T13:30:05.750Z"
   },
   {
    "duration": 12,
    "start_time": "2023-04-13T13:30:08.173Z"
   },
   {
    "duration": 975,
    "start_time": "2023-04-13T13:30:08.187Z"
   },
   {
    "duration": 35,
    "start_time": "2023-04-13T13:30:09.295Z"
   },
   {
    "duration": 229,
    "start_time": "2023-04-13T13:30:10.556Z"
   },
   {
    "duration": 279,
    "start_time": "2023-04-13T13:30:11.476Z"
   },
   {
    "duration": 7,
    "start_time": "2023-04-13T13:30:12.996Z"
   },
   {
    "duration": 297,
    "start_time": "2023-04-13T13:30:15.567Z"
   },
   {
    "duration": 4011,
    "start_time": "2023-04-13T13:30:20.229Z"
   },
   {
    "duration": 45,
    "start_time": "2023-04-13T13:30:24.888Z"
   },
   {
    "duration": 4,
    "start_time": "2023-04-13T13:30:28.261Z"
   },
   {
    "duration": 60,
    "start_time": "2023-04-13T13:30:29.299Z"
   },
   {
    "duration": 972,
    "start_time": "2023-04-13T13:30:59.469Z"
   },
   {
    "duration": 852,
    "start_time": "2023-04-13T13:32:52.137Z"
   },
   {
    "duration": 38,
    "start_time": "2023-04-13T13:33:58.641Z"
   },
   {
    "duration": 49,
    "start_time": "2023-04-13T13:34:11.580Z"
   },
   {
    "duration": 2425,
    "start_time": "2023-04-13T13:41:29.655Z"
   },
   {
    "duration": 5134,
    "start_time": "2023-04-13T13:41:32.084Z"
   },
   {
    "duration": 932,
    "start_time": "2023-04-13T13:41:37.220Z"
   },
   {
    "duration": 38,
    "start_time": "2023-04-13T13:41:38.154Z"
   },
   {
    "duration": 318,
    "start_time": "2023-04-13T13:41:38.195Z"
   },
   {
    "duration": 291,
    "start_time": "2023-04-13T13:41:38.516Z"
   },
   {
    "duration": 8,
    "start_time": "2023-04-13T13:41:38.809Z"
   },
   {
    "duration": 314,
    "start_time": "2023-04-13T13:41:38.819Z"
   },
   {
    "duration": 3858,
    "start_time": "2023-04-13T13:41:39.134Z"
   },
   {
    "duration": 29,
    "start_time": "2023-04-13T13:41:43.002Z"
   },
   {
    "duration": 64,
    "start_time": "2023-04-13T13:41:43.033Z"
   },
   {
    "duration": 11,
    "start_time": "2023-04-13T13:41:43.099Z"
   },
   {
    "duration": 31,
    "start_time": "2023-04-13T13:41:43.112Z"
   },
   {
    "duration": 20,
    "start_time": "2023-04-13T13:41:43.145Z"
   },
   {
    "duration": 14,
    "start_time": "2023-04-13T13:41:43.167Z"
   },
   {
    "duration": 14,
    "start_time": "2023-04-13T13:41:43.183Z"
   },
   {
    "duration": 15,
    "start_time": "2023-04-13T13:41:43.199Z"
   },
   {
    "duration": 249505,
    "start_time": "2023-04-13T13:41:43.216Z"
   },
   {
    "duration": 9,
    "start_time": "2023-04-13T13:45:52.723Z"
   },
   {
    "duration": 356,
    "start_time": "2023-04-13T13:45:52.733Z"
   },
   {
    "duration": 0,
    "start_time": "2023-04-13T13:45:53.091Z"
   },
   {
    "duration": 0,
    "start_time": "2023-04-13T13:45:53.093Z"
   },
   {
    "duration": 0,
    "start_time": "2023-04-13T13:45:53.094Z"
   },
   {
    "duration": 0,
    "start_time": "2023-04-13T13:45:53.096Z"
   },
   {
    "duration": 0,
    "start_time": "2023-04-13T13:45:53.097Z"
   },
   {
    "duration": 0,
    "start_time": "2023-04-13T13:45:53.099Z"
   },
   {
    "duration": 0,
    "start_time": "2023-04-13T13:45:53.100Z"
   },
   {
    "duration": 0,
    "start_time": "2023-04-13T13:45:53.101Z"
   },
   {
    "duration": 0,
    "start_time": "2023-04-13T13:45:53.103Z"
   },
   {
    "duration": 0,
    "start_time": "2023-04-13T13:45:53.104Z"
   },
   {
    "duration": 0,
    "start_time": "2023-04-13T13:45:53.105Z"
   },
   {
    "duration": 0,
    "start_time": "2023-04-13T13:45:53.107Z"
   },
   {
    "duration": 0,
    "start_time": "2023-04-13T13:45:53.108Z"
   },
   {
    "duration": 0,
    "start_time": "2023-04-13T13:45:53.109Z"
   },
   {
    "duration": 0,
    "start_time": "2023-04-13T13:45:53.111Z"
   },
   {
    "duration": 0,
    "start_time": "2023-04-13T13:45:53.112Z"
   },
   {
    "duration": 0,
    "start_time": "2023-04-13T13:45:53.114Z"
   },
   {
    "duration": 0,
    "start_time": "2023-04-13T13:45:53.116Z"
   },
   {
    "duration": 0,
    "start_time": "2023-04-13T13:45:53.117Z"
   },
   {
    "duration": 0,
    "start_time": "2023-04-13T13:45:53.118Z"
   },
   {
    "duration": 0,
    "start_time": "2023-04-13T13:45:53.120Z"
   },
   {
    "duration": 0,
    "start_time": "2023-04-13T13:45:53.121Z"
   },
   {
    "duration": 0,
    "start_time": "2023-04-13T13:45:53.122Z"
   },
   {
    "duration": 10,
    "start_time": "2023-04-13T13:46:56.404Z"
   },
   {
    "duration": 3,
    "start_time": "2023-04-13T13:47:00.650Z"
   },
   {
    "duration": 5,
    "start_time": "2023-04-13T13:47:01.858Z"
   },
   {
    "duration": 23,
    "start_time": "2023-04-13T13:47:05.962Z"
   },
   {
    "duration": 3,
    "start_time": "2023-04-13T13:47:53.644Z"
   },
   {
    "duration": 23,
    "start_time": "2023-04-13T13:47:54.984Z"
   },
   {
    "duration": 0,
    "start_time": "2023-04-13T13:56:36.602Z"
   },
   {
    "duration": 0,
    "start_time": "2023-04-13T13:56:36.603Z"
   },
   {
    "duration": 0,
    "start_time": "2023-04-13T13:56:36.605Z"
   },
   {
    "duration": 0,
    "start_time": "2023-04-13T13:56:36.605Z"
   },
   {
    "duration": 0,
    "start_time": "2023-04-13T13:56:36.607Z"
   },
   {
    "duration": 0,
    "start_time": "2023-04-13T13:56:36.608Z"
   },
   {
    "duration": 0,
    "start_time": "2023-04-13T13:56:36.610Z"
   },
   {
    "duration": 0,
    "start_time": "2023-04-13T13:56:36.611Z"
   },
   {
    "duration": 0,
    "start_time": "2023-04-13T13:56:36.612Z"
   },
   {
    "duration": 0,
    "start_time": "2023-04-13T13:56:36.614Z"
   },
   {
    "duration": 0,
    "start_time": "2023-04-13T13:56:36.615Z"
   },
   {
    "duration": 0,
    "start_time": "2023-04-13T13:56:36.616Z"
   },
   {
    "duration": 0,
    "start_time": "2023-04-13T13:56:36.617Z"
   },
   {
    "duration": 0,
    "start_time": "2023-04-13T13:56:36.619Z"
   },
   {
    "duration": 0,
    "start_time": "2023-04-13T13:56:36.686Z"
   },
   {
    "duration": 0,
    "start_time": "2023-04-13T13:56:36.687Z"
   },
   {
    "duration": 0,
    "start_time": "2023-04-13T13:56:36.689Z"
   },
   {
    "duration": 0,
    "start_time": "2023-04-13T13:56:36.690Z"
   },
   {
    "duration": 0,
    "start_time": "2023-04-13T13:56:36.691Z"
   },
   {
    "duration": 0,
    "start_time": "2023-04-13T13:56:36.692Z"
   },
   {
    "duration": 0,
    "start_time": "2023-04-13T13:56:36.693Z"
   },
   {
    "duration": 0,
    "start_time": "2023-04-13T13:56:36.694Z"
   },
   {
    "duration": 0,
    "start_time": "2023-04-13T13:56:36.695Z"
   },
   {
    "duration": 0,
    "start_time": "2023-04-13T13:56:36.695Z"
   },
   {
    "duration": 1,
    "start_time": "2023-04-13T13:56:36.696Z"
   },
   {
    "duration": 0,
    "start_time": "2023-04-13T13:56:36.698Z"
   },
   {
    "duration": 0,
    "start_time": "2023-04-13T13:56:36.699Z"
   },
   {
    "duration": 0,
    "start_time": "2023-04-13T13:56:36.700Z"
   },
   {
    "duration": 0,
    "start_time": "2023-04-13T13:56:36.701Z"
   },
   {
    "duration": 0,
    "start_time": "2023-04-13T13:56:36.702Z"
   },
   {
    "duration": 0,
    "start_time": "2023-04-13T13:56:36.703Z"
   },
   {
    "duration": 0,
    "start_time": "2023-04-13T13:56:36.704Z"
   },
   {
    "duration": 0,
    "start_time": "2023-04-13T13:56:36.705Z"
   },
   {
    "duration": 0,
    "start_time": "2023-04-13T13:56:36.706Z"
   },
   {
    "duration": 0,
    "start_time": "2023-04-13T13:56:36.707Z"
   },
   {
    "duration": 0,
    "start_time": "2023-04-13T13:56:36.708Z"
   },
   {
    "duration": 0,
    "start_time": "2023-04-13T13:56:36.709Z"
   },
   {
    "duration": 0,
    "start_time": "2023-04-13T13:56:36.710Z"
   },
   {
    "duration": 0,
    "start_time": "2023-04-13T13:56:36.711Z"
   },
   {
    "duration": 0,
    "start_time": "2023-04-13T13:56:36.712Z"
   },
   {
    "duration": 0,
    "start_time": "2023-04-13T13:56:36.713Z"
   },
   {
    "duration": 0,
    "start_time": "2023-04-13T13:56:36.714Z"
   },
   {
    "duration": 0,
    "start_time": "2023-04-13T13:56:36.715Z"
   },
   {
    "duration": 0,
    "start_time": "2023-04-13T13:56:36.716Z"
   },
   {
    "duration": 0,
    "start_time": "2023-04-13T13:56:36.717Z"
   },
   {
    "duration": 2402,
    "start_time": "2023-04-13T14:01:16.465Z"
   },
   {
    "duration": 4812,
    "start_time": "2023-04-13T14:01:18.869Z"
   },
   {
    "duration": 925,
    "start_time": "2023-04-13T14:01:23.683Z"
   },
   {
    "duration": 35,
    "start_time": "2023-04-13T14:01:24.609Z"
   },
   {
    "duration": 263,
    "start_time": "2023-04-13T14:01:24.646Z"
   },
   {
    "duration": 284,
    "start_time": "2023-04-13T14:01:24.910Z"
   },
   {
    "duration": 7,
    "start_time": "2023-04-13T14:01:25.196Z"
   },
   {
    "duration": 329,
    "start_time": "2023-04-13T14:01:25.205Z"
   },
   {
    "duration": 4402,
    "start_time": "2023-04-13T14:01:25.536Z"
   },
   {
    "duration": 37,
    "start_time": "2023-04-13T14:01:29.940Z"
   },
   {
    "duration": 38,
    "start_time": "2023-04-13T14:01:29.986Z"
   },
   {
    "duration": 8,
    "start_time": "2023-04-13T14:01:30.026Z"
   },
   {
    "duration": 16,
    "start_time": "2023-04-13T14:01:30.035Z"
   },
   {
    "duration": 19,
    "start_time": "2023-04-13T14:01:30.054Z"
   },
   {
    "duration": 22,
    "start_time": "2023-04-13T14:01:30.076Z"
   },
   {
    "duration": 57,
    "start_time": "2023-04-13T14:01:30.099Z"
   },
   {
    "duration": 52,
    "start_time": "2023-04-13T14:01:30.158Z"
   },
   {
    "duration": 239308,
    "start_time": "2023-04-13T14:01:30.212Z"
   },
   {
    "duration": 8,
    "start_time": "2023-04-13T14:05:29.522Z"
   },
   {
    "duration": 7,
    "start_time": "2023-04-13T14:05:29.532Z"
   },
   {
    "duration": 2,
    "start_time": "2023-04-13T14:05:29.541Z"
   },
   {
    "duration": 8,
    "start_time": "2023-04-13T14:05:29.545Z"
   },
   {
    "duration": 3,
    "start_time": "2023-04-13T14:05:29.555Z"
   },
   {
    "duration": 27,
    "start_time": "2023-04-13T14:05:29.559Z"
   },
   {
    "duration": 368,
    "start_time": "2023-04-13T14:05:29.588Z"
   },
   {
    "duration": 0,
    "start_time": "2023-04-13T14:05:29.958Z"
   },
   {
    "duration": 0,
    "start_time": "2023-04-13T14:05:29.959Z"
   },
   {
    "duration": 0,
    "start_time": "2023-04-13T14:05:29.961Z"
   },
   {
    "duration": 0,
    "start_time": "2023-04-13T14:05:29.962Z"
   },
   {
    "duration": 0,
    "start_time": "2023-04-13T14:05:29.963Z"
   },
   {
    "duration": 0,
    "start_time": "2023-04-13T14:05:29.964Z"
   },
   {
    "duration": 0,
    "start_time": "2023-04-13T14:05:29.965Z"
   },
   {
    "duration": 0,
    "start_time": "2023-04-13T14:05:29.966Z"
   },
   {
    "duration": 0,
    "start_time": "2023-04-13T14:05:29.968Z"
   },
   {
    "duration": 0,
    "start_time": "2023-04-13T14:05:29.985Z"
   },
   {
    "duration": 0,
    "start_time": "2023-04-13T14:05:29.986Z"
   },
   {
    "duration": 0,
    "start_time": "2023-04-13T14:05:29.987Z"
   },
   {
    "duration": 0,
    "start_time": "2023-04-13T14:05:29.989Z"
   },
   {
    "duration": 0,
    "start_time": "2023-04-13T14:05:29.990Z"
   },
   {
    "duration": 0,
    "start_time": "2023-04-13T14:05:29.991Z"
   },
   {
    "duration": 0,
    "start_time": "2023-04-13T14:05:29.992Z"
   },
   {
    "duration": 0,
    "start_time": "2023-04-13T14:05:29.994Z"
   },
   {
    "duration": 0,
    "start_time": "2023-04-13T14:05:29.994Z"
   },
   {
    "duration": 0,
    "start_time": "2023-04-13T14:05:29.995Z"
   },
   {
    "duration": 0,
    "start_time": "2023-04-13T14:05:29.997Z"
   },
   {
    "duration": 19,
    "start_time": "2023-04-13T14:08:48.665Z"
   },
   {
    "duration": 25,
    "start_time": "2023-04-13T14:09:40.629Z"
   },
   {
    "duration": 691,
    "start_time": "2023-04-13T14:12:41.170Z"
   },
   {
    "duration": 2311,
    "start_time": "2023-04-13T14:16:45.589Z"
   },
   {
    "duration": 4826,
    "start_time": "2023-04-13T14:16:47.902Z"
   },
   {
    "duration": 909,
    "start_time": "2023-04-13T14:16:52.730Z"
   },
   {
    "duration": 32,
    "start_time": "2023-04-13T14:16:53.641Z"
   },
   {
    "duration": 239,
    "start_time": "2023-04-13T14:16:53.684Z"
   },
   {
    "duration": 322,
    "start_time": "2023-04-13T14:16:53.925Z"
   },
   {
    "duration": 7,
    "start_time": "2023-04-13T14:16:54.248Z"
   },
   {
    "duration": 303,
    "start_time": "2023-04-13T14:16:54.257Z"
   },
   {
    "duration": 3929,
    "start_time": "2023-04-13T14:16:54.562Z"
   },
   {
    "duration": 29,
    "start_time": "2023-04-13T14:16:58.501Z"
   },
   {
    "duration": 35,
    "start_time": "2023-04-13T14:16:58.531Z"
   },
   {
    "duration": 23,
    "start_time": "2023-04-13T14:16:58.568Z"
   },
   {
    "duration": 7,
    "start_time": "2023-04-13T14:16:58.592Z"
   },
   {
    "duration": 9,
    "start_time": "2023-04-13T14:16:58.600Z"
   },
   {
    "duration": 25,
    "start_time": "2023-04-13T14:16:58.611Z"
   },
   {
    "duration": 5,
    "start_time": "2023-04-13T14:16:58.638Z"
   },
   {
    "duration": 6,
    "start_time": "2023-04-13T14:16:58.644Z"
   },
   {
    "duration": 236789,
    "start_time": "2023-04-13T14:16:58.651Z"
   },
   {
    "duration": 12,
    "start_time": "2023-04-13T14:20:55.441Z"
   },
   {
    "duration": 9,
    "start_time": "2023-04-13T14:20:55.454Z"
   },
   {
    "duration": 9,
    "start_time": "2023-04-13T14:20:55.464Z"
   },
   {
    "duration": 136,
    "start_time": "2023-04-13T14:20:55.475Z"
   },
   {
    "duration": 23,
    "start_time": "2023-04-13T14:20:55.613Z"
   },
   {
    "duration": 12,
    "start_time": "2023-04-13T14:20:55.638Z"
   },
   {
    "duration": 1037,
    "start_time": "2023-04-13T14:20:55.651Z"
   },
   {
    "duration": 4,
    "start_time": "2023-04-13T14:20:56.689Z"
   },
   {
    "duration": 5,
    "start_time": "2023-04-13T14:20:56.695Z"
   },
   {
    "duration": 369,
    "start_time": "2023-04-13T14:20:56.704Z"
   },
   {
    "duration": 0,
    "start_time": "2023-04-13T14:20:57.074Z"
   },
   {
    "duration": 0,
    "start_time": "2023-04-13T14:20:57.076Z"
   },
   {
    "duration": 0,
    "start_time": "2023-04-13T14:20:57.077Z"
   },
   {
    "duration": 0,
    "start_time": "2023-04-13T14:20:57.079Z"
   },
   {
    "duration": 0,
    "start_time": "2023-04-13T14:20:57.085Z"
   },
   {
    "duration": 0,
    "start_time": "2023-04-13T14:20:57.086Z"
   },
   {
    "duration": 0,
    "start_time": "2023-04-13T14:20:57.088Z"
   },
   {
    "duration": 0,
    "start_time": "2023-04-13T14:20:57.088Z"
   },
   {
    "duration": 0,
    "start_time": "2023-04-13T14:20:57.090Z"
   },
   {
    "duration": 0,
    "start_time": "2023-04-13T14:20:57.091Z"
   },
   {
    "duration": 0,
    "start_time": "2023-04-13T14:20:57.092Z"
   },
   {
    "duration": 0,
    "start_time": "2023-04-13T14:20:57.093Z"
   },
   {
    "duration": 0,
    "start_time": "2023-04-13T14:20:57.095Z"
   },
   {
    "duration": 0,
    "start_time": "2023-04-13T14:20:57.096Z"
   },
   {
    "duration": 0,
    "start_time": "2023-04-13T14:20:57.097Z"
   },
   {
    "duration": 0,
    "start_time": "2023-04-13T14:20:57.098Z"
   },
   {
    "duration": 0,
    "start_time": "2023-04-13T14:20:57.100Z"
   },
   {
    "duration": 0,
    "start_time": "2023-04-13T14:20:57.101Z"
   },
   {
    "duration": 0,
    "start_time": "2023-04-13T14:20:57.102Z"
   },
   {
    "duration": 0,
    "start_time": "2023-04-13T14:20:57.103Z"
   },
   {
    "duration": 0,
    "start_time": "2023-04-13T14:20:57.104Z"
   },
   {
    "duration": 2233,
    "start_time": "2023-04-13T14:42:19.476Z"
   },
   {
    "duration": 4889,
    "start_time": "2023-04-13T14:42:21.712Z"
   },
   {
    "duration": 941,
    "start_time": "2023-04-13T14:42:26.603Z"
   },
   {
    "duration": 42,
    "start_time": "2023-04-13T14:42:27.547Z"
   },
   {
    "duration": 260,
    "start_time": "2023-04-13T14:42:27.591Z"
   },
   {
    "duration": 274,
    "start_time": "2023-04-13T14:42:27.853Z"
   },
   {
    "duration": 6,
    "start_time": "2023-04-13T14:42:28.129Z"
   },
   {
    "duration": 340,
    "start_time": "2023-04-13T14:42:28.137Z"
   },
   {
    "duration": 3987,
    "start_time": "2023-04-13T14:42:28.479Z"
   },
   {
    "duration": 29,
    "start_time": "2023-04-13T14:42:32.476Z"
   },
   {
    "duration": 71,
    "start_time": "2023-04-13T14:42:32.507Z"
   },
   {
    "duration": 8,
    "start_time": "2023-04-13T14:42:32.579Z"
   },
   {
    "duration": 14,
    "start_time": "2023-04-13T14:42:32.589Z"
   },
   {
    "duration": 10,
    "start_time": "2023-04-13T14:42:32.604Z"
   },
   {
    "duration": 7,
    "start_time": "2023-04-13T14:42:32.615Z"
   },
   {
    "duration": 27,
    "start_time": "2023-04-13T14:42:32.623Z"
   },
   {
    "duration": 238523,
    "start_time": "2023-04-13T14:42:32.652Z"
   },
   {
    "duration": 16,
    "start_time": "2023-04-13T14:46:31.176Z"
   },
   {
    "duration": 46,
    "start_time": "2023-04-13T14:46:31.194Z"
   },
   {
    "duration": 38,
    "start_time": "2023-04-13T14:46:31.242Z"
   },
   {
    "duration": 130,
    "start_time": "2023-04-13T14:46:31.282Z"
   },
   {
    "duration": 22,
    "start_time": "2023-04-13T14:46:31.413Z"
   },
   {
    "duration": 39,
    "start_time": "2023-04-13T14:46:31.437Z"
   },
   {
    "duration": 1103,
    "start_time": "2023-04-13T14:46:31.478Z"
   },
   {
    "duration": 3,
    "start_time": "2023-04-13T14:46:32.583Z"
   },
   {
    "duration": 26,
    "start_time": "2023-04-13T14:46:32.588Z"
   },
   {
    "duration": 5,
    "start_time": "2023-04-13T14:46:32.616Z"
   },
   {
    "duration": 19,
    "start_time": "2023-04-13T14:46:32.624Z"
   },
   {
    "duration": 3994342,
    "start_time": "2023-04-13T14:46:32.645Z"
   },
   {
    "duration": 17696,
    "start_time": "2023-04-13T15:53:06.990Z"
   },
   {
    "duration": 97,
    "start_time": "2023-04-13T15:53:24.689Z"
   },
   {
    "duration": 0,
    "start_time": "2023-04-13T15:53:25.139Z"
   },
   {
    "duration": 0,
    "start_time": "2023-04-13T15:53:25.140Z"
   },
   {
    "duration": 0,
    "start_time": "2023-04-13T15:53:25.141Z"
   },
   {
    "duration": 0,
    "start_time": "2023-04-13T15:53:25.143Z"
   },
   {
    "duration": 0,
    "start_time": "2023-04-13T15:53:25.144Z"
   },
   {
    "duration": 0,
    "start_time": "2023-04-13T15:53:25.145Z"
   },
   {
    "duration": 0,
    "start_time": "2023-04-13T15:53:25.146Z"
   },
   {
    "duration": 0,
    "start_time": "2023-04-13T15:53:25.147Z"
   },
   {
    "duration": 5,
    "start_time": "2023-04-14T01:06:50.197Z"
   },
   {
    "duration": 4,
    "start_time": "2023-04-14T01:10:04.750Z"
   },
   {
    "duration": 9,
    "start_time": "2023-04-14T01:10:08.261Z"
   },
   {
    "duration": 5,
    "start_time": "2023-04-14T01:10:15.341Z"
   },
   {
    "duration": 20,
    "start_time": "2023-04-14T01:15:07.899Z"
   },
   {
    "duration": 2194,
    "start_time": "2023-04-14T01:57:09.184Z"
   },
   {
    "duration": 4590,
    "start_time": "2023-04-14T01:57:11.380Z"
   },
   {
    "duration": 873,
    "start_time": "2023-04-14T01:57:15.972Z"
   },
   {
    "duration": 44,
    "start_time": "2023-04-14T01:57:16.847Z"
   },
   {
    "duration": 238,
    "start_time": "2023-04-14T01:57:16.893Z"
   },
   {
    "duration": 274,
    "start_time": "2023-04-14T01:57:17.133Z"
   },
   {
    "duration": 6,
    "start_time": "2023-04-14T01:57:17.409Z"
   },
   {
    "duration": 316,
    "start_time": "2023-04-14T01:57:17.416Z"
   },
   {
    "duration": 3951,
    "start_time": "2023-04-14T01:57:17.734Z"
   },
   {
    "duration": 31,
    "start_time": "2023-04-14T01:57:21.700Z"
   },
   {
    "duration": 43,
    "start_time": "2023-04-14T01:57:21.733Z"
   },
   {
    "duration": 14,
    "start_time": "2023-04-14T01:57:21.785Z"
   },
   {
    "duration": 20,
    "start_time": "2023-04-14T01:57:21.801Z"
   },
   {
    "duration": 18,
    "start_time": "2023-04-14T01:57:21.822Z"
   },
   {
    "duration": 17,
    "start_time": "2023-04-14T01:57:21.841Z"
   },
   {
    "duration": 22,
    "start_time": "2023-04-14T01:57:21.860Z"
   },
   {
    "duration": 241617,
    "start_time": "2023-04-14T01:57:21.884Z"
   },
   {
    "duration": 8,
    "start_time": "2023-04-14T02:01:23.505Z"
   },
   {
    "duration": 8,
    "start_time": "2023-04-14T02:01:23.514Z"
   },
   {
    "duration": 6,
    "start_time": "2023-04-14T02:01:23.524Z"
   },
   {
    "duration": 125,
    "start_time": "2023-04-14T02:01:23.531Z"
   },
   {
    "duration": 19,
    "start_time": "2023-04-14T02:01:23.657Z"
   },
   {
    "duration": 19,
    "start_time": "2023-04-14T02:01:23.678Z"
   },
   {
    "duration": 1060,
    "start_time": "2023-04-14T02:01:23.698Z"
   },
   {
    "duration": 3,
    "start_time": "2023-04-14T02:01:24.760Z"
   },
   {
    "duration": 7,
    "start_time": "2023-04-14T02:01:24.764Z"
   },
   {
    "duration": 13,
    "start_time": "2023-04-14T02:01:24.772Z"
   },
   {
    "duration": 7,
    "start_time": "2023-04-14T02:01:24.791Z"
   },
   {
    "duration": 4136288,
    "start_time": "2023-04-14T02:01:24.800Z"
   },
   {
    "duration": 11494,
    "start_time": "2023-04-14T03:10:21.092Z"
   },
   {
    "duration": 97,
    "start_time": "2023-04-14T03:10:32.589Z"
   },
   {
    "duration": 5,
    "start_time": "2023-04-14T03:10:32.688Z"
   },
   {
    "duration": 5,
    "start_time": "2023-04-14T03:10:32.695Z"
   },
   {
    "duration": 7,
    "start_time": "2023-04-14T03:10:32.702Z"
   },
   {
    "duration": 4,
    "start_time": "2023-04-14T03:10:32.711Z"
   },
   {
    "duration": 553008,
    "start_time": "2023-04-14T03:10:32.716Z"
   },
   {
    "duration": 45770,
    "start_time": "2023-04-14T03:19:45.726Z"
   },
   {
    "duration": 196,
    "start_time": "2023-04-14T03:20:31.498Z"
   },
   {
    "duration": 194,
    "start_time": "2023-04-14T03:20:31.696Z"
   },
   {
    "duration": 380,
    "start_time": "2023-04-14T03:20:31.892Z"
   },
   {
    "duration": 0,
    "start_time": "2023-04-14T03:20:32.274Z"
   },
   {
    "duration": 0,
    "start_time": "2023-04-14T03:20:32.275Z"
   },
   {
    "duration": 0,
    "start_time": "2023-04-14T03:20:32.276Z"
   },
   {
    "duration": 0,
    "start_time": "2023-04-14T03:20:32.277Z"
   },
   {
    "duration": 0,
    "start_time": "2023-04-14T03:20:32.278Z"
   },
   {
    "duration": 0,
    "start_time": "2023-04-14T03:20:32.285Z"
   },
   {
    "duration": 0,
    "start_time": "2023-04-14T03:20:32.287Z"
   },
   {
    "duration": 0,
    "start_time": "2023-04-14T03:20:32.288Z"
   },
   {
    "duration": 0,
    "start_time": "2023-04-14T03:20:32.289Z"
   },
   {
    "duration": 0,
    "start_time": "2023-04-14T03:20:32.290Z"
   },
   {
    "duration": 26,
    "start_time": "2023-04-14T09:33:49.396Z"
   },
   {
    "duration": 57477,
    "start_time": "2023-04-14T09:34:12.382Z"
   },
   {
    "duration": 324,
    "start_time": "2023-04-14T09:35:09.862Z"
   },
   {
    "duration": 9,
    "start_time": "2023-04-14T09:35:10.188Z"
   },
   {
    "duration": 7,
    "start_time": "2023-04-14T09:35:10.200Z"
   },
   {
    "duration": 89437,
    "start_time": "2023-04-14T09:35:10.209Z"
   },
   {
    "duration": 90,
    "start_time": "2023-04-14T09:36:39.649Z"
   },
   {
    "duration": 21,
    "start_time": "2023-04-14T09:36:39.741Z"
   },
   {
    "duration": 0,
    "start_time": "2023-04-14T09:36:39.763Z"
   },
   {
    "duration": 0,
    "start_time": "2023-04-14T09:36:39.765Z"
   },
   {
    "duration": 0,
    "start_time": "2023-04-14T09:36:39.766Z"
   },
   {
    "duration": 0,
    "start_time": "2023-04-14T09:36:39.786Z"
   },
   {
    "duration": 4,
    "start_time": "2023-04-14T09:39:15.777Z"
   },
   {
    "duration": 36,
    "start_time": "2023-04-14T09:39:19.873Z"
   },
   {
    "duration": 52775,
    "start_time": "2023-04-14T09:40:17.850Z"
   },
   {
    "duration": 1710,
    "start_time": "2023-04-14T09:41:10.627Z"
   },
   {
    "duration": 8,
    "start_time": "2023-04-14T09:41:12.339Z"
   },
   {
    "duration": 11,
    "start_time": "2023-04-14T09:41:12.349Z"
   },
   {
    "duration": 2873,
    "start_time": "2023-04-14T10:13:12.192Z"
   },
   {
    "duration": 6636,
    "start_time": "2023-04-14T10:13:15.067Z"
   },
   {
    "duration": 1046,
    "start_time": "2023-04-14T10:13:21.705Z"
   },
   {
    "duration": 56,
    "start_time": "2023-04-14T10:13:22.753Z"
   },
   {
    "duration": 292,
    "start_time": "2023-04-14T10:13:22.811Z"
   },
   {
    "duration": 300,
    "start_time": "2023-04-14T10:13:23.105Z"
   },
   {
    "duration": 15,
    "start_time": "2023-04-14T10:13:23.411Z"
   },
   {
    "duration": 345,
    "start_time": "2023-04-14T10:13:23.432Z"
   },
   {
    "duration": 4960,
    "start_time": "2023-04-14T10:13:23.779Z"
   },
   {
    "duration": 39,
    "start_time": "2023-04-14T10:13:28.754Z"
   },
   {
    "duration": 43,
    "start_time": "2023-04-14T10:13:28.811Z"
   },
   {
    "duration": 9,
    "start_time": "2023-04-14T10:13:28.855Z"
   },
   {
    "duration": 4,
    "start_time": "2023-04-14T10:13:28.866Z"
   },
   {
    "duration": 5,
    "start_time": "2023-04-14T10:13:28.871Z"
   },
   {
    "duration": 16,
    "start_time": "2023-04-14T10:13:28.879Z"
   },
   {
    "duration": 23,
    "start_time": "2023-04-14T10:13:28.897Z"
   },
   {
    "duration": 297218,
    "start_time": "2023-04-14T10:13:28.922Z"
   },
   {
    "duration": 10,
    "start_time": "2023-04-14T10:18:26.141Z"
   },
   {
    "duration": 17,
    "start_time": "2023-04-14T10:18:26.153Z"
   },
   {
    "duration": 4,
    "start_time": "2023-04-14T10:18:26.172Z"
   },
   {
    "duration": 131,
    "start_time": "2023-04-14T10:18:26.177Z"
   },
   {
    "duration": 26,
    "start_time": "2023-04-14T10:18:26.310Z"
   },
   {
    "duration": 12,
    "start_time": "2023-04-14T10:18:26.337Z"
   },
   {
    "duration": 85,
    "start_time": "2023-04-14T10:18:26.351Z"
   },
   {
    "duration": 0,
    "start_time": "2023-04-14T10:18:26.438Z"
   },
   {
    "duration": 0,
    "start_time": "2023-04-14T10:18:26.440Z"
   },
   {
    "duration": 0,
    "start_time": "2023-04-14T10:18:26.441Z"
   },
   {
    "duration": 0,
    "start_time": "2023-04-14T10:18:26.442Z"
   },
   {
    "duration": 0,
    "start_time": "2023-04-14T10:18:26.444Z"
   },
   {
    "duration": 0,
    "start_time": "2023-04-14T10:18:26.445Z"
   },
   {
    "duration": 0,
    "start_time": "2023-04-14T10:18:26.446Z"
   },
   {
    "duration": 0,
    "start_time": "2023-04-14T10:18:26.447Z"
   },
   {
    "duration": 0,
    "start_time": "2023-04-14T10:18:26.448Z"
   },
   {
    "duration": 0,
    "start_time": "2023-04-14T10:18:26.450Z"
   },
   {
    "duration": 0,
    "start_time": "2023-04-14T10:18:26.451Z"
   },
   {
    "duration": 0,
    "start_time": "2023-04-14T10:18:26.452Z"
   },
   {
    "duration": 0,
    "start_time": "2023-04-14T10:18:26.453Z"
   },
   {
    "duration": 0,
    "start_time": "2023-04-14T10:18:26.454Z"
   },
   {
    "duration": 0,
    "start_time": "2023-04-14T10:18:26.456Z"
   },
   {
    "duration": 0,
    "start_time": "2023-04-14T10:18:26.457Z"
   },
   {
    "duration": 0,
    "start_time": "2023-04-14T10:18:26.458Z"
   },
   {
    "duration": 0,
    "start_time": "2023-04-14T10:18:26.459Z"
   },
   {
    "duration": 0,
    "start_time": "2023-04-14T10:18:26.460Z"
   },
   {
    "duration": 0,
    "start_time": "2023-04-14T10:18:26.461Z"
   },
   {
    "duration": 0,
    "start_time": "2023-04-14T10:18:26.462Z"
   },
   {
    "duration": 0,
    "start_time": "2023-04-14T10:18:26.463Z"
   },
   {
    "duration": 0,
    "start_time": "2023-04-14T10:18:26.463Z"
   },
   {
    "duration": 0,
    "start_time": "2023-04-14T10:18:26.464Z"
   },
   {
    "duration": 0,
    "start_time": "2023-04-14T10:18:26.465Z"
   },
   {
    "duration": 0,
    "start_time": "2023-04-14T10:18:26.466Z"
   },
   {
    "duration": 0,
    "start_time": "2023-04-14T10:18:26.467Z"
   },
   {
    "duration": 0,
    "start_time": "2023-04-14T10:18:26.468Z"
   },
   {
    "duration": 0,
    "start_time": "2023-04-14T10:18:26.469Z"
   },
   {
    "duration": 0,
    "start_time": "2023-04-14T10:18:26.470Z"
   },
   {
    "duration": 0,
    "start_time": "2023-04-14T10:18:26.471Z"
   },
   {
    "duration": 98,
    "start_time": "2023-04-14T10:48:34.125Z"
   },
   {
    "duration": 4,
    "start_time": "2023-04-14T10:48:51.016Z"
   },
   {
    "duration": 4,
    "start_time": "2023-04-14T10:48:53.026Z"
   },
   {
    "duration": 10,
    "start_time": "2023-04-14T10:48:53.785Z"
   },
   {
    "duration": 1392,
    "start_time": "2023-04-14T10:48:58.449Z"
   },
   {
    "duration": 3,
    "start_time": "2023-04-14T10:48:59.843Z"
   },
   {
    "duration": 4,
    "start_time": "2023-04-14T10:49:02.454Z"
   },
   {
    "duration": 5,
    "start_time": "2023-04-14T10:49:04.317Z"
   },
   {
    "duration": 12,
    "start_time": "2023-04-14T10:49:09.604Z"
   },
   {
    "duration": 6430792,
    "start_time": "2023-04-14T10:49:10.651Z"
   },
   {
    "duration": 0,
    "start_time": "2023-04-14T12:36:21.445Z"
   },
   {
    "duration": 0,
    "start_time": "2023-04-14T12:36:21.447Z"
   },
   {
    "duration": 0,
    "start_time": "2023-04-14T12:36:21.448Z"
   },
   {
    "duration": 3,
    "start_time": "2023-04-14T12:38:12.065Z"
   },
   {
    "duration": 5,
    "start_time": "2023-04-14T12:38:13.753Z"
   },
   {
    "duration": 8,
    "start_time": "2023-04-14T12:38:15.753Z"
   },
   {
    "duration": 72,
    "start_time": "2023-04-14T12:38:18.094Z"
   },
   {
    "duration": 5,
    "start_time": "2023-04-14T12:39:03.127Z"
   },
   {
    "duration": 14,
    "start_time": "2023-04-14T12:39:03.985Z"
   },
   {
    "duration": 10,
    "start_time": "2023-04-14T12:39:04.910Z"
   },
   {
    "duration": 13,
    "start_time": "2023-04-14T12:39:17.120Z"
   },
   {
    "duration": 1399,
    "start_time": "2023-04-14T12:39:21.947Z"
   },
   {
    "duration": 3,
    "start_time": "2023-04-14T12:39:23.348Z"
   },
   {
    "duration": 3,
    "start_time": "2023-04-14T12:39:23.650Z"
   },
   {
    "duration": 5,
    "start_time": "2023-04-14T12:39:25.103Z"
   },
   {
    "duration": 3,
    "start_time": "2023-04-14T12:39:27.167Z"
   },
   {
    "duration": 4,
    "start_time": "2023-04-14T12:39:27.879Z"
   },
   {
    "duration": 29,
    "start_time": "2023-04-14T12:39:28.785Z"
   },
   {
    "duration": 29,
    "start_time": "2023-04-14T12:39:30.754Z"
   },
   {
    "duration": 154359,
    "start_time": "2023-04-14T12:40:08.470Z"
   },
   {
    "duration": 0,
    "start_time": "2023-04-14T12:42:42.832Z"
   },
   {
    "duration": 0,
    "start_time": "2023-04-14T12:42:42.835Z"
   },
   {
    "duration": 0,
    "start_time": "2023-04-14T12:42:42.836Z"
   },
   {
    "duration": 4,
    "start_time": "2023-04-14T12:42:52.228Z"
   },
   {
    "duration": 6,
    "start_time": "2023-04-14T12:42:53.622Z"
   },
   {
    "duration": 27,
    "start_time": "2023-04-14T12:42:57.214Z"
   },
   {
    "duration": 4,
    "start_time": "2023-04-14T12:43:57.774Z"
   },
   {
    "duration": 14,
    "start_time": "2023-04-14T12:43:58.877Z"
   },
   {
    "duration": 39,
    "start_time": "2023-04-14T12:44:00.261Z"
   },
   {
    "duration": 4,
    "start_time": "2023-04-14T12:45:16.710Z"
   },
   {
    "duration": 8,
    "start_time": "2023-04-14T12:45:17.722Z"
   },
   {
    "duration": 23,
    "start_time": "2023-04-14T12:45:19.543Z"
   },
   {
    "duration": 186102,
    "start_time": "2023-04-14T12:47:02.015Z"
   },
   {
    "duration": 0,
    "start_time": "2023-04-14T12:50:08.120Z"
   },
   {
    "duration": 0,
    "start_time": "2023-04-14T12:50:08.121Z"
   },
   {
    "duration": 0,
    "start_time": "2023-04-14T12:50:08.122Z"
   },
   {
    "duration": 4,
    "start_time": "2023-04-14T12:50:17.339Z"
   },
   {
    "duration": 4,
    "start_time": "2023-04-14T12:50:18.457Z"
   },
   {
    "duration": 4,
    "start_time": "2023-04-14T12:50:43.678Z"
   },
   {
    "duration": 6,
    "start_time": "2023-04-14T12:52:42.075Z"
   },
   {
    "duration": 7,
    "start_time": "2023-04-14T12:52:45.155Z"
   },
   {
    "duration": 28,
    "start_time": "2023-04-14T12:52:47.438Z"
   },
   {
    "duration": 4,
    "start_time": "2023-04-14T12:53:29.108Z"
   },
   {
    "duration": 15,
    "start_time": "2023-04-14T12:53:30.086Z"
   },
   {
    "duration": 23,
    "start_time": "2023-04-14T12:53:33.556Z"
   },
   {
    "duration": 4105623,
    "start_time": "2023-04-14T12:56:45.280Z"
   },
   {
    "duration": 0,
    "start_time": "2023-04-14T14:05:10.907Z"
   },
   {
    "duration": 0,
    "start_time": "2023-04-14T14:05:10.910Z"
   },
   {
    "duration": 0,
    "start_time": "2023-04-14T14:05:10.911Z"
   },
   {
    "duration": 3488454,
    "start_time": "2023-04-14T14:05:59.075Z"
   },
   {
    "duration": 347595,
    "start_time": "2023-04-14T15:04:07.531Z"
   },
   {
    "duration": 180,
    "start_time": "2023-04-14T15:09:55.128Z"
   },
   {
    "duration": 278,
    "start_time": "2023-04-14T15:09:55.310Z"
   },
   {
    "duration": 52009,
    "start_time": "2023-04-14T15:09:55.591Z"
   },
   {
    "duration": 302,
    "start_time": "2023-04-14T15:10:47.602Z"
   },
   {
    "duration": 7,
    "start_time": "2023-04-14T15:10:47.906Z"
   },
   {
    "duration": 26,
    "start_time": "2023-04-14T15:10:47.914Z"
   },
   {
    "duration": 51706,
    "start_time": "2023-04-14T15:10:47.941Z"
   },
   {
    "duration": 1787,
    "start_time": "2023-04-14T15:11:39.649Z"
   },
   {
    "duration": 10,
    "start_time": "2023-04-14T15:11:41.438Z"
   },
   {
    "duration": 46,
    "start_time": "2023-04-14T15:11:41.450Z"
   },
   {
    "duration": 371899,
    "start_time": "2023-04-14T15:11:41.501Z"
   },
   {
    "duration": 0,
    "start_time": "2023-04-14T15:17:53.403Z"
   },
   {
    "duration": 0,
    "start_time": "2023-04-14T15:17:53.404Z"
   },
   {
    "duration": 0,
    "start_time": "2023-04-14T15:17:53.405Z"
   },
   {
    "duration": 0,
    "start_time": "2023-04-14T15:17:53.406Z"
   },
   {
    "duration": 0,
    "start_time": "2023-04-14T15:17:53.407Z"
   },
   {
    "duration": 0,
    "start_time": "2023-04-14T15:17:53.413Z"
   },
   {
    "duration": 0,
    "start_time": "2023-04-14T15:17:53.414Z"
   },
   {
    "duration": 0,
    "start_time": "2023-04-14T15:17:53.415Z"
   },
   {
    "duration": 0,
    "start_time": "2023-04-14T15:17:53.416Z"
   },
   {
    "duration": 0,
    "start_time": "2023-04-14T15:17:53.417Z"
   },
   {
    "duration": 0,
    "start_time": "2023-04-14T15:17:53.419Z"
   },
   {
    "duration": 0,
    "start_time": "2023-04-14T15:17:53.420Z"
   },
   {
    "duration": 0,
    "start_time": "2023-04-14T15:17:53.421Z"
   },
   {
    "duration": 0,
    "start_time": "2023-04-14T15:17:53.422Z"
   },
   {
    "duration": 0,
    "start_time": "2023-04-14T15:17:53.423Z"
   },
   {
    "duration": 3,
    "start_time": "2023-04-14T15:18:09.629Z"
   },
   {
    "duration": 8,
    "start_time": "2023-04-14T15:18:10.363Z"
   },
   {
    "duration": 1255,
    "start_time": "2023-04-14T15:18:13.810Z"
   },
   {
    "duration": 4,
    "start_time": "2023-04-14T15:18:15.067Z"
   },
   {
    "duration": 3,
    "start_time": "2023-04-14T15:18:16.010Z"
   },
   {
    "duration": 3,
    "start_time": "2023-04-14T15:18:17.498Z"
   },
   {
    "duration": 2,
    "start_time": "2023-04-14T15:18:21.507Z"
   },
   {
    "duration": 5,
    "start_time": "2023-04-14T15:18:23.236Z"
   },
   {
    "duration": 8,
    "start_time": "2023-04-14T15:18:26.458Z"
   },
   {
    "duration": 4,
    "start_time": "2023-04-14T15:18:31.601Z"
   },
   {
    "duration": 4,
    "start_time": "2023-04-14T15:20:29.015Z"
   },
   {
    "duration": 3,
    "start_time": "2023-04-14T15:20:42.498Z"
   },
   {
    "duration": 4,
    "start_time": "2023-04-14T15:23:12.303Z"
   },
   {
    "duration": 6,
    "start_time": "2023-04-14T15:23:26.255Z"
   },
   {
    "duration": 33,
    "start_time": "2023-04-14T15:23:46.349Z"
   },
   {
    "duration": 56,
    "start_time": "2023-04-14T15:24:34.347Z"
   },
   {
    "duration": 4,
    "start_time": "2023-04-14T15:24:34.507Z"
   },
   {
    "duration": 4,
    "start_time": "2023-04-14T15:25:04.057Z"
   },
   {
    "duration": 4,
    "start_time": "2023-04-14T15:25:06.129Z"
   },
   {
    "duration": 8,
    "start_time": "2023-04-14T15:25:07.012Z"
   },
   {
    "duration": 1155,
    "start_time": "2023-04-14T15:25:14.169Z"
   },
   {
    "duration": 15,
    "start_time": "2023-04-14T15:25:16.785Z"
   },
   {
    "duration": 3,
    "start_time": "2023-04-14T15:25:18.002Z"
   },
   {
    "duration": 3,
    "start_time": "2023-04-14T15:25:22.849Z"
   },
   {
    "duration": 3,
    "start_time": "2023-04-14T15:25:29.329Z"
   },
   {
    "duration": 4,
    "start_time": "2023-04-14T15:25:30.522Z"
   },
   {
    "duration": 7,
    "start_time": "2023-04-14T15:25:31.548Z"
   },
   {
    "duration": 31,
    "start_time": "2023-04-14T15:25:49.353Z"
   },
   {
    "duration": 6,
    "start_time": "2023-04-14T15:26:14.598Z"
   },
   {
    "duration": 4,
    "start_time": "2023-04-14T15:26:15.401Z"
   },
   {
    "duration": 9,
    "start_time": "2023-04-14T15:26:16.009Z"
   },
   {
    "duration": 1192,
    "start_time": "2023-04-14T15:26:19.521Z"
   },
   {
    "duration": 3,
    "start_time": "2023-04-14T15:26:20.716Z"
   },
   {
    "duration": 4,
    "start_time": "2023-04-14T15:26:22.255Z"
   },
   {
    "duration": 12,
    "start_time": "2023-04-14T15:26:23.289Z"
   },
   {
    "duration": 3,
    "start_time": "2023-04-14T15:26:28.063Z"
   },
   {
    "duration": 7,
    "start_time": "2023-04-14T15:26:28.880Z"
   },
   {
    "duration": 7,
    "start_time": "2023-04-14T15:26:30.371Z"
   },
   {
    "duration": 33,
    "start_time": "2023-04-14T15:26:32.033Z"
   },
   {
    "duration": 8,
    "start_time": "2023-04-14T15:27:19.068Z"
   },
   {
    "duration": 4,
    "start_time": "2023-04-14T15:27:19.233Z"
   },
   {
    "duration": 9,
    "start_time": "2023-04-14T15:27:20.931Z"
   },
   {
    "duration": 1239,
    "start_time": "2023-04-14T15:27:30.171Z"
   },
   {
    "duration": 4,
    "start_time": "2023-04-14T15:27:31.412Z"
   },
   {
    "duration": 3,
    "start_time": "2023-04-14T15:27:34.236Z"
   },
   {
    "duration": 4,
    "start_time": "2023-04-14T15:27:34.409Z"
   },
   {
    "duration": 3,
    "start_time": "2023-04-14T15:27:38.928Z"
   },
   {
    "duration": 5,
    "start_time": "2023-04-14T15:27:39.873Z"
   },
   {
    "duration": 10,
    "start_time": "2023-04-14T15:27:40.055Z"
   },
   {
    "duration": 33,
    "start_time": "2023-04-14T15:27:40.231Z"
   },
   {
    "duration": 49,
    "start_time": "2023-04-14T15:29:38.081Z"
   },
   {
    "duration": 5,
    "start_time": "2023-04-14T15:29:38.259Z"
   },
   {
    "duration": 10,
    "start_time": "2023-04-14T15:29:40.446Z"
   },
   {
    "duration": 1214,
    "start_time": "2023-04-14T15:29:44.230Z"
   },
   {
    "duration": 4,
    "start_time": "2023-04-14T15:29:45.447Z"
   },
   {
    "duration": 13,
    "start_time": "2023-04-14T15:29:45.454Z"
   },
   {
    "duration": 4,
    "start_time": "2023-04-14T15:29:46.771Z"
   },
   {
    "duration": 3,
    "start_time": "2023-04-14T15:29:51.074Z"
   },
   {
    "duration": 8,
    "start_time": "2023-04-14T15:29:51.883Z"
   },
   {
    "duration": 8,
    "start_time": "2023-04-14T15:29:53.851Z"
   },
   {
    "duration": 50,
    "start_time": "2023-04-14T15:29:57.039Z"
   },
   {
    "duration": 58,
    "start_time": "2023-04-14T15:31:45.098Z"
   },
   {
    "duration": 46,
    "start_time": "2023-04-14T15:32:11.332Z"
   },
   {
    "duration": 50,
    "start_time": "2023-04-14T15:32:25.400Z"
   },
   {
    "duration": 50,
    "start_time": "2023-04-14T15:36:00.465Z"
   },
   {
    "duration": 46,
    "start_time": "2023-04-14T15:37:09.866Z"
   },
   {
    "duration": 48,
    "start_time": "2023-04-14T15:37:52.642Z"
   },
   {
    "duration": 47,
    "start_time": "2023-04-14T15:38:12.779Z"
   },
   {
    "duration": 44,
    "start_time": "2023-04-14T15:38:42.275Z"
   },
   {
    "duration": 40,
    "start_time": "2023-04-14T15:39:40.133Z"
   },
   {
    "duration": 71,
    "start_time": "2023-04-14T15:40:22.989Z"
   },
   {
    "duration": 47,
    "start_time": "2023-04-14T15:40:50.991Z"
   },
   {
    "duration": 56,
    "start_time": "2023-04-14T15:41:01.981Z"
   },
   {
    "duration": 40,
    "start_time": "2023-04-14T15:41:15.723Z"
   },
   {
    "duration": 10,
    "start_time": "2023-04-14T15:41:25.688Z"
   },
   {
    "duration": 4,
    "start_time": "2023-04-14T15:41:51.542Z"
   },
   {
    "duration": 4,
    "start_time": "2023-04-14T15:41:59.299Z"
   },
   {
    "duration": 10,
    "start_time": "2023-04-14T15:42:00.752Z"
   },
   {
    "duration": 1112,
    "start_time": "2023-04-14T15:42:07.303Z"
   },
   {
    "duration": 4,
    "start_time": "2023-04-14T15:42:08.417Z"
   },
   {
    "duration": 3,
    "start_time": "2023-04-14T15:42:09.620Z"
   },
   {
    "duration": 3,
    "start_time": "2023-04-14T15:42:10.735Z"
   },
   {
    "duration": 3,
    "start_time": "2023-04-14T15:42:17.806Z"
   },
   {
    "duration": 5,
    "start_time": "2023-04-14T15:42:18.732Z"
   },
   {
    "duration": 7,
    "start_time": "2023-04-14T15:42:20.396Z"
   },
   {
    "duration": 42,
    "start_time": "2023-04-14T15:42:24.155Z"
   },
   {
    "duration": 4,
    "start_time": "2023-04-14T15:43:11.407Z"
   },
   {
    "duration": 3,
    "start_time": "2023-04-14T15:43:12.311Z"
   },
   {
    "duration": 9,
    "start_time": "2023-04-14T15:43:20.304Z"
   },
   {
    "duration": 1095,
    "start_time": "2023-04-14T15:43:21.925Z"
   },
   {
    "duration": 4,
    "start_time": "2023-04-14T15:43:23.022Z"
   },
   {
    "duration": 17,
    "start_time": "2023-04-14T15:43:23.028Z"
   },
   {
    "duration": 17,
    "start_time": "2023-04-14T15:43:23.047Z"
   },
   {
    "duration": 2,
    "start_time": "2023-04-14T15:43:23.365Z"
   },
   {
    "duration": 4,
    "start_time": "2023-04-14T15:43:23.651Z"
   },
   {
    "duration": 8,
    "start_time": "2023-04-14T15:43:24.045Z"
   },
   {
    "duration": 51,
    "start_time": "2023-04-14T15:43:24.243Z"
   },
   {
    "duration": 4,
    "start_time": "2023-04-14T15:45:03.867Z"
   },
   {
    "duration": 3,
    "start_time": "2023-04-14T15:45:05.186Z"
   },
   {
    "duration": 8,
    "start_time": "2023-04-14T15:45:06.250Z"
   },
   {
    "duration": 1146,
    "start_time": "2023-04-14T15:45:07.346Z"
   },
   {
    "duration": 4,
    "start_time": "2023-04-14T15:45:08.495Z"
   },
   {
    "duration": 16,
    "start_time": "2023-04-14T15:45:08.500Z"
   },
   {
    "duration": 17,
    "start_time": "2023-04-14T15:45:08.518Z"
   },
   {
    "duration": 3,
    "start_time": "2023-04-14T15:45:08.616Z"
   },
   {
    "duration": 5,
    "start_time": "2023-04-14T15:45:08.904Z"
   },
   {
    "duration": 7,
    "start_time": "2023-04-14T15:45:09.338Z"
   },
   {
    "duration": 45,
    "start_time": "2023-04-14T15:45:10.763Z"
   },
   {
    "duration": 55,
    "start_time": "2023-04-14T15:46:25.818Z"
   },
   {
    "duration": 63,
    "start_time": "2023-04-14T15:47:03.845Z"
   },
   {
    "duration": 48,
    "start_time": "2023-04-14T15:47:51.757Z"
   },
   {
    "duration": 46,
    "start_time": "2023-04-14T15:48:15.756Z"
   },
   {
    "duration": 4,
    "start_time": "2023-04-14T15:48:37.846Z"
   },
   {
    "duration": 4,
    "start_time": "2023-04-14T15:48:41.877Z"
   },
   {
    "duration": 9,
    "start_time": "2023-04-14T15:48:42.580Z"
   },
   {
    "duration": 1183,
    "start_time": "2023-04-14T15:48:43.805Z"
   },
   {
    "duration": 4,
    "start_time": "2023-04-14T15:48:44.990Z"
   },
   {
    "duration": 18,
    "start_time": "2023-04-14T15:48:44.995Z"
   },
   {
    "duration": 3,
    "start_time": "2023-04-14T15:48:45.213Z"
   },
   {
    "duration": 3,
    "start_time": "2023-04-14T15:48:46.234Z"
   },
   {
    "duration": 4,
    "start_time": "2023-04-14T15:48:46.459Z"
   },
   {
    "duration": 7,
    "start_time": "2023-04-14T15:48:46.681Z"
   },
   {
    "duration": 31,
    "start_time": "2023-04-14T15:48:47.892Z"
   },
   {
    "duration": 48,
    "start_time": "2023-04-14T15:50:39.208Z"
   },
   {
    "duration": 50,
    "start_time": "2023-04-15T01:03:58.957Z"
   },
   {
    "duration": 51,
    "start_time": "2023-04-15T01:04:50.185Z"
   },
   {
    "duration": 4,
    "start_time": "2023-04-15T01:04:58.784Z"
   },
   {
    "duration": 44,
    "start_time": "2023-04-15T01:05:18.592Z"
   },
   {
    "duration": 49,
    "start_time": "2023-04-15T01:09:21.545Z"
   },
   {
    "duration": 4,
    "start_time": "2023-04-15T01:09:30.085Z"
   },
   {
    "duration": 4,
    "start_time": "2023-04-15T01:09:32.001Z"
   },
   {
    "duration": 9,
    "start_time": "2023-04-15T01:09:32.937Z"
   },
   {
    "duration": 1008,
    "start_time": "2023-04-15T01:09:35.067Z"
   },
   {
    "duration": 8,
    "start_time": "2023-04-15T01:09:36.077Z"
   },
   {
    "duration": 3,
    "start_time": "2023-04-15T01:09:36.087Z"
   },
   {
    "duration": 4,
    "start_time": "2023-04-15T01:09:36.093Z"
   },
   {
    "duration": 3,
    "start_time": "2023-04-15T01:09:36.691Z"
   },
   {
    "duration": 5,
    "start_time": "2023-04-15T01:09:36.987Z"
   },
   {
    "duration": 7,
    "start_time": "2023-04-15T01:09:37.921Z"
   },
   {
    "duration": 34,
    "start_time": "2023-04-15T01:09:38.817Z"
   },
   {
    "duration": 5,
    "start_time": "2023-04-15T01:10:30.071Z"
   },
   {
    "duration": 4,
    "start_time": "2023-04-15T01:10:31.430Z"
   },
   {
    "duration": 12,
    "start_time": "2023-04-15T01:10:32.460Z"
   },
   {
    "duration": 1084,
    "start_time": "2023-04-15T01:10:33.690Z"
   },
   {
    "duration": 3,
    "start_time": "2023-04-15T01:10:34.776Z"
   },
   {
    "duration": 4,
    "start_time": "2023-04-15T01:10:34.785Z"
   },
   {
    "duration": 4,
    "start_time": "2023-04-15T01:10:35.076Z"
   },
   {
    "duration": 3,
    "start_time": "2023-04-15T01:10:35.791Z"
   },
   {
    "duration": 4,
    "start_time": "2023-04-15T01:10:36.521Z"
   },
   {
    "duration": 8,
    "start_time": "2023-04-15T01:10:37.361Z"
   },
   {
    "duration": 30,
    "start_time": "2023-04-15T01:10:38.403Z"
   },
   {
    "duration": 62,
    "start_time": "2023-04-15T01:12:06.845Z"
   },
   {
    "duration": 47,
    "start_time": "2023-04-15T01:12:17.704Z"
   },
   {
    "duration": 4,
    "start_time": "2023-04-15T01:12:17.905Z"
   },
   {
    "duration": 64,
    "start_time": "2023-04-15T01:12:31.148Z"
   },
   {
    "duration": 4,
    "start_time": "2023-04-15T01:12:37.196Z"
   },
   {
    "duration": 4,
    "start_time": "2023-04-15T01:12:49.237Z"
   },
   {
    "duration": 3,
    "start_time": "2023-04-15T01:12:49.680Z"
   },
   {
    "duration": 8,
    "start_time": "2023-04-15T01:12:49.910Z"
   },
   {
    "duration": 1051,
    "start_time": "2023-04-15T01:12:53.051Z"
   },
   {
    "duration": 3,
    "start_time": "2023-04-15T01:12:54.104Z"
   },
   {
    "duration": 4,
    "start_time": "2023-04-15T01:12:54.109Z"
   },
   {
    "duration": 6,
    "start_time": "2023-04-15T01:12:54.114Z"
   },
   {
    "duration": 2,
    "start_time": "2023-04-15T01:12:54.980Z"
   },
   {
    "duration": 4,
    "start_time": "2023-04-15T01:12:55.240Z"
   },
   {
    "duration": 6,
    "start_time": "2023-04-15T01:12:55.716Z"
   },
   {
    "duration": 30,
    "start_time": "2023-04-15T01:12:56.787Z"
   },
   {
    "duration": 4,
    "start_time": "2023-04-15T01:14:38.286Z"
   },
   {
    "duration": 3,
    "start_time": "2023-04-15T01:14:39.354Z"
   },
   {
    "duration": 8,
    "start_time": "2023-04-15T01:14:40.334Z"
   },
   {
    "duration": 994,
    "start_time": "2023-04-15T01:14:42.203Z"
   },
   {
    "duration": 4,
    "start_time": "2023-04-15T01:14:43.198Z"
   },
   {
    "duration": 3,
    "start_time": "2023-04-15T01:14:43.524Z"
   },
   {
    "duration": 3,
    "start_time": "2023-04-15T01:14:44.459Z"
   },
   {
    "duration": 3,
    "start_time": "2023-04-15T01:14:45.092Z"
   },
   {
    "duration": 4,
    "start_time": "2023-04-15T01:14:45.452Z"
   },
   {
    "duration": 6,
    "start_time": "2023-04-15T01:14:45.804Z"
   },
   {
    "duration": 29,
    "start_time": "2023-04-15T01:14:46.878Z"
   },
   {
    "duration": 4,
    "start_time": "2023-04-15T01:15:55.598Z"
   },
   {
    "duration": 5,
    "start_time": "2023-04-15T01:15:56.942Z"
   },
   {
    "duration": 9,
    "start_time": "2023-04-15T01:15:57.736Z"
   },
   {
    "duration": 1057,
    "start_time": "2023-04-15T01:15:59.308Z"
   },
   {
    "duration": 3,
    "start_time": "2023-04-15T01:16:00.367Z"
   },
   {
    "duration": 28,
    "start_time": "2023-04-15T01:16:00.373Z"
   },
   {
    "duration": 29,
    "start_time": "2023-04-15T01:16:00.404Z"
   },
   {
    "duration": 3,
    "start_time": "2023-04-15T01:16:01.414Z"
   },
   {
    "duration": 4,
    "start_time": "2023-04-15T01:16:02.166Z"
   },
   {
    "duration": 8,
    "start_time": "2023-04-15T01:16:03.228Z"
   },
   {
    "duration": 47,
    "start_time": "2023-04-15T01:16:04.910Z"
   },
   {
    "duration": 4,
    "start_time": "2023-04-15T01:21:36.773Z"
   },
   {
    "duration": 4,
    "start_time": "2023-04-15T01:21:38.107Z"
   },
   {
    "duration": 8,
    "start_time": "2023-04-15T01:21:39.075Z"
   },
   {
    "duration": 1010,
    "start_time": "2023-04-15T01:21:40.849Z"
   },
   {
    "duration": 4,
    "start_time": "2023-04-15T01:21:41.861Z"
   },
   {
    "duration": 13,
    "start_time": "2023-04-15T01:21:41.866Z"
   },
   {
    "duration": 3,
    "start_time": "2023-04-15T01:21:41.992Z"
   },
   {
    "duration": 3,
    "start_time": "2023-04-15T01:21:43.345Z"
   },
   {
    "duration": 5,
    "start_time": "2023-04-15T01:21:43.625Z"
   },
   {
    "duration": 9,
    "start_time": "2023-04-15T01:21:44.417Z"
   },
   {
    "duration": 33,
    "start_time": "2023-04-15T01:21:45.401Z"
   },
   {
    "duration": 4,
    "start_time": "2023-04-15T01:22:21.091Z"
   },
   {
    "duration": 3,
    "start_time": "2023-04-15T01:22:22.205Z"
   },
   {
    "duration": 8,
    "start_time": "2023-04-15T01:22:23.588Z"
   },
   {
    "duration": 1042,
    "start_time": "2023-04-15T01:22:24.913Z"
   },
   {
    "duration": 3,
    "start_time": "2023-04-15T01:22:25.957Z"
   },
   {
    "duration": 3,
    "start_time": "2023-04-15T01:22:25.962Z"
   },
   {
    "duration": 4,
    "start_time": "2023-04-15T01:22:26.419Z"
   },
   {
    "duration": 3,
    "start_time": "2023-04-15T01:22:27.771Z"
   },
   {
    "duration": 5,
    "start_time": "2023-04-15T01:22:28.613Z"
   },
   {
    "duration": 7,
    "start_time": "2023-04-15T01:22:29.355Z"
   },
   {
    "duration": 28,
    "start_time": "2023-04-15T01:22:30.503Z"
   },
   {
    "duration": 46976,
    "start_time": "2023-04-15T01:22:52.093Z"
   },
   {
    "duration": 1589,
    "start_time": "2023-04-15T01:23:39.071Z"
   },
   {
    "duration": 7,
    "start_time": "2023-04-15T01:23:40.662Z"
   },
   {
    "duration": 35,
    "start_time": "2023-04-15T01:23:40.671Z"
   },
   {
    "duration": 4,
    "start_time": "2023-04-15T01:35:53.115Z"
   },
   {
    "duration": 4,
    "start_time": "2023-04-15T01:35:53.607Z"
   },
   {
    "duration": 8,
    "start_time": "2023-04-15T01:35:53.903Z"
   },
   {
    "duration": 1037,
    "start_time": "2023-04-15T01:35:55.497Z"
   },
   {
    "duration": 4,
    "start_time": "2023-04-15T01:35:56.536Z"
   },
   {
    "duration": 3,
    "start_time": "2023-04-15T01:35:57.478Z"
   },
   {
    "duration": 4,
    "start_time": "2023-04-15T01:35:58.348Z"
   },
   {
    "duration": 2,
    "start_time": "2023-04-15T01:35:59.428Z"
   },
   {
    "duration": 4,
    "start_time": "2023-04-15T01:36:00.667Z"
   },
   {
    "duration": 7,
    "start_time": "2023-04-15T01:36:02.180Z"
   },
   {
    "duration": 31,
    "start_time": "2023-04-15T01:36:05.093Z"
   },
   {
    "duration": 4,
    "start_time": "2023-04-15T01:36:48.557Z"
   },
   {
    "duration": 3,
    "start_time": "2023-04-15T01:36:49.670Z"
   },
   {
    "duration": 8,
    "start_time": "2023-04-15T01:36:50.438Z"
   },
   {
    "duration": 1022,
    "start_time": "2023-04-15T01:36:51.198Z"
   },
   {
    "duration": 4,
    "start_time": "2023-04-15T01:36:52.222Z"
   },
   {
    "duration": 22,
    "start_time": "2023-04-15T01:36:52.227Z"
   },
   {
    "duration": 51,
    "start_time": "2023-04-15T01:36:52.252Z"
   },
   {
    "duration": 3,
    "start_time": "2023-04-15T01:36:52.852Z"
   },
   {
    "duration": 4,
    "start_time": "2023-04-15T01:36:53.135Z"
   },
   {
    "duration": 7,
    "start_time": "2023-04-15T01:36:53.403Z"
   },
   {
    "duration": 29,
    "start_time": "2023-04-15T01:36:53.732Z"
   },
   {
    "duration": 3,
    "start_time": "2023-04-15T01:37:19.951Z"
   },
   {
    "duration": 3,
    "start_time": "2023-04-15T01:37:20.756Z"
   },
   {
    "duration": 7,
    "start_time": "2023-04-15T01:37:21.662Z"
   },
   {
    "duration": 1005,
    "start_time": "2023-04-15T01:37:23.406Z"
   },
   {
    "duration": 3,
    "start_time": "2023-04-15T01:37:24.413Z"
   },
   {
    "duration": 6,
    "start_time": "2023-04-15T01:37:24.417Z"
   },
   {
    "duration": 3,
    "start_time": "2023-04-15T01:37:24.479Z"
   },
   {
    "duration": 3,
    "start_time": "2023-04-15T01:37:25.173Z"
   },
   {
    "duration": 4,
    "start_time": "2023-04-15T01:37:25.412Z"
   },
   {
    "duration": 8,
    "start_time": "2023-04-15T01:37:26.861Z"
   },
   {
    "duration": 34,
    "start_time": "2023-04-15T01:37:28.102Z"
   },
   {
    "duration": 48,
    "start_time": "2023-04-15T01:42:57.155Z"
   },
   {
    "duration": 60,
    "start_time": "2023-04-15T01:43:06.738Z"
   },
   {
    "duration": 49,
    "start_time": "2023-04-15T01:43:44.331Z"
   },
   {
    "duration": 4,
    "start_time": "2023-04-15T01:48:54.129Z"
   },
   {
    "duration": 4,
    "start_time": "2023-04-15T01:48:56.485Z"
   },
   {
    "duration": 9,
    "start_time": "2023-04-15T01:48:57.581Z"
   },
   {
    "duration": 1063,
    "start_time": "2023-04-15T01:49:00.144Z"
   },
   {
    "duration": 4,
    "start_time": "2023-04-15T01:49:01.781Z"
   },
   {
    "duration": 3,
    "start_time": "2023-04-15T01:49:02.075Z"
   },
   {
    "duration": 3,
    "start_time": "2023-04-15T01:49:02.248Z"
   },
   {
    "duration": 3,
    "start_time": "2023-04-15T01:49:02.785Z"
   },
   {
    "duration": 30,
    "start_time": "2023-04-15T01:49:03.269Z"
   },
   {
    "duration": 4,
    "start_time": "2023-04-15T01:49:31.519Z"
   },
   {
    "duration": 3,
    "start_time": "2023-04-15T01:49:32.680Z"
   },
   {
    "duration": 7,
    "start_time": "2023-04-15T01:49:33.536Z"
   },
   {
    "duration": 996,
    "start_time": "2023-04-15T01:49:36.270Z"
   },
   {
    "duration": 3,
    "start_time": "2023-04-15T01:49:37.268Z"
   },
   {
    "duration": 3,
    "start_time": "2023-04-15T01:49:38.070Z"
   },
   {
    "duration": 4,
    "start_time": "2023-04-15T01:49:38.999Z"
   },
   {
    "duration": 2,
    "start_time": "2023-04-15T01:49:40.670Z"
   },
   {
    "duration": 29,
    "start_time": "2023-04-15T01:49:41.830Z"
   },
   {
    "duration": 4,
    "start_time": "2023-04-15T01:52:21.124Z"
   },
   {
    "duration": 7,
    "start_time": "2023-04-15T01:52:22.082Z"
   },
   {
    "duration": 27,
    "start_time": "2023-04-15T01:52:24.035Z"
   },
   {
    "duration": 4,
    "start_time": "2023-04-15T01:52:48.930Z"
   },
   {
    "duration": 3,
    "start_time": "2023-04-15T01:52:50.048Z"
   },
   {
    "duration": 8,
    "start_time": "2023-04-15T01:52:50.834Z"
   },
   {
    "duration": 1058,
    "start_time": "2023-04-15T01:52:52.000Z"
   },
   {
    "duration": 4,
    "start_time": "2023-04-15T01:52:53.060Z"
   },
   {
    "duration": 5,
    "start_time": "2023-04-15T01:52:53.065Z"
   },
   {
    "duration": 16,
    "start_time": "2023-04-15T01:52:53.071Z"
   },
   {
    "duration": 3,
    "start_time": "2023-04-15T01:52:54.234Z"
   },
   {
    "duration": 5,
    "start_time": "2023-04-15T01:52:54.928Z"
   },
   {
    "duration": 7,
    "start_time": "2023-04-15T01:52:55.822Z"
   },
   {
    "duration": 34,
    "start_time": "2023-04-15T01:52:57.131Z"
   },
   {
    "duration": 4,
    "start_time": "2023-04-15T01:53:29.107Z"
   },
   {
    "duration": 4,
    "start_time": "2023-04-15T01:53:30.098Z"
   },
   {
    "duration": 8,
    "start_time": "2023-04-15T01:53:30.898Z"
   },
   {
    "duration": 1049,
    "start_time": "2023-04-15T01:53:32.689Z"
   },
   {
    "duration": 4,
    "start_time": "2023-04-15T01:53:33.740Z"
   },
   {
    "duration": 10,
    "start_time": "2023-04-15T01:53:33.745Z"
   },
   {
    "duration": 4,
    "start_time": "2023-04-15T01:53:34.776Z"
   },
   {
    "duration": 3,
    "start_time": "2023-04-15T01:53:39.312Z"
   },
   {
    "duration": 4,
    "start_time": "2023-04-15T01:53:40.144Z"
   },
   {
    "duration": 7,
    "start_time": "2023-04-15T01:53:41.032Z"
   },
   {
    "duration": 29,
    "start_time": "2023-04-15T01:53:42.738Z"
   },
   {
    "duration": 3,
    "start_time": "2023-04-15T01:54:11.747Z"
   },
   {
    "duration": 3,
    "start_time": "2023-04-15T01:54:14.171Z"
   },
   {
    "duration": 8,
    "start_time": "2023-04-15T01:54:14.818Z"
   },
   {
    "duration": 989,
    "start_time": "2023-04-15T01:54:15.489Z"
   },
   {
    "duration": 6,
    "start_time": "2023-04-15T01:54:16.480Z"
   },
   {
    "duration": 6,
    "start_time": "2023-04-15T01:54:16.488Z"
   },
   {
    "duration": 7,
    "start_time": "2023-04-15T01:54:16.496Z"
   },
   {
    "duration": 3,
    "start_time": "2023-04-15T01:54:16.852Z"
   },
   {
    "duration": 3,
    "start_time": "2023-04-15T01:54:17.155Z"
   },
   {
    "duration": 7,
    "start_time": "2023-04-15T01:54:17.356Z"
   },
   {
    "duration": 26,
    "start_time": "2023-04-15T01:54:17.604Z"
   },
   {
    "duration": 3,
    "start_time": "2023-04-15T01:54:40.057Z"
   },
   {
    "duration": 3,
    "start_time": "2023-04-15T01:54:40.367Z"
   },
   {
    "duration": 8,
    "start_time": "2023-04-15T01:54:40.866Z"
   },
   {
    "duration": 972,
    "start_time": "2023-04-15T01:54:42.145Z"
   },
   {
    "duration": 5,
    "start_time": "2023-04-15T01:54:43.119Z"
   },
   {
    "duration": 5,
    "start_time": "2023-04-15T01:54:43.125Z"
   },
   {
    "duration": 3,
    "start_time": "2023-04-15T01:54:44.402Z"
   },
   {
    "duration": 2,
    "start_time": "2023-04-15T01:54:45.307Z"
   },
   {
    "duration": 4,
    "start_time": "2023-04-15T01:54:46.056Z"
   },
   {
    "duration": 7,
    "start_time": "2023-04-15T01:54:46.856Z"
   },
   {
    "duration": 27,
    "start_time": "2023-04-15T01:54:47.882Z"
   },
   {
    "duration": 51,
    "start_time": "2023-04-15T01:55:51.331Z"
   },
   {
    "duration": 54,
    "start_time": "2023-04-15T01:57:04.429Z"
   },
   {
    "duration": 4,
    "start_time": "2023-04-15T01:57:14.285Z"
   },
   {
    "duration": 49,
    "start_time": "2023-04-15T01:57:20.429Z"
   },
   {
    "duration": 52,
    "start_time": "2023-04-15T01:57:27.613Z"
   },
   {
    "duration": 44,
    "start_time": "2023-04-15T01:57:33.343Z"
   },
   {
    "duration": 4,
    "start_time": "2023-04-15T01:57:49.511Z"
   },
   {
    "duration": 51,
    "start_time": "2023-04-15T01:57:58.165Z"
   },
   {
    "duration": 4,
    "start_time": "2023-04-15T01:58:03.605Z"
   },
   {
    "duration": 3,
    "start_time": "2023-04-15T01:58:09.971Z"
   },
   {
    "duration": 49,
    "start_time": "2023-04-15T01:58:57.583Z"
   },
   {
    "duration": 4,
    "start_time": "2023-04-15T01:59:10.877Z"
   },
   {
    "duration": 3,
    "start_time": "2023-04-15T01:59:18.878Z"
   },
   {
    "duration": 7,
    "start_time": "2023-04-15T01:59:20.211Z"
   },
   {
    "duration": 975,
    "start_time": "2023-04-15T01:59:21.443Z"
   },
   {
    "duration": 4,
    "start_time": "2023-04-15T01:59:22.420Z"
   },
   {
    "duration": 3,
    "start_time": "2023-04-15T01:59:22.582Z"
   },
   {
    "duration": 3,
    "start_time": "2023-04-15T01:59:23.702Z"
   },
   {
    "duration": 3,
    "start_time": "2023-04-15T01:59:24.653Z"
   },
   {
    "duration": 4,
    "start_time": "2023-04-15T01:59:25.411Z"
   },
   {
    "duration": 7,
    "start_time": "2023-04-15T01:59:26.149Z"
   },
   {
    "duration": 33,
    "start_time": "2023-04-15T01:59:27.417Z"
   },
   {
    "duration": 4,
    "start_time": "2023-04-15T01:59:41.207Z"
   },
   {
    "duration": 4,
    "start_time": "2023-04-15T01:59:42.133Z"
   },
   {
    "duration": 7,
    "start_time": "2023-04-15T01:59:42.895Z"
   },
   {
    "duration": 999,
    "start_time": "2023-04-15T01:59:45.175Z"
   },
   {
    "duration": 11,
    "start_time": "2023-04-15T01:59:46.176Z"
   },
   {
    "duration": 3,
    "start_time": "2023-04-15T01:59:46.189Z"
   },
   {
    "duration": 4,
    "start_time": "2023-04-15T01:59:46.194Z"
   },
   {
    "duration": 3,
    "start_time": "2023-04-15T01:59:46.723Z"
   },
   {
    "duration": 4,
    "start_time": "2023-04-15T01:59:47.075Z"
   },
   {
    "duration": 9,
    "start_time": "2023-04-15T01:59:48.278Z"
   },
   {
    "duration": 24,
    "start_time": "2023-04-15T01:59:49.245Z"
   },
   {
    "duration": 4,
    "start_time": "2023-04-15T02:00:12.911Z"
   },
   {
    "duration": 3,
    "start_time": "2023-04-15T02:00:13.688Z"
   },
   {
    "duration": 8,
    "start_time": "2023-04-15T02:00:14.783Z"
   },
   {
    "duration": 1003,
    "start_time": "2023-04-15T02:00:16.558Z"
   },
   {
    "duration": 4,
    "start_time": "2023-04-15T02:00:17.562Z"
   },
   {
    "duration": 3,
    "start_time": "2023-04-15T02:00:17.799Z"
   },
   {
    "duration": 3,
    "start_time": "2023-04-15T02:00:18.924Z"
   },
   {
    "duration": 3,
    "start_time": "2023-04-15T02:00:19.575Z"
   },
   {
    "duration": 4,
    "start_time": "2023-04-15T02:00:20.307Z"
   },
   {
    "duration": 7,
    "start_time": "2023-04-15T02:00:21.159Z"
   },
   {
    "duration": 26,
    "start_time": "2023-04-15T02:00:22.447Z"
   },
   {
    "duration": 4,
    "start_time": "2023-04-15T02:00:58.599Z"
   },
   {
    "duration": 4,
    "start_time": "2023-04-15T02:00:59.671Z"
   },
   {
    "duration": 9,
    "start_time": "2023-04-15T02:00:59.951Z"
   },
   {
    "duration": 1087,
    "start_time": "2023-04-15T02:01:01.662Z"
   },
   {
    "duration": 3,
    "start_time": "2023-04-15T02:01:02.752Z"
   },
   {
    "duration": 15,
    "start_time": "2023-04-15T02:01:02.757Z"
   },
   {
    "duration": 4,
    "start_time": "2023-04-15T02:01:02.933Z"
   },
   {
    "duration": 2,
    "start_time": "2023-04-15T02:01:03.583Z"
   },
   {
    "duration": 3,
    "start_time": "2023-04-15T02:01:04.350Z"
   },
   {
    "duration": 8,
    "start_time": "2023-04-15T02:01:05.095Z"
   },
   {
    "duration": 43,
    "start_time": "2023-04-15T02:01:06.110Z"
   },
   {
    "duration": 4,
    "start_time": "2023-04-15T02:01:47.231Z"
   },
   {
    "duration": 3,
    "start_time": "2023-04-15T02:01:48.096Z"
   },
   {
    "duration": 7,
    "start_time": "2023-04-15T02:01:48.864Z"
   },
   {
    "duration": 987,
    "start_time": "2023-04-15T02:01:50.770Z"
   },
   {
    "duration": 4,
    "start_time": "2023-04-15T02:01:51.759Z"
   },
   {
    "duration": 3,
    "start_time": "2023-04-15T02:01:51.830Z"
   },
   {
    "duration": 3,
    "start_time": "2023-04-15T02:01:52.168Z"
   },
   {
    "duration": 3,
    "start_time": "2023-04-15T02:01:53.647Z"
   },
   {
    "duration": 4,
    "start_time": "2023-04-15T02:01:54.714Z"
   },
   {
    "duration": 7,
    "start_time": "2023-04-15T02:01:55.480Z"
   },
   {
    "duration": 26,
    "start_time": "2023-04-15T02:01:56.792Z"
   },
   {
    "duration": 3,
    "start_time": "2023-04-15T02:02:21.704Z"
   },
   {
    "duration": 3,
    "start_time": "2023-04-15T02:02:22.504Z"
   },
   {
    "duration": 8,
    "start_time": "2023-04-15T02:02:23.455Z"
   },
   {
    "duration": 995,
    "start_time": "2023-04-15T02:02:24.368Z"
   },
   {
    "duration": 4,
    "start_time": "2023-04-15T02:02:25.365Z"
   },
   {
    "duration": 17,
    "start_time": "2023-04-15T02:02:25.370Z"
   },
   {
    "duration": 3,
    "start_time": "2023-04-15T02:02:25.638Z"
   },
   {
    "duration": 3,
    "start_time": "2023-04-15T02:02:26.291Z"
   },
   {
    "duration": 4,
    "start_time": "2023-04-15T02:02:26.726Z"
   },
   {
    "duration": 7,
    "start_time": "2023-04-15T02:02:27.542Z"
   },
   {
    "duration": 29,
    "start_time": "2023-04-15T02:02:28.960Z"
   },
   {
    "duration": 4,
    "start_time": "2023-04-15T02:03:11.559Z"
   },
   {
    "duration": 4,
    "start_time": "2023-04-15T02:03:12.594Z"
   },
   {
    "duration": 9,
    "start_time": "2023-04-15T02:03:13.511Z"
   },
   {
    "duration": 1006,
    "start_time": "2023-04-15T02:03:15.568Z"
   },
   {
    "duration": 3,
    "start_time": "2023-04-15T02:03:16.576Z"
   },
   {
    "duration": 2,
    "start_time": "2023-04-15T02:03:17.608Z"
   },
   {
    "duration": 3,
    "start_time": "2023-04-15T02:03:18.778Z"
   },
   {
    "duration": 2,
    "start_time": "2023-04-15T02:03:20.128Z"
   },
   {
    "duration": 4,
    "start_time": "2023-04-15T02:03:20.894Z"
   },
   {
    "duration": 6,
    "start_time": "2023-04-15T02:03:22.154Z"
   },
   {
    "duration": 26,
    "start_time": "2023-04-15T02:03:23.680Z"
   },
   {
    "duration": 2191,
    "start_time": "2023-04-15T02:03:43.806Z"
   },
   {
    "duration": 4637,
    "start_time": "2023-04-15T02:03:45.999Z"
   },
   {
    "duration": 855,
    "start_time": "2023-04-15T02:03:50.638Z"
   },
   {
    "duration": 32,
    "start_time": "2023-04-15T02:03:51.495Z"
   },
   {
    "duration": 245,
    "start_time": "2023-04-15T02:03:51.528Z"
   },
   {
    "duration": 262,
    "start_time": "2023-04-15T02:03:51.774Z"
   },
   {
    "duration": 6,
    "start_time": "2023-04-15T02:03:52.037Z"
   },
   {
    "duration": 304,
    "start_time": "2023-04-15T02:03:52.044Z"
   },
   {
    "duration": 3766,
    "start_time": "2023-04-15T02:03:52.350Z"
   },
   {
    "duration": 29,
    "start_time": "2023-04-15T02:03:56.126Z"
   },
   {
    "duration": 51,
    "start_time": "2023-04-15T02:03:56.156Z"
   },
   {
    "duration": 7,
    "start_time": "2023-04-15T02:03:56.209Z"
   },
   {
    "duration": 8,
    "start_time": "2023-04-15T02:03:56.218Z"
   },
   {
    "duration": 6,
    "start_time": "2023-04-15T02:03:56.227Z"
   },
   {
    "duration": 12,
    "start_time": "2023-04-15T02:03:56.234Z"
   },
   {
    "duration": 5,
    "start_time": "2023-04-15T02:03:56.247Z"
   },
   {
    "duration": 225217,
    "start_time": "2023-04-15T02:03:56.254Z"
   },
   {
    "duration": 12,
    "start_time": "2023-04-15T02:07:41.473Z"
   },
   {
    "duration": 6,
    "start_time": "2023-04-15T02:07:41.486Z"
   },
   {
    "duration": 4,
    "start_time": "2023-04-15T02:07:41.493Z"
   },
   {
    "duration": 118,
    "start_time": "2023-04-15T02:07:41.498Z"
   },
   {
    "duration": 21,
    "start_time": "2023-04-15T02:07:41.617Z"
   },
   {
    "duration": 11,
    "start_time": "2023-04-15T02:07:41.640Z"
   },
   {
    "duration": 6,
    "start_time": "2023-04-15T02:07:41.652Z"
   },
   {
    "duration": 4,
    "start_time": "2023-04-15T02:07:41.660Z"
   },
   {
    "duration": 26,
    "start_time": "2023-04-15T02:07:41.666Z"
   },
   {
    "duration": 970,
    "start_time": "2023-04-15T02:07:41.693Z"
   },
   {
    "duration": 3,
    "start_time": "2023-04-15T02:07:42.667Z"
   },
   {
    "duration": 14,
    "start_time": "2023-04-15T02:07:42.671Z"
   },
   {
    "duration": 10,
    "start_time": "2023-04-15T02:07:42.686Z"
   },
   {
    "duration": 4,
    "start_time": "2023-04-15T02:07:42.698Z"
   },
   {
    "duration": 12,
    "start_time": "2023-04-15T02:07:42.703Z"
   },
   {
    "duration": 12,
    "start_time": "2023-04-15T02:07:42.716Z"
   },
   {
    "duration": 27,
    "start_time": "2023-04-15T02:07:42.729Z"
   },
   {
    "duration": 560032,
    "start_time": "2023-04-15T02:07:42.757Z"
   },
   {
    "duration": 45617,
    "start_time": "2023-04-15T02:17:02.791Z"
   },
   {
    "duration": 185,
    "start_time": "2023-04-15T02:17:48.410Z"
   },
   {
    "duration": 220,
    "start_time": "2023-04-15T02:17:48.596Z"
   },
   {
    "duration": 53076,
    "start_time": "2023-04-15T02:17:48.818Z"
   },
   {
    "duration": 293,
    "start_time": "2023-04-15T02:18:41.896Z"
   },
   {
    "duration": 7,
    "start_time": "2023-04-15T02:18:42.191Z"
   },
   {
    "duration": 26,
    "start_time": "2023-04-15T02:18:42.199Z"
   },
   {
    "duration": 45225,
    "start_time": "2023-04-15T02:18:42.227Z"
   },
   {
    "duration": 1624,
    "start_time": "2023-04-15T02:19:27.454Z"
   },
   {
    "duration": 10,
    "start_time": "2023-04-15T02:19:29.081Z"
   },
   {
    "duration": 29,
    "start_time": "2023-04-15T02:19:29.092Z"
   },
   {
    "duration": 3552869,
    "start_time": "2023-04-15T02:19:29.123Z"
   },
   {
    "duration": 15597,
    "start_time": "2023-04-15T03:18:41.994Z"
   },
   {
    "duration": 93,
    "start_time": "2023-04-15T03:18:57.594Z"
   },
   {
    "duration": 29,
    "start_time": "2023-04-15T03:18:57.688Z"
   },
   {
    "duration": 2,
    "start_time": "2023-04-15T03:18:57.719Z"
   },
   {
    "duration": 63,
    "start_time": "2023-04-15T03:18:57.722Z"
   },
   {
    "duration": 3456,
    "start_time": "2023-04-15T03:18:57.787Z"
   },
   {
    "duration": 0,
    "start_time": "2023-04-15T03:19:01.245Z"
   },
   {
    "duration": 0,
    "start_time": "2023-04-15T03:19:01.246Z"
   },
   {
    "duration": 0,
    "start_time": "2023-04-15T03:19:01.247Z"
   },
   {
    "duration": 0,
    "start_time": "2023-04-15T03:19:01.248Z"
   },
   {
    "duration": 0,
    "start_time": "2023-04-15T03:19:01.250Z"
   },
   {
    "duration": 0,
    "start_time": "2023-04-15T03:19:01.251Z"
   },
   {
    "duration": 0,
    "start_time": "2023-04-15T03:19:01.252Z"
   },
   {
    "duration": 0,
    "start_time": "2023-04-15T03:19:01.253Z"
   },
   {
    "duration": 0,
    "start_time": "2023-04-15T03:19:01.254Z"
   },
   {
    "duration": 0,
    "start_time": "2023-04-15T03:19:01.255Z"
   },
   {
    "duration": 0,
    "start_time": "2023-04-15T03:19:01.257Z"
   },
   {
    "duration": 0,
    "start_time": "2023-04-15T03:19:01.258Z"
   },
   {
    "duration": 0,
    "start_time": "2023-04-15T03:19:01.259Z"
   },
   {
    "duration": 0,
    "start_time": "2023-04-15T03:19:01.260Z"
   },
   {
    "duration": 0,
    "start_time": "2023-04-15T03:19:01.261Z"
   },
   {
    "duration": 0,
    "start_time": "2023-04-15T03:19:01.262Z"
   },
   {
    "duration": 0,
    "start_time": "2023-04-15T03:19:01.263Z"
   },
   {
    "duration": 0,
    "start_time": "2023-04-15T03:19:01.264Z"
   },
   {
    "duration": 0,
    "start_time": "2023-04-15T03:19:01.265Z"
   },
   {
    "duration": 0,
    "start_time": "2023-04-15T03:19:01.266Z"
   },
   {
    "duration": 0,
    "start_time": "2023-04-15T03:19:01.267Z"
   },
   {
    "duration": 0,
    "start_time": "2023-04-15T03:19:01.268Z"
   },
   {
    "duration": 12,
    "start_time": "2023-04-15T10:16:04.474Z"
   },
   {
    "duration": 5,
    "start_time": "2023-04-15T10:16:13.850Z"
   },
   {
    "duration": 8,
    "start_time": "2023-04-15T10:16:15.648Z"
   },
   {
    "duration": 1046,
    "start_time": "2023-04-15T10:16:20.448Z"
   },
   {
    "duration": 4,
    "start_time": "2023-04-15T10:16:22.528Z"
   },
   {
    "duration": 3,
    "start_time": "2023-04-15T10:16:23.514Z"
   },
   {
    "duration": 3,
    "start_time": "2023-04-15T10:16:26.430Z"
   },
   {
    "duration": 6,
    "start_time": "2023-04-15T10:16:34.074Z"
   },
   {
    "duration": 9,
    "start_time": "2023-04-15T10:16:35.182Z"
   },
   {
    "duration": 31,
    "start_time": "2023-04-15T10:16:44.770Z"
   },
   {
    "duration": 19,
    "start_time": "2023-04-15T10:17:18.080Z"
   },
   {
    "duration": 18,
    "start_time": "2023-04-15T10:17:43.602Z"
   },
   {
    "duration": 55298,
    "start_time": "2023-04-15T10:18:06.350Z"
   },
   {
    "duration": 276,
    "start_time": "2023-04-15T10:19:01.650Z"
   },
   {
    "duration": 7,
    "start_time": "2023-04-15T10:19:01.928Z"
   },
   {
    "duration": 5,
    "start_time": "2023-04-15T10:19:10.627Z"
   },
   {
    "duration": 31,
    "start_time": "2023-04-15T10:20:30.306Z"
   },
   {
    "duration": 5,
    "start_time": "2023-04-15T10:28:07.514Z"
   },
   {
    "duration": 4,
    "start_time": "2023-04-15T10:28:08.822Z"
   },
   {
    "duration": 9,
    "start_time": "2023-04-15T10:28:10.578Z"
   },
   {
    "duration": 1141,
    "start_time": "2023-04-15T10:28:13.377Z"
   },
   {
    "duration": 4,
    "start_time": "2023-04-15T10:28:14.520Z"
   },
   {
    "duration": 3,
    "start_time": "2023-04-15T10:28:15.022Z"
   },
   {
    "duration": 3,
    "start_time": "2023-04-15T10:28:15.793Z"
   },
   {
    "duration": 3,
    "start_time": "2023-04-15T10:28:17.717Z"
   },
   {
    "duration": 5,
    "start_time": "2023-04-15T10:28:19.356Z"
   },
   {
    "duration": 9,
    "start_time": "2023-04-15T10:28:19.866Z"
   },
   {
    "duration": 3,
    "start_time": "2023-04-15T10:28:36.659Z"
   },
   {
    "duration": 4,
    "start_time": "2023-04-15T10:28:56.442Z"
   },
   {
    "duration": 4,
    "start_time": "2023-04-15T10:29:50.483Z"
   },
   {
    "duration": 7,
    "start_time": "2023-04-15T10:29:51.865Z"
   },
   {
    "duration": 48,
    "start_time": "2023-04-15T10:29:55.924Z"
   },
   {
    "duration": 5,
    "start_time": "2023-04-15T10:30:41.602Z"
   },
   {
    "duration": 4,
    "start_time": "2023-04-15T10:30:43.697Z"
   },
   {
    "duration": 12,
    "start_time": "2023-04-15T10:30:44.023Z"
   },
   {
    "duration": 1081,
    "start_time": "2023-04-15T10:30:45.187Z"
   },
   {
    "duration": 4,
    "start_time": "2023-04-15T10:30:46.270Z"
   },
   {
    "duration": 12,
    "start_time": "2023-04-15T10:30:46.276Z"
   },
   {
    "duration": 3,
    "start_time": "2023-04-15T10:30:46.372Z"
   },
   {
    "duration": 3,
    "start_time": "2023-04-15T10:30:48.249Z"
   },
   {
    "duration": 4,
    "start_time": "2023-04-15T10:30:48.501Z"
   },
   {
    "duration": 7,
    "start_time": "2023-04-15T10:30:48.716Z"
   },
   {
    "duration": 27,
    "start_time": "2023-04-15T10:30:49.137Z"
   },
   {
    "duration": 2738,
    "start_time": "2023-04-15T10:38:01.060Z"
   },
   {
    "duration": 5571,
    "start_time": "2023-04-15T10:38:03.801Z"
   },
   {
    "duration": 975,
    "start_time": "2023-04-15T10:38:09.374Z"
   },
   {
    "duration": 43,
    "start_time": "2023-04-15T10:38:10.351Z"
   },
   {
    "duration": 266,
    "start_time": "2023-04-15T10:38:10.398Z"
   },
   {
    "duration": 297,
    "start_time": "2023-04-15T10:38:10.666Z"
   },
   {
    "duration": 8,
    "start_time": "2023-04-15T10:38:10.964Z"
   },
   {
    "duration": 11,
    "start_time": "2023-04-15T10:38:10.975Z"
   },
   {
    "duration": 286,
    "start_time": "2023-04-15T10:38:10.987Z"
   },
   {
    "duration": 355,
    "start_time": "2023-04-15T10:38:11.275Z"
   },
   {
    "duration": 4429,
    "start_time": "2023-04-15T10:38:11.632Z"
   },
   {
    "duration": 54,
    "start_time": "2023-04-15T10:38:16.062Z"
   },
   {
    "duration": 41,
    "start_time": "2023-04-15T10:38:16.118Z"
   },
   {
    "duration": 26,
    "start_time": "2023-04-15T10:38:16.162Z"
   },
   {
    "duration": 9,
    "start_time": "2023-04-15T10:38:16.190Z"
   },
   {
    "duration": 7,
    "start_time": "2023-04-15T10:38:16.201Z"
   },
   {
    "duration": 11,
    "start_time": "2023-04-15T10:38:16.210Z"
   },
   {
    "duration": 8,
    "start_time": "2023-04-15T10:38:16.222Z"
   },
   {
    "duration": 252505,
    "start_time": "2023-04-15T10:38:16.232Z"
   },
   {
    "duration": 9,
    "start_time": "2023-04-15T10:42:28.740Z"
   },
   {
    "duration": 16,
    "start_time": "2023-04-15T10:42:28.751Z"
   },
   {
    "duration": 14,
    "start_time": "2023-04-15T10:42:28.769Z"
   },
   {
    "duration": 103,
    "start_time": "2023-04-15T10:42:28.784Z"
   },
   {
    "duration": 20,
    "start_time": "2023-04-15T10:42:28.889Z"
   },
   {
    "duration": 11,
    "start_time": "2023-04-15T10:42:28.910Z"
   },
   {
    "duration": 44,
    "start_time": "2023-04-15T10:42:28.923Z"
   },
   {
    "duration": 0,
    "start_time": "2023-04-15T10:42:28.970Z"
   },
   {
    "duration": 0,
    "start_time": "2023-04-15T10:42:28.971Z"
   },
   {
    "duration": 0,
    "start_time": "2023-04-15T10:42:28.973Z"
   },
   {
    "duration": 0,
    "start_time": "2023-04-15T10:42:28.974Z"
   },
   {
    "duration": 0,
    "start_time": "2023-04-15T10:42:28.975Z"
   },
   {
    "duration": 0,
    "start_time": "2023-04-15T10:42:28.976Z"
   },
   {
    "duration": 0,
    "start_time": "2023-04-15T10:42:28.977Z"
   },
   {
    "duration": 0,
    "start_time": "2023-04-15T10:42:28.978Z"
   },
   {
    "duration": 0,
    "start_time": "2023-04-15T10:42:28.979Z"
   },
   {
    "duration": 0,
    "start_time": "2023-04-15T10:42:28.980Z"
   },
   {
    "duration": 0,
    "start_time": "2023-04-15T10:42:28.981Z"
   },
   {
    "duration": 0,
    "start_time": "2023-04-15T10:42:28.982Z"
   },
   {
    "duration": 1,
    "start_time": "2023-04-15T10:42:28.985Z"
   },
   {
    "duration": 0,
    "start_time": "2023-04-15T10:42:28.987Z"
   },
   {
    "duration": 0,
    "start_time": "2023-04-15T10:42:28.988Z"
   },
   {
    "duration": 0,
    "start_time": "2023-04-15T10:42:28.990Z"
   },
   {
    "duration": 0,
    "start_time": "2023-04-15T10:42:28.991Z"
   },
   {
    "duration": 0,
    "start_time": "2023-04-15T10:42:28.992Z"
   },
   {
    "duration": 0,
    "start_time": "2023-04-15T10:42:28.993Z"
   },
   {
    "duration": 0,
    "start_time": "2023-04-15T10:42:28.994Z"
   },
   {
    "duration": 0,
    "start_time": "2023-04-15T10:42:28.995Z"
   },
   {
    "duration": 0,
    "start_time": "2023-04-15T10:42:28.996Z"
   },
   {
    "duration": 0,
    "start_time": "2023-04-15T10:42:28.997Z"
   },
   {
    "duration": 0,
    "start_time": "2023-04-15T10:42:28.999Z"
   },
   {
    "duration": 0,
    "start_time": "2023-04-15T10:42:29.000Z"
   },
   {
    "duration": 0,
    "start_time": "2023-04-15T10:42:29.001Z"
   },
   {
    "duration": 0,
    "start_time": "2023-04-15T10:42:29.002Z"
   },
   {
    "duration": 0,
    "start_time": "2023-04-15T10:42:29.004Z"
   },
   {
    "duration": 0,
    "start_time": "2023-04-15T10:42:29.005Z"
   },
   {
    "duration": 0,
    "start_time": "2023-04-15T10:42:29.006Z"
   },
   {
    "duration": 0,
    "start_time": "2023-04-15T10:42:29.007Z"
   },
   {
    "duration": 0,
    "start_time": "2023-04-15T10:42:29.009Z"
   },
   {
    "duration": 0,
    "start_time": "2023-04-15T10:42:29.010Z"
   },
   {
    "duration": 0,
    "start_time": "2023-04-15T10:42:29.011Z"
   },
   {
    "duration": 0,
    "start_time": "2023-04-15T10:42:29.012Z"
   },
   {
    "duration": 0,
    "start_time": "2023-04-15T10:42:29.013Z"
   },
   {
    "duration": 0,
    "start_time": "2023-04-15T10:42:29.014Z"
   },
   {
    "duration": 0,
    "start_time": "2023-04-15T10:42:29.015Z"
   },
   {
    "duration": 0,
    "start_time": "2023-04-15T10:42:29.016Z"
   },
   {
    "duration": 0,
    "start_time": "2023-04-15T10:42:29.017Z"
   },
   {
    "duration": 0,
    "start_time": "2023-04-15T10:42:29.018Z"
   },
   {
    "duration": 0,
    "start_time": "2023-04-15T10:42:29.020Z"
   },
   {
    "duration": 0,
    "start_time": "2023-04-15T10:42:29.021Z"
   },
   {
    "duration": 0,
    "start_time": "2023-04-15T10:42:29.022Z"
   },
   {
    "duration": 0,
    "start_time": "2023-04-15T10:42:29.085Z"
   },
   {
    "duration": 0,
    "start_time": "2023-04-15T10:42:29.086Z"
   },
   {
    "duration": 4,
    "start_time": "2023-04-15T10:43:21.660Z"
   },
   {
    "duration": 3,
    "start_time": "2023-04-15T10:43:22.846Z"
   },
   {
    "duration": 11,
    "start_time": "2023-04-15T10:43:24.086Z"
   },
   {
    "duration": 1180,
    "start_time": "2023-04-15T10:43:27.082Z"
   },
   {
    "duration": 5,
    "start_time": "2023-04-15T10:43:28.266Z"
   },
   {
    "duration": 4,
    "start_time": "2023-04-15T10:43:28.724Z"
   },
   {
    "duration": 5,
    "start_time": "2023-04-15T10:43:29.594Z"
   },
   {
    "duration": 3,
    "start_time": "2023-04-15T10:43:31.277Z"
   },
   {
    "duration": 5,
    "start_time": "2023-04-15T10:43:31.834Z"
   },
   {
    "duration": 7,
    "start_time": "2023-04-15T10:43:32.756Z"
   },
   {
    "duration": 359,
    "start_time": "2023-04-15T10:43:35.580Z"
   },
   {
    "duration": 5,
    "start_time": "2023-04-15T10:44:04.518Z"
   },
   {
    "duration": 3,
    "start_time": "2023-04-15T10:44:05.556Z"
   },
   {
    "duration": 10,
    "start_time": "2023-04-15T10:44:06.302Z"
   },
   {
    "duration": 1175,
    "start_time": "2023-04-15T10:44:07.677Z"
   },
   {
    "duration": 4,
    "start_time": "2023-04-15T10:44:08.854Z"
   },
   {
    "duration": 5,
    "start_time": "2023-04-15T10:44:08.860Z"
   },
   {
    "duration": 4,
    "start_time": "2023-04-15T10:44:09.322Z"
   },
   {
    "duration": 2,
    "start_time": "2023-04-15T10:44:10.156Z"
   },
   {
    "duration": 5,
    "start_time": "2023-04-15T10:44:10.410Z"
   },
   {
    "duration": 7,
    "start_time": "2023-04-15T10:44:10.678Z"
   },
   {
    "duration": 26,
    "start_time": "2023-04-15T10:44:10.982Z"
   },
   {
    "duration": 48486,
    "start_time": "2023-04-15T10:44:41.711Z"
   },
   {
    "duration": 1786,
    "start_time": "2023-04-15T10:45:30.199Z"
   },
   {
    "duration": 8,
    "start_time": "2023-04-15T10:45:31.987Z"
   },
   {
    "duration": 33,
    "start_time": "2023-04-15T10:45:31.997Z"
   },
   {
    "duration": 2434,
    "start_time": "2023-04-15T10:46:25.995Z"
   },
   {
    "duration": 5019,
    "start_time": "2023-04-15T10:46:28.432Z"
   },
   {
    "duration": 925,
    "start_time": "2023-04-15T10:46:33.453Z"
   },
   {
    "duration": 33,
    "start_time": "2023-04-15T10:46:34.384Z"
   },
   {
    "duration": 311,
    "start_time": "2023-04-15T10:46:34.420Z"
   },
   {
    "duration": 336,
    "start_time": "2023-04-15T10:46:34.734Z"
   },
   {
    "duration": 20,
    "start_time": "2023-04-15T10:46:35.071Z"
   },
   {
    "duration": 7,
    "start_time": "2023-04-15T10:46:35.094Z"
   },
   {
    "duration": 303,
    "start_time": "2023-04-15T10:46:35.103Z"
   },
   {
    "duration": 2563,
    "start_time": "2023-04-15T10:48:25.208Z"
   },
   {
    "duration": 8061,
    "start_time": "2023-04-15T10:48:27.774Z"
   },
   {
    "duration": 3337,
    "start_time": "2023-04-15T10:48:35.837Z"
   },
   {
    "duration": 33,
    "start_time": "2023-04-15T10:48:39.177Z"
   },
   {
    "duration": 246,
    "start_time": "2023-04-15T10:48:39.212Z"
   },
   {
    "duration": 281,
    "start_time": "2023-04-15T10:48:39.460Z"
   },
   {
    "duration": 7,
    "start_time": "2023-04-15T10:48:39.743Z"
   },
   {
    "duration": 15,
    "start_time": "2023-04-15T10:48:39.752Z"
   },
   {
    "duration": 288,
    "start_time": "2023-04-15T10:48:39.769Z"
   },
   {
    "duration": 3,
    "start_time": "2023-04-15T10:48:40.061Z"
   },
   {
    "duration": 313,
    "start_time": "2023-04-15T10:48:40.066Z"
   },
   {
    "duration": 3974,
    "start_time": "2023-04-15T10:48:40.381Z"
   },
   {
    "duration": 35,
    "start_time": "2023-04-15T10:48:44.357Z"
   },
   {
    "duration": 1416,
    "start_time": "2023-04-15T10:48:44.394Z"
   },
   {
    "duration": 0,
    "start_time": "2023-04-15T10:48:45.820Z"
   },
   {
    "duration": 0,
    "start_time": "2023-04-15T10:48:45.821Z"
   },
   {
    "duration": 0,
    "start_time": "2023-04-15T10:48:45.822Z"
   },
   {
    "duration": 0,
    "start_time": "2023-04-15T10:48:45.823Z"
   },
   {
    "duration": 0,
    "start_time": "2023-04-15T10:48:45.824Z"
   },
   {
    "duration": 0,
    "start_time": "2023-04-15T10:48:45.825Z"
   },
   {
    "duration": 0,
    "start_time": "2023-04-15T10:48:45.826Z"
   },
   {
    "duration": 0,
    "start_time": "2023-04-15T10:48:45.828Z"
   },
   {
    "duration": 0,
    "start_time": "2023-04-15T10:48:45.829Z"
   },
   {
    "duration": 0,
    "start_time": "2023-04-15T10:48:45.830Z"
   },
   {
    "duration": 0,
    "start_time": "2023-04-15T10:48:45.831Z"
   },
   {
    "duration": 0,
    "start_time": "2023-04-15T10:48:45.832Z"
   },
   {
    "duration": 0,
    "start_time": "2023-04-15T10:48:45.833Z"
   },
   {
    "duration": 0,
    "start_time": "2023-04-15T10:48:45.834Z"
   },
   {
    "duration": 0,
    "start_time": "2023-04-15T10:48:45.836Z"
   },
   {
    "duration": 0,
    "start_time": "2023-04-15T10:48:45.836Z"
   },
   {
    "duration": 0,
    "start_time": "2023-04-15T10:48:45.837Z"
   },
   {
    "duration": 0,
    "start_time": "2023-04-15T10:48:45.838Z"
   },
   {
    "duration": 0,
    "start_time": "2023-04-15T10:48:45.839Z"
   },
   {
    "duration": 0,
    "start_time": "2023-04-15T10:48:45.840Z"
   },
   {
    "duration": 0,
    "start_time": "2023-04-15T10:48:45.841Z"
   },
   {
    "duration": 0,
    "start_time": "2023-04-15T10:48:45.842Z"
   },
   {
    "duration": 0,
    "start_time": "2023-04-15T10:48:45.885Z"
   },
   {
    "duration": 0,
    "start_time": "2023-04-15T10:48:45.886Z"
   },
   {
    "duration": 0,
    "start_time": "2023-04-15T10:48:45.887Z"
   },
   {
    "duration": 0,
    "start_time": "2023-04-15T10:48:45.888Z"
   },
   {
    "duration": 0,
    "start_time": "2023-04-15T10:48:45.889Z"
   },
   {
    "duration": 0,
    "start_time": "2023-04-15T10:48:45.890Z"
   },
   {
    "duration": 0,
    "start_time": "2023-04-15T10:48:45.891Z"
   },
   {
    "duration": 0,
    "start_time": "2023-04-15T10:48:45.892Z"
   },
   {
    "duration": 0,
    "start_time": "2023-04-15T10:48:45.894Z"
   },
   {
    "duration": 0,
    "start_time": "2023-04-15T10:48:45.895Z"
   },
   {
    "duration": 0,
    "start_time": "2023-04-15T10:48:45.896Z"
   },
   {
    "duration": 1,
    "start_time": "2023-04-15T10:48:45.897Z"
   },
   {
    "duration": 0,
    "start_time": "2023-04-15T10:48:45.899Z"
   },
   {
    "duration": 0,
    "start_time": "2023-04-15T10:48:45.900Z"
   },
   {
    "duration": 0,
    "start_time": "2023-04-15T10:48:45.902Z"
   },
   {
    "duration": 0,
    "start_time": "2023-04-15T10:48:45.903Z"
   },
   {
    "duration": 0,
    "start_time": "2023-04-15T10:48:45.905Z"
   },
   {
    "duration": 0,
    "start_time": "2023-04-15T10:48:45.906Z"
   },
   {
    "duration": 0,
    "start_time": "2023-04-15T10:48:45.907Z"
   },
   {
    "duration": 0,
    "start_time": "2023-04-15T10:48:45.909Z"
   },
   {
    "duration": 0,
    "start_time": "2023-04-15T10:48:45.910Z"
   },
   {
    "duration": 0,
    "start_time": "2023-04-15T10:48:45.911Z"
   },
   {
    "duration": 0,
    "start_time": "2023-04-15T10:48:45.913Z"
   },
   {
    "duration": 0,
    "start_time": "2023-04-15T10:48:45.914Z"
   },
   {
    "duration": 0,
    "start_time": "2023-04-15T10:48:45.915Z"
   },
   {
    "duration": 0,
    "start_time": "2023-04-15T10:48:45.916Z"
   },
   {
    "duration": 0,
    "start_time": "2023-04-15T10:48:45.918Z"
   },
   {
    "duration": 0,
    "start_time": "2023-04-15T10:48:45.919Z"
   },
   {
    "duration": 0,
    "start_time": "2023-04-15T10:48:45.921Z"
   },
   {
    "duration": 0,
    "start_time": "2023-04-15T10:48:45.922Z"
   },
   {
    "duration": 0,
    "start_time": "2023-04-15T10:48:45.986Z"
   },
   {
    "duration": 0,
    "start_time": "2023-04-15T10:48:45.988Z"
   },
   {
    "duration": 0,
    "start_time": "2023-04-15T10:48:45.989Z"
   },
   {
    "duration": 0,
    "start_time": "2023-04-15T10:48:45.990Z"
   },
   {
    "duration": 0,
    "start_time": "2023-04-15T10:48:45.992Z"
   },
   {
    "duration": 0,
    "start_time": "2023-04-15T10:48:45.993Z"
   },
   {
    "duration": 0,
    "start_time": "2023-04-15T10:48:45.994Z"
   },
   {
    "duration": 2537,
    "start_time": "2023-04-15T10:51:11.164Z"
   },
   {
    "duration": 6959,
    "start_time": "2023-04-15T10:51:13.703Z"
   },
   {
    "duration": 3276,
    "start_time": "2023-04-15T10:51:20.663Z"
   },
   {
    "duration": 42,
    "start_time": "2023-04-15T10:51:23.942Z"
   },
   {
    "duration": 311,
    "start_time": "2023-04-15T10:51:23.986Z"
   },
   {
    "duration": 292,
    "start_time": "2023-04-15T10:51:24.299Z"
   },
   {
    "duration": 7,
    "start_time": "2023-04-15T10:51:24.593Z"
   },
   {
    "duration": 4,
    "start_time": "2023-04-15T10:51:24.602Z"
   },
   {
    "duration": 311,
    "start_time": "2023-04-15T10:51:24.608Z"
   },
   {
    "duration": 3,
    "start_time": "2023-04-15T10:51:24.922Z"
   },
   {
    "duration": 2676,
    "start_time": "2023-04-15T10:56:18.132Z"
   },
   {
    "duration": 7232,
    "start_time": "2023-04-15T10:56:20.810Z"
   },
   {
    "duration": 3482,
    "start_time": "2023-04-15T10:56:28.044Z"
   },
   {
    "duration": 37,
    "start_time": "2023-04-15T10:56:31.529Z"
   },
   {
    "duration": 328,
    "start_time": "2023-04-15T10:56:31.568Z"
   },
   {
    "duration": 331,
    "start_time": "2023-04-15T10:56:31.898Z"
   },
   {
    "duration": 6,
    "start_time": "2023-04-15T10:56:32.232Z"
   },
   {
    "duration": 10,
    "start_time": "2023-04-15T10:56:32.240Z"
   },
   {
    "duration": 351,
    "start_time": "2023-04-15T10:56:32.253Z"
   },
   {
    "duration": 36,
    "start_time": "2023-04-15T10:56:32.609Z"
   },
   {
    "duration": 419,
    "start_time": "2023-04-15T10:56:32.648Z"
   },
   {
    "duration": 4590,
    "start_time": "2023-04-15T10:56:33.069Z"
   },
   {
    "duration": 46,
    "start_time": "2023-04-15T10:56:37.660Z"
   },
   {
    "duration": 42,
    "start_time": "2023-04-15T10:56:37.708Z"
   },
   {
    "duration": 10,
    "start_time": "2023-04-15T10:56:37.752Z"
   },
   {
    "duration": 3,
    "start_time": "2023-04-15T10:56:37.785Z"
   },
   {
    "duration": 18,
    "start_time": "2023-04-15T10:56:37.790Z"
   },
   {
    "duration": 12,
    "start_time": "2023-04-15T10:56:37.810Z"
   },
   {
    "duration": 18,
    "start_time": "2023-04-15T10:56:37.824Z"
   },
   {
    "duration": 252944,
    "start_time": "2023-04-15T10:56:37.845Z"
   },
   {
    "duration": 9,
    "start_time": "2023-04-15T11:00:50.790Z"
   },
   {
    "duration": 7,
    "start_time": "2023-04-15T11:00:50.801Z"
   },
   {
    "duration": 7,
    "start_time": "2023-04-15T11:00:50.810Z"
   },
   {
    "duration": 118,
    "start_time": "2023-04-15T11:00:50.818Z"
   },
   {
    "duration": 23,
    "start_time": "2023-04-15T11:00:50.938Z"
   },
   {
    "duration": 23,
    "start_time": "2023-04-15T11:00:50.963Z"
   },
   {
    "duration": 4,
    "start_time": "2023-04-15T11:00:50.987Z"
   },
   {
    "duration": 5,
    "start_time": "2023-04-15T11:00:50.996Z"
   },
   {
    "duration": 12,
    "start_time": "2023-04-15T11:00:51.003Z"
   },
   {
    "duration": 1110,
    "start_time": "2023-04-15T11:00:51.017Z"
   },
   {
    "duration": 4,
    "start_time": "2023-04-15T11:00:52.128Z"
   },
   {
    "duration": 9,
    "start_time": "2023-04-15T11:00:52.134Z"
   },
   {
    "duration": 8,
    "start_time": "2023-04-15T11:00:52.144Z"
   },
   {
    "duration": 16,
    "start_time": "2023-04-15T11:00:52.154Z"
   },
   {
    "duration": 28,
    "start_time": "2023-04-15T11:00:52.172Z"
   },
   {
    "duration": 8,
    "start_time": "2023-04-15T11:00:52.201Z"
   },
   {
    "duration": 26,
    "start_time": "2023-04-15T11:00:52.211Z"
   },
   {
    "duration": 51885,
    "start_time": "2023-04-15T11:00:52.239Z"
   },
   {
    "duration": 0,
    "start_time": "2023-04-15T11:01:44.126Z"
   },
   {
    "duration": 0,
    "start_time": "2023-04-15T11:01:44.127Z"
   },
   {
    "duration": 0,
    "start_time": "2023-04-15T11:01:44.128Z"
   },
   {
    "duration": 0,
    "start_time": "2023-04-15T11:01:44.130Z"
   },
   {
    "duration": 0,
    "start_time": "2023-04-15T11:01:44.131Z"
   },
   {
    "duration": 0,
    "start_time": "2023-04-15T11:01:44.131Z"
   },
   {
    "duration": 0,
    "start_time": "2023-04-15T11:01:44.132Z"
   },
   {
    "duration": 0,
    "start_time": "2023-04-15T11:01:44.133Z"
   },
   {
    "duration": 0,
    "start_time": "2023-04-15T11:01:44.134Z"
   },
   {
    "duration": 0,
    "start_time": "2023-04-15T11:01:44.135Z"
   },
   {
    "duration": 0,
    "start_time": "2023-04-15T11:01:44.136Z"
   },
   {
    "duration": 0,
    "start_time": "2023-04-15T11:01:44.137Z"
   },
   {
    "duration": 0,
    "start_time": "2023-04-15T11:01:44.138Z"
   },
   {
    "duration": 0,
    "start_time": "2023-04-15T11:01:44.139Z"
   },
   {
    "duration": 0,
    "start_time": "2023-04-15T11:01:44.141Z"
   },
   {
    "duration": 0,
    "start_time": "2023-04-15T11:01:44.142Z"
   },
   {
    "duration": 0,
    "start_time": "2023-04-15T11:01:44.143Z"
   },
   {
    "duration": 0,
    "start_time": "2023-04-15T11:01:44.144Z"
   },
   {
    "duration": 0,
    "start_time": "2023-04-15T11:01:44.145Z"
   },
   {
    "duration": 0,
    "start_time": "2023-04-15T11:01:44.146Z"
   },
   {
    "duration": 0,
    "start_time": "2023-04-15T11:01:44.147Z"
   },
   {
    "duration": 0,
    "start_time": "2023-04-15T11:01:44.149Z"
   },
   {
    "duration": 0,
    "start_time": "2023-04-15T11:01:44.185Z"
   },
   {
    "duration": 0,
    "start_time": "2023-04-15T11:01:44.186Z"
   },
   {
    "duration": 0,
    "start_time": "2023-04-15T11:01:44.188Z"
   },
   {
    "duration": 0,
    "start_time": "2023-04-15T11:01:44.189Z"
   },
   {
    "duration": 0,
    "start_time": "2023-04-15T11:01:44.190Z"
   },
   {
    "duration": 0,
    "start_time": "2023-04-15T11:01:44.191Z"
   },
   {
    "duration": 0,
    "start_time": "2023-04-15T11:01:44.192Z"
   },
   {
    "duration": 0,
    "start_time": "2023-04-15T11:01:44.193Z"
   },
   {
    "duration": 0,
    "start_time": "2023-04-15T11:01:44.194Z"
   },
   {
    "duration": 0,
    "start_time": "2023-04-15T11:01:44.195Z"
   },
   {
    "duration": 0,
    "start_time": "2023-04-15T11:01:44.196Z"
   },
   {
    "duration": 0,
    "start_time": "2023-04-15T11:01:44.197Z"
   },
   {
    "duration": 0,
    "start_time": "2023-04-15T11:01:44.198Z"
   },
   {
    "duration": 2322,
    "start_time": "2023-04-15T11:16:22.425Z"
   },
   {
    "duration": 6681,
    "start_time": "2023-04-15T11:16:24.749Z"
   },
   {
    "duration": 922,
    "start_time": "2023-04-15T11:16:31.432Z"
   },
   {
    "duration": 41,
    "start_time": "2023-04-15T11:16:32.356Z"
   },
   {
    "duration": 261,
    "start_time": "2023-04-15T11:16:32.399Z"
   },
   {
    "duration": 287,
    "start_time": "2023-04-15T11:16:32.662Z"
   },
   {
    "duration": 6,
    "start_time": "2023-04-15T11:16:32.951Z"
   },
   {
    "duration": 44,
    "start_time": "2023-04-15T11:16:32.959Z"
   },
   {
    "duration": 319,
    "start_time": "2023-04-15T11:16:33.005Z"
   },
   {
    "duration": 4144,
    "start_time": "2023-04-15T11:16:33.326Z"
   },
   {
    "duration": 32,
    "start_time": "2023-04-15T11:16:37.472Z"
   },
   {
    "duration": 50,
    "start_time": "2023-04-15T11:16:37.505Z"
   },
   {
    "duration": 9,
    "start_time": "2023-04-15T11:16:37.557Z"
   },
   {
    "duration": 17,
    "start_time": "2023-04-15T11:16:37.568Z"
   },
   {
    "duration": 4,
    "start_time": "2023-04-15T11:16:37.587Z"
   },
   {
    "duration": 4,
    "start_time": "2023-04-15T11:16:37.593Z"
   },
   {
    "duration": 6,
    "start_time": "2023-04-15T11:16:37.599Z"
   },
   {
    "duration": 249472,
    "start_time": "2023-04-15T11:16:37.606Z"
   },
   {
    "duration": 10,
    "start_time": "2023-04-15T11:20:47.084Z"
   },
   {
    "duration": 20,
    "start_time": "2023-04-15T11:20:47.096Z"
   },
   {
    "duration": 14,
    "start_time": "2023-04-15T11:20:47.118Z"
   },
   {
    "duration": 138,
    "start_time": "2023-04-15T11:20:47.134Z"
   },
   {
    "duration": 21,
    "start_time": "2023-04-15T11:20:47.274Z"
   },
   {
    "duration": 11,
    "start_time": "2023-04-15T11:20:47.297Z"
   },
   {
    "duration": 5,
    "start_time": "2023-04-15T11:20:47.310Z"
   },
   {
    "duration": 13,
    "start_time": "2023-04-15T11:20:47.316Z"
   },
   {
    "duration": 1182,
    "start_time": "2023-04-15T11:20:47.331Z"
   },
   {
    "duration": 4,
    "start_time": "2023-04-15T11:20:48.518Z"
   },
   {
    "duration": 8,
    "start_time": "2023-04-15T11:20:48.524Z"
   },
   {
    "duration": 17,
    "start_time": "2023-04-15T11:20:48.534Z"
   },
   {
    "duration": 19,
    "start_time": "2023-04-15T11:20:48.554Z"
   },
   {
    "duration": 32,
    "start_time": "2023-04-15T11:20:48.576Z"
   },
   {
    "duration": 24,
    "start_time": "2023-04-15T11:20:48.610Z"
   },
   {
    "duration": 9,
    "start_time": "2023-04-15T11:20:48.636Z"
   },
   {
    "duration": 4821843,
    "start_time": "2023-04-15T11:20:48.648Z"
   },
   {
    "duration": 263019,
    "start_time": "2023-04-15T12:41:10.493Z"
   },
   {
    "duration": 183,
    "start_time": "2023-04-15T12:45:33.514Z"
   },
   {
    "duration": 53401,
    "start_time": "2023-04-15T12:45:33.699Z"
   },
   {
    "duration": 304,
    "start_time": "2023-04-15T12:46:27.102Z"
   },
   {
    "duration": 11,
    "start_time": "2023-04-15T12:46:27.408Z"
   },
   {
    "duration": 48900,
    "start_time": "2023-04-15T12:46:27.420Z"
   },
   {
    "duration": 1631,
    "start_time": "2023-04-15T12:47:16.322Z"
   },
   {
    "duration": 13,
    "start_time": "2023-04-15T12:47:17.954Z"
   },
   {
    "duration": 4238617,
    "start_time": "2023-04-15T12:47:17.969Z"
   },
   {
    "duration": 13604,
    "start_time": "2023-04-15T13:57:56.589Z"
   },
   {
    "duration": 189,
    "start_time": "2023-04-15T13:58:10.197Z"
   },
   {
    "duration": 10,
    "start_time": "2023-04-15T13:58:10.389Z"
   },
   {
    "duration": 15,
    "start_time": "2023-04-15T13:58:10.401Z"
   },
   {
    "duration": 354,
    "start_time": "2023-04-15T13:58:10.418Z"
   },
   {
    "duration": 0,
    "start_time": "2023-04-15T13:58:10.774Z"
   },
   {
    "duration": 34,
    "start_time": "2023-04-15T14:42:28.629Z"
   },
   {
    "duration": 39,
    "start_time": "2023-04-15T14:43:09.726Z"
   },
   {
    "duration": 12,
    "start_time": "2023-04-15T14:46:37.723Z"
   },
   {
    "duration": 21,
    "start_time": "2023-04-15T14:46:38.883Z"
   },
   {
    "duration": 37,
    "start_time": "2023-04-15T14:47:01.806Z"
   },
   {
    "duration": 9,
    "start_time": "2023-04-15T14:49:08.004Z"
   },
   {
    "duration": 41,
    "start_time": "2023-04-15T14:49:54.750Z"
   },
   {
    "duration": 20,
    "start_time": "2023-04-15T14:50:21.237Z"
   },
   {
    "duration": 9,
    "start_time": "2023-04-15T14:56:50.035Z"
   },
   {
    "duration": 21,
    "start_time": "2023-04-15T14:56:51.986Z"
   },
   {
    "duration": 10,
    "start_time": "2023-04-15T14:57:26.555Z"
   },
   {
    "duration": 31,
    "start_time": "2023-04-15T14:57:27.382Z"
   },
   {
    "duration": 10,
    "start_time": "2023-04-15T15:00:43.931Z"
   },
   {
    "duration": 7,
    "start_time": "2023-04-15T15:00:46.684Z"
   },
   {
    "duration": 36,
    "start_time": "2023-04-15T15:00:54.377Z"
   },
   {
    "duration": 10,
    "start_time": "2023-04-15T15:05:04.384Z"
   },
   {
    "duration": 7,
    "start_time": "2023-04-15T15:05:05.887Z"
   },
   {
    "duration": 52262,
    "start_time": "2023-04-15T15:05:12.508Z"
   },
   {
    "duration": 0,
    "start_time": "2023-04-15T15:06:04.772Z"
   },
   {
    "duration": 2496,
    "start_time": "2023-04-16T08:38:56.510Z"
   },
   {
    "duration": 2001,
    "start_time": "2023-04-16T08:38:59.075Z"
   },
   {
    "duration": 954,
    "start_time": "2023-04-16T08:39:01.078Z"
   },
   {
    "duration": 52,
    "start_time": "2023-04-16T08:39:02.034Z"
   },
   {
    "duration": 227,
    "start_time": "2023-04-16T08:39:05.712Z"
   },
   {
    "duration": 270,
    "start_time": "2023-04-16T08:39:06.903Z"
   },
   {
    "duration": 7,
    "start_time": "2023-04-16T08:39:09.440Z"
   },
   {
    "duration": 29,
    "start_time": "2023-04-16T08:39:11.862Z"
   },
   {
    "duration": 2683,
    "start_time": "2023-04-16T08:45:30.910Z"
   },
   {
    "duration": 5042,
    "start_time": "2023-04-16T08:45:33.595Z"
   },
   {
    "duration": 1165,
    "start_time": "2023-04-16T08:45:38.639Z"
   },
   {
    "duration": 37,
    "start_time": "2023-04-16T08:45:39.808Z"
   },
   {
    "duration": 271,
    "start_time": "2023-04-16T08:45:39.847Z"
   },
   {
    "duration": 308,
    "start_time": "2023-04-16T08:45:40.120Z"
   },
   {
    "duration": 7,
    "start_time": "2023-04-16T08:45:40.430Z"
   },
   {
    "duration": 31,
    "start_time": "2023-04-16T08:45:40.439Z"
   },
   {
    "duration": 340,
    "start_time": "2023-04-16T08:45:40.488Z"
   },
   {
    "duration": 4427,
    "start_time": "2023-04-16T08:45:40.832Z"
   },
   {
    "duration": 33,
    "start_time": "2023-04-16T08:45:45.261Z"
   },
   {
    "duration": 53,
    "start_time": "2023-04-16T08:45:45.296Z"
   },
   {
    "duration": 13,
    "start_time": "2023-04-16T08:45:45.352Z"
   },
   {
    "duration": 19,
    "start_time": "2023-04-16T08:45:45.368Z"
   },
   {
    "duration": 17,
    "start_time": "2023-04-16T08:45:45.389Z"
   },
   {
    "duration": 16,
    "start_time": "2023-04-16T08:45:45.409Z"
   },
   {
    "duration": 13,
    "start_time": "2023-04-16T08:45:45.427Z"
   },
   {
    "duration": 716495,
    "start_time": "2023-04-16T08:45:45.442Z"
   },
   {
    "duration": 19,
    "start_time": "2023-04-16T08:57:41.940Z"
   },
   {
    "duration": 25,
    "start_time": "2023-04-16T08:57:41.961Z"
   },
   {
    "duration": 4,
    "start_time": "2023-04-16T08:57:41.991Z"
   },
   {
    "duration": 270,
    "start_time": "2023-04-16T08:57:41.997Z"
   },
   {
    "duration": 55,
    "start_time": "2023-04-16T08:57:42.269Z"
   },
   {
    "duration": 11,
    "start_time": "2023-04-16T08:57:42.326Z"
   },
   {
    "duration": 4,
    "start_time": "2023-04-16T08:57:42.339Z"
   },
   {
    "duration": 11,
    "start_time": "2023-04-16T08:57:42.345Z"
   },
   {
    "duration": 3188,
    "start_time": "2023-04-16T08:57:42.359Z"
   },
   {
    "duration": 4,
    "start_time": "2023-04-16T08:57:45.552Z"
   },
   {
    "duration": 4,
    "start_time": "2023-04-16T08:57:45.558Z"
   },
   {
    "duration": 24,
    "start_time": "2023-04-16T08:57:45.563Z"
   },
   {
    "duration": 5,
    "start_time": "2023-04-16T08:57:45.589Z"
   },
   {
    "duration": 11,
    "start_time": "2023-04-16T08:57:45.595Z"
   },
   {
    "duration": 10,
    "start_time": "2023-04-16T08:57:45.608Z"
   },
   {
    "duration": 9,
    "start_time": "2023-04-16T08:57:45.620Z"
   },
   {
    "duration": 13702273,
    "start_time": "2023-04-16T08:57:45.632Z"
   },
   {
    "duration": 1074680,
    "start_time": "2023-04-16T12:46:07.908Z"
   },
   {
    "duration": 409,
    "start_time": "2023-04-16T13:04:02.590Z"
   },
   {
    "duration": 89138,
    "start_time": "2023-04-16T13:04:03.001Z"
   },
   {
    "duration": 676,
    "start_time": "2023-04-16T13:05:32.141Z"
   },
   {
    "duration": 12,
    "start_time": "2023-04-16T13:05:32.819Z"
   },
   {
    "duration": 181568,
    "start_time": "2023-04-16T13:05:32.833Z"
   },
   {
    "duration": 5943,
    "start_time": "2023-04-16T13:08:34.403Z"
   },
   {
    "duration": 17,
    "start_time": "2023-04-16T13:08:40.348Z"
   },
   {
    "duration": 3713492,
    "start_time": "2023-04-16T13:08:40.368Z"
   },
   {
    "duration": 0,
    "start_time": "2023-04-16T14:10:33.862Z"
   },
   {
    "duration": 0,
    "start_time": "2023-04-16T14:10:33.863Z"
   },
   {
    "duration": 52477,
    "start_time": "2023-04-16T14:10:57.112Z"
   },
   {
    "duration": 29,
    "start_time": "2023-04-16T14:11:49.591Z"
   },
   {
    "duration": 23675,
    "start_time": "2023-04-16T14:11:49.621Z"
   },
   {
    "duration": 0,
    "start_time": "2023-04-16T14:12:13.299Z"
   },
   {
    "duration": 0,
    "start_time": "2023-04-16T14:12:13.300Z"
   },
   {
    "duration": 0,
    "start_time": "2023-04-16T14:12:13.301Z"
   },
   {
    "duration": 0,
    "start_time": "2023-04-16T14:12:13.302Z"
   },
   {
    "duration": 0,
    "start_time": "2023-04-16T14:12:13.303Z"
   },
   {
    "duration": 0,
    "start_time": "2023-04-16T14:12:13.304Z"
   },
   {
    "duration": 0,
    "start_time": "2023-04-16T14:12:13.306Z"
   },
   {
    "duration": 0,
    "start_time": "2023-04-16T14:12:13.307Z"
   },
   {
    "duration": 41820,
    "start_time": "2023-04-16T14:14:28.104Z"
   },
   {
    "duration": 73,
    "start_time": "2023-04-16T14:15:09.926Z"
   },
   {
    "duration": 89081,
    "start_time": "2023-04-16T14:15:10.000Z"
   },
   {
    "duration": 683,
    "start_time": "2023-04-16T14:16:39.084Z"
   },
   {
    "duration": 16,
    "start_time": "2023-04-16T14:16:39.770Z"
   },
   {
    "duration": 62501,
    "start_time": "2023-04-16T14:16:39.787Z"
   },
   {
    "duration": 0,
    "start_time": "2023-04-16T14:17:42.290Z"
   },
   {
    "duration": 0,
    "start_time": "2023-04-16T14:17:42.291Z"
   },
   {
    "duration": 0,
    "start_time": "2023-04-16T14:17:42.293Z"
   },
   {
    "duration": 0,
    "start_time": "2023-04-16T14:17:42.294Z"
   },
   {
    "duration": 0,
    "start_time": "2023-04-16T14:17:42.295Z"
   },
   {
    "duration": 66692,
    "start_time": "2023-04-16T14:17:51.509Z"
   },
   {
    "duration": 92,
    "start_time": "2023-04-16T14:18:58.203Z"
   },
   {
    "duration": 90573,
    "start_time": "2023-04-16T14:19:25.857Z"
   },
   {
    "duration": 668,
    "start_time": "2023-04-16T14:20:56.432Z"
   },
   {
    "duration": 13,
    "start_time": "2023-04-16T14:20:57.102Z"
   },
   {
    "duration": 193447,
    "start_time": "2023-04-16T14:20:57.117Z"
   },
   {
    "duration": 6223,
    "start_time": "2023-04-16T14:24:10.566Z"
   },
   {
    "duration": 20,
    "start_time": "2023-04-16T14:24:16.791Z"
   },
   {
    "duration": 3001,
    "start_time": "2023-04-16T14:27:37.081Z"
   },
   {
    "duration": 4708,
    "start_time": "2023-04-16T14:27:40.089Z"
   },
   {
    "duration": 948,
    "start_time": "2023-04-16T14:27:44.807Z"
   },
   {
    "duration": 51,
    "start_time": "2023-04-16T14:27:45.757Z"
   },
   {
    "duration": 246,
    "start_time": "2023-04-16T14:27:45.810Z"
   },
   {
    "duration": 286,
    "start_time": "2023-04-16T14:27:46.057Z"
   },
   {
    "duration": 8,
    "start_time": "2023-04-16T14:27:46.345Z"
   },
   {
    "duration": 48,
    "start_time": "2023-04-16T14:27:46.354Z"
   },
   {
    "duration": 336,
    "start_time": "2023-04-16T14:27:46.404Z"
   },
   {
    "duration": 4230,
    "start_time": "2023-04-16T14:27:46.743Z"
   },
   {
    "duration": 36,
    "start_time": "2023-04-16T14:27:50.975Z"
   },
   {
    "duration": 51,
    "start_time": "2023-04-16T14:27:51.013Z"
   },
   {
    "duration": 24,
    "start_time": "2023-04-16T14:27:51.066Z"
   },
   {
    "duration": 10,
    "start_time": "2023-04-16T14:27:51.092Z"
   },
   {
    "duration": 9,
    "start_time": "2023-04-16T14:27:51.104Z"
   },
   {
    "duration": 17,
    "start_time": "2023-04-16T14:27:51.115Z"
   },
   {
    "duration": 13,
    "start_time": "2023-04-16T14:27:51.134Z"
   },
   {
    "duration": 663388,
    "start_time": "2023-04-16T14:27:51.149Z"
   },
   {
    "duration": 17,
    "start_time": "2023-04-16T14:38:54.540Z"
   },
   {
    "duration": 11,
    "start_time": "2023-04-16T14:38:54.559Z"
   },
   {
    "duration": 20,
    "start_time": "2023-04-16T14:38:54.572Z"
   },
   {
    "duration": 284,
    "start_time": "2023-04-16T14:38:54.594Z"
   },
   {
    "duration": 74,
    "start_time": "2023-04-16T14:38:54.881Z"
   },
   {
    "duration": 14,
    "start_time": "2023-04-16T14:38:54.957Z"
   },
   {
    "duration": 4,
    "start_time": "2023-04-16T14:38:54.985Z"
   },
   {
    "duration": 10,
    "start_time": "2023-04-16T14:38:54.991Z"
   },
   {
    "duration": 3184,
    "start_time": "2023-04-16T14:38:55.003Z"
   },
   {
    "duration": 4,
    "start_time": "2023-04-16T14:38:58.193Z"
   },
   {
    "duration": 25,
    "start_time": "2023-04-16T14:38:58.199Z"
   },
   {
    "duration": 11,
    "start_time": "2023-04-16T14:38:58.226Z"
   },
   {
    "duration": 13,
    "start_time": "2023-04-16T14:38:58.239Z"
   },
   {
    "duration": 19,
    "start_time": "2023-04-16T14:38:58.253Z"
   },
   {
    "duration": 32,
    "start_time": "2023-04-16T14:38:58.274Z"
   },
   {
    "duration": 17,
    "start_time": "2023-04-16T14:38:58.308Z"
   },
   {
    "duration": 13481310,
    "start_time": "2023-04-16T14:38:58.328Z"
   },
   {
    "duration": 259981,
    "start_time": "2023-04-16T18:23:39.640Z"
   },
   {
    "duration": 81,
    "start_time": "2023-04-16T18:27:59.624Z"
   },
   {
    "duration": 92810,
    "start_time": "2023-04-16T18:27:59.708Z"
   },
   {
    "duration": 713,
    "start_time": "2023-04-16T18:29:32.520Z"
   },
   {
    "duration": 12,
    "start_time": "2023-04-16T18:29:33.235Z"
   },
   {
    "duration": 192742,
    "start_time": "2023-04-16T18:29:33.249Z"
   },
   {
    "duration": 5950,
    "start_time": "2023-04-16T18:32:45.995Z"
   },
   {
    "duration": 17,
    "start_time": "2023-04-16T18:32:51.947Z"
   },
   {
    "duration": 7735534,
    "start_time": "2023-04-16T18:32:51.966Z"
   },
   {
    "duration": 34489,
    "start_time": "2023-04-16T20:41:47.502Z"
   },
   {
    "duration": 96,
    "start_time": "2023-04-16T20:42:21.993Z"
   },
   {
    "duration": 212,
    "start_time": "2023-04-16T20:42:22.090Z"
   },
   {
    "duration": 9,
    "start_time": "2023-04-17T01:51:16.885Z"
   },
   {
    "duration": 13,
    "start_time": "2023-04-17T01:58:15.261Z"
   },
   {
    "duration": 571,
    "start_time": "2023-04-17T02:00:23.139Z"
   },
   {
    "duration": 9,
    "start_time": "2023-04-17T02:00:36.108Z"
   },
   {
    "duration": 4054,
    "start_time": "2023-04-17T10:19:01.071Z"
   },
   {
    "duration": 3161,
    "start_time": "2023-04-17T10:19:05.127Z"
   },
   {
    "duration": 35,
    "start_time": "2023-04-17T10:19:08.289Z"
   },
   {
    "duration": 231,
    "start_time": "2023-04-17T10:19:08.327Z"
   },
   {
    "duration": 286,
    "start_time": "2023-04-17T10:19:08.560Z"
   },
   {
    "duration": 10,
    "start_time": "2023-04-17T10:19:08.848Z"
   },
   {
    "duration": 303,
    "start_time": "2023-04-17T10:19:11.678Z"
   },
   {
    "duration": 3706,
    "start_time": "2023-04-17T10:19:12.600Z"
   },
   {
    "duration": 35,
    "start_time": "2023-04-17T10:19:16.308Z"
   },
   {
    "duration": 46,
    "start_time": "2023-04-17T10:19:45.687Z"
   },
   {
    "duration": 7,
    "start_time": "2023-04-17T10:19:48.726Z"
   },
   {
    "duration": 2,
    "start_time": "2023-04-17T10:19:53.698Z"
   },
   {
    "duration": 46,
    "start_time": "2023-04-17T10:19:53.893Z"
   },
   {
    "duration": 90,
    "start_time": "2023-04-17T10:20:11.407Z"
   },
   {
    "duration": 74,
    "start_time": "2023-04-17T10:20:29.142Z"
   },
   {
    "duration": 54,
    "start_time": "2023-04-17T10:20:40.517Z"
   },
   {
    "duration": 45,
    "start_time": "2023-04-17T10:21:27.847Z"
   },
   {
    "duration": 52,
    "start_time": "2023-04-17T10:21:41.542Z"
   },
   {
    "duration": 59,
    "start_time": "2023-04-17T10:21:57.408Z"
   },
   {
    "duration": 4,
    "start_time": "2023-04-17T10:23:07.453Z"
   },
   {
    "duration": 11,
    "start_time": "2023-04-17T10:23:54.042Z"
   },
   {
    "duration": 3,
    "start_time": "2023-04-17T10:24:29.850Z"
   },
   {
    "duration": 572259,
    "start_time": "2023-04-17T10:24:35.712Z"
   },
   {
    "duration": 9,
    "start_time": "2023-04-17T10:34:07.974Z"
   },
   {
    "duration": 9,
    "start_time": "2023-04-17T10:34:07.985Z"
   },
   {
    "duration": 5,
    "start_time": "2023-04-17T10:34:07.996Z"
   },
   {
    "duration": 281,
    "start_time": "2023-04-17T10:34:08.003Z"
   },
   {
    "duration": 70,
    "start_time": "2023-04-17T10:34:08.286Z"
   },
   {
    "duration": 11,
    "start_time": "2023-04-17T10:34:08.357Z"
   },
   {
    "duration": 6,
    "start_time": "2023-04-17T10:34:08.369Z"
   },
   {
    "duration": 10,
    "start_time": "2023-04-17T10:34:08.376Z"
   },
   {
    "duration": 1313,
    "start_time": "2023-04-17T10:45:09.543Z"
   },
   {
    "duration": 1276,
    "start_time": "2023-04-17T10:45:29.896Z"
   },
   {
    "duration": 839,
    "start_time": "2023-04-17T10:45:34.362Z"
   },
   {
    "duration": 30,
    "start_time": "2023-04-17T10:45:35.203Z"
   },
   {
    "duration": 251,
    "start_time": "2023-04-17T10:45:35.235Z"
   },
   {
    "duration": 273,
    "start_time": "2023-04-17T10:45:35.488Z"
   },
   {
    "duration": 6,
    "start_time": "2023-04-17T10:45:35.763Z"
   },
   {
    "duration": 279,
    "start_time": "2023-04-17T10:45:36.598Z"
   },
   {
    "duration": 3881,
    "start_time": "2023-04-17T10:45:36.879Z"
   },
   {
    "duration": 33,
    "start_time": "2023-04-17T10:45:40.762Z"
   },
   {
    "duration": 78,
    "start_time": "2023-04-17T10:45:40.797Z"
   },
   {
    "duration": 8,
    "start_time": "2023-04-17T10:45:40.878Z"
   },
   {
    "duration": 5,
    "start_time": "2023-04-17T10:45:40.888Z"
   },
   {
    "duration": 12,
    "start_time": "2023-04-17T10:45:40.895Z"
   },
   {
    "duration": 4,
    "start_time": "2023-04-17T10:45:41.412Z"
   },
   {
    "duration": 4,
    "start_time": "2023-04-17T10:45:42.542Z"
   },
   {
    "duration": 575368,
    "start_time": "2023-04-17T10:45:44.030Z"
   },
   {
    "duration": 10,
    "start_time": "2023-04-17T10:55:19.400Z"
   },
   {
    "duration": 13,
    "start_time": "2023-04-17T10:55:19.411Z"
   },
   {
    "duration": 3,
    "start_time": "2023-04-17T10:55:19.426Z"
   },
   {
    "duration": 230,
    "start_time": "2023-04-17T10:55:19.430Z"
   },
   {
    "duration": 56,
    "start_time": "2023-04-17T10:55:19.662Z"
   },
   {
    "duration": 10,
    "start_time": "2023-04-17T10:55:19.720Z"
   },
   {
    "duration": 4,
    "start_time": "2023-04-17T10:55:19.764Z"
   },
   {
    "duration": 12,
    "start_time": "2023-04-17T10:55:19.769Z"
   },
   {
    "duration": 2669,
    "start_time": "2023-04-17T10:55:19.783Z"
   },
   {
    "duration": 3,
    "start_time": "2023-04-17T10:55:22.455Z"
   },
   {
    "duration": 5,
    "start_time": "2023-04-17T10:55:22.460Z"
   },
   {
    "duration": 5,
    "start_time": "2023-04-17T10:55:22.467Z"
   },
   {
    "duration": 3,
    "start_time": "2023-04-17T10:56:19.093Z"
   },
   {
    "duration": 4,
    "start_time": "2023-04-17T10:56:19.800Z"
   },
   {
    "duration": 7,
    "start_time": "2023-04-17T10:56:20.653Z"
   },
   {
    "duration": 169,
    "start_time": "2023-04-17T10:56:23.381Z"
   },
   {
    "duration": 16,
    "start_time": "2023-04-17T10:59:25.914Z"
   },
   {
    "duration": 13,
    "start_time": "2023-04-17T11:01:53.280Z"
   },
   {
    "duration": 10,
    "start_time": "2023-04-17T11:01:58.176Z"
   },
   {
    "duration": 55,
    "start_time": "2023-04-17T11:02:34.959Z"
   },
   {
    "duration": 47,
    "start_time": "2023-04-17T11:02:46.754Z"
   },
   {
    "duration": 50,
    "start_time": "2023-04-17T11:03:43.747Z"
   },
   {
    "duration": 13,
    "start_time": "2023-04-17T11:04:44.540Z"
   },
   {
    "duration": 9,
    "start_time": "2023-04-17T11:04:50.710Z"
   },
   {
    "duration": 13,
    "start_time": "2023-04-17T11:05:10.557Z"
   },
   {
    "duration": 8,
    "start_time": "2023-04-17T11:05:14.861Z"
   },
   {
    "duration": 4697,
    "start_time": "2023-04-17T11:16:21.582Z"
   },
   {
    "duration": 787,
    "start_time": "2023-04-17T11:16:26.281Z"
   },
   {
    "duration": 33,
    "start_time": "2023-04-17T11:16:27.070Z"
   },
   {
    "duration": 242,
    "start_time": "2023-04-17T11:16:27.105Z"
   },
   {
    "duration": 279,
    "start_time": "2023-04-17T11:16:27.349Z"
   },
   {
    "duration": 7,
    "start_time": "2023-04-17T11:16:27.630Z"
   },
   {
    "duration": 306,
    "start_time": "2023-04-17T11:16:27.639Z"
   },
   {
    "duration": 3460,
    "start_time": "2023-04-17T11:16:27.947Z"
   },
   {
    "duration": 48,
    "start_time": "2023-04-17T11:16:31.409Z"
   },
   {
    "duration": 91,
    "start_time": "2023-04-17T11:16:31.459Z"
   },
   {
    "duration": 27,
    "start_time": "2023-04-17T11:16:31.551Z"
   },
   {
    "duration": 46,
    "start_time": "2023-04-17T11:16:31.580Z"
   },
   {
    "duration": 32,
    "start_time": "2023-04-17T11:16:31.628Z"
   },
   {
    "duration": 31,
    "start_time": "2023-04-17T11:16:31.662Z"
   },
   {
    "duration": 20,
    "start_time": "2023-04-17T11:16:31.695Z"
   },
   {
    "duration": 558411,
    "start_time": "2023-04-17T11:16:31.717Z"
   },
   {
    "duration": 10,
    "start_time": "2023-04-17T11:25:50.130Z"
   },
   {
    "duration": 14,
    "start_time": "2023-04-17T11:25:50.142Z"
   },
   {
    "duration": 11,
    "start_time": "2023-04-17T11:25:50.158Z"
   },
   {
    "duration": 271,
    "start_time": "2023-04-17T11:25:50.170Z"
   },
   {
    "duration": 60,
    "start_time": "2023-04-17T11:25:50.443Z"
   },
   {
    "duration": 12,
    "start_time": "2023-04-17T11:25:50.505Z"
   },
   {
    "duration": 7,
    "start_time": "2023-04-17T11:25:50.519Z"
   },
   {
    "duration": 10,
    "start_time": "2023-04-17T11:25:50.528Z"
   },
   {
    "duration": 2543,
    "start_time": "2023-04-17T11:25:50.540Z"
   },
   {
    "duration": 4,
    "start_time": "2023-04-17T11:25:53.085Z"
   },
   {
    "duration": 7,
    "start_time": "2023-04-17T11:25:53.090Z"
   },
   {
    "duration": 6,
    "start_time": "2023-04-17T11:25:53.100Z"
   },
   {
    "duration": 7,
    "start_time": "2023-04-17T11:25:53.107Z"
   },
   {
    "duration": 9,
    "start_time": "2023-04-17T11:25:53.116Z"
   },
   {
    "duration": 8,
    "start_time": "2023-04-17T11:25:53.126Z"
   },
   {
    "duration": 26,
    "start_time": "2023-04-17T11:25:53.136Z"
   },
   {
    "duration": 8,
    "start_time": "2023-04-17T11:25:53.163Z"
   },
   {
    "duration": 10775123,
    "start_time": "2023-04-17T11:25:53.172Z"
   },
   {
    "duration": 203,
    "start_time": "2023-04-17T14:25:28.296Z"
   },
   {
    "duration": 0,
    "start_time": "2023-04-17T14:25:28.501Z"
   },
   {
    "duration": 0,
    "start_time": "2023-04-17T14:25:28.502Z"
   },
   {
    "duration": 0,
    "start_time": "2023-04-17T14:25:28.503Z"
   },
   {
    "duration": 0,
    "start_time": "2023-04-17T14:25:28.505Z"
   },
   {
    "duration": 0,
    "start_time": "2023-04-17T14:25:28.506Z"
   },
   {
    "duration": 0,
    "start_time": "2023-04-17T14:25:28.507Z"
   },
   {
    "duration": 0,
    "start_time": "2023-04-17T14:25:28.508Z"
   },
   {
    "duration": 0,
    "start_time": "2023-04-17T14:25:28.509Z"
   },
   {
    "duration": 0,
    "start_time": "2023-04-17T14:25:28.511Z"
   },
   {
    "duration": 0,
    "start_time": "2023-04-17T14:25:28.512Z"
   },
   {
    "duration": 0,
    "start_time": "2023-04-17T14:25:28.513Z"
   },
   {
    "duration": 66926,
    "start_time": "2023-04-17T15:33:08.450Z"
   },
   {
    "duration": 57,
    "start_time": "2023-04-17T15:34:22.538Z"
   },
   {
    "duration": 18,
    "start_time": "2023-04-17T15:34:53.780Z"
   },
   {
    "duration": 94,
    "start_time": "2023-04-17T15:35:27.333Z"
   },
   {
    "duration": 16,
    "start_time": "2023-04-17T15:36:41.021Z"
   },
   {
    "duration": 15,
    "start_time": "2023-04-17T15:47:37.695Z"
   },
   {
    "duration": 13,
    "start_time": "2023-04-17T15:48:03.811Z"
   },
   {
    "duration": 19,
    "start_time": "2023-04-17T15:51:20.552Z"
   },
   {
    "duration": 25,
    "start_time": "2023-04-17T15:52:32.450Z"
   },
   {
    "duration": 92166,
    "start_time": "2023-04-17T15:54:03.836Z"
   },
   {
    "duration": 198,
    "start_time": "2023-04-17T15:55:36.004Z"
   },
   {
    "duration": 67399,
    "start_time": "2023-04-17T15:55:36.204Z"
   },
   {
    "duration": 0,
    "start_time": "2023-04-17T15:56:43.605Z"
   },
   {
    "duration": 0,
    "start_time": "2023-04-17T15:56:43.606Z"
   },
   {
    "duration": 0,
    "start_time": "2023-04-17T15:56:43.607Z"
   },
   {
    "duration": 0,
    "start_time": "2023-04-17T15:56:43.608Z"
   },
   {
    "duration": 0,
    "start_time": "2023-04-17T15:56:43.609Z"
   },
   {
    "duration": 74,
    "start_time": "2023-04-17T15:56:52.926Z"
   },
   {
    "duration": 178557,
    "start_time": "2023-04-17T15:57:00.631Z"
   },
   {
    "duration": 16,
    "start_time": "2023-04-17T15:59:59.191Z"
   },
   {
    "duration": 0,
    "start_time": "2023-04-17T15:59:59.208Z"
   },
   {
    "duration": 0,
    "start_time": "2023-04-17T15:59:59.209Z"
   },
   {
    "duration": 0,
    "start_time": "2023-04-17T15:59:59.210Z"
   },
   {
    "duration": 0,
    "start_time": "2023-04-17T15:59:59.212Z"
   },
   {
    "duration": 759,
    "start_time": "2023-04-17T16:01:43.891Z"
   },
   {
    "duration": 26,
    "start_time": "2023-04-17T16:01:49.899Z"
   },
   {
    "duration": 184483,
    "start_time": "2023-04-17T16:02:08.493Z"
   },
   {
    "duration": 6311,
    "start_time": "2023-04-17T16:05:12.978Z"
   },
   {
    "duration": 39,
    "start_time": "2023-04-17T16:05:19.291Z"
   },
   {
    "duration": 42,
    "start_time": "2023-04-17T16:05:33.654Z"
   },
   {
    "duration": 26,
    "start_time": "2023-04-17T16:05:54.587Z"
   },
   {
    "duration": 30,
    "start_time": "2023-04-17T16:10:40.538Z"
   },
   {
    "duration": 15,
    "start_time": "2023-04-17T16:13:41.998Z"
   },
   {
    "duration": 168149,
    "start_time": "2023-04-17T16:13:57.625Z"
   },
   {
    "duration": 3,
    "start_time": "2023-04-17T16:16:46.532Z"
   },
   {
    "duration": 32,
    "start_time": "2023-04-17T16:16:46.536Z"
   },
   {
    "duration": 14,
    "start_time": "2023-04-17T16:17:35.493Z"
   },
   {
    "duration": 5999,
    "start_time": "2023-04-17T16:20:27.919Z"
   },
   {
    "duration": 1678,
    "start_time": "2023-04-17T16:20:33.920Z"
   },
   {
    "duration": 34,
    "start_time": "2023-04-17T16:20:35.600Z"
   },
   {
    "duration": 239,
    "start_time": "2023-04-17T16:20:35.636Z"
   },
   {
    "duration": 295,
    "start_time": "2023-04-17T16:20:35.877Z"
   },
   {
    "duration": 7,
    "start_time": "2023-04-17T16:20:36.173Z"
   },
   {
    "duration": 328,
    "start_time": "2023-04-17T16:20:36.181Z"
   },
   {
    "duration": 3997,
    "start_time": "2023-04-17T16:20:36.511Z"
   },
   {
    "duration": 60,
    "start_time": "2023-04-17T16:20:40.509Z"
   },
   {
    "duration": 51,
    "start_time": "2023-04-17T16:20:40.574Z"
   },
   {
    "duration": 9,
    "start_time": "2023-04-17T16:20:40.627Z"
   },
   {
    "duration": 19,
    "start_time": "2023-04-17T16:20:40.638Z"
   },
   {
    "duration": 6,
    "start_time": "2023-04-17T16:20:40.658Z"
   },
   {
    "duration": 6,
    "start_time": "2023-04-17T16:20:40.666Z"
   },
   {
    "duration": 6,
    "start_time": "2023-04-17T16:20:40.674Z"
   },
   {
    "duration": 615054,
    "start_time": "2023-04-17T16:20:40.682Z"
   },
   {
    "duration": 10,
    "start_time": "2023-04-17T16:30:55.738Z"
   },
   {
    "duration": 14,
    "start_time": "2023-04-17T16:30:55.761Z"
   },
   {
    "duration": 3,
    "start_time": "2023-04-17T16:30:55.777Z"
   },
   {
    "duration": 248,
    "start_time": "2023-04-17T16:30:55.781Z"
   },
   {
    "duration": 61,
    "start_time": "2023-04-17T16:30:56.031Z"
   },
   {
    "duration": 12,
    "start_time": "2023-04-17T16:30:56.094Z"
   },
   {
    "duration": 4,
    "start_time": "2023-04-17T16:30:56.107Z"
   },
   {
    "duration": 8,
    "start_time": "2023-04-17T16:30:56.113Z"
   },
   {
    "duration": 2882,
    "start_time": "2023-04-17T16:30:56.123Z"
   },
   {
    "duration": 4,
    "start_time": "2023-04-17T16:30:59.007Z"
   },
   {
    "duration": 12,
    "start_time": "2023-04-17T16:30:59.012Z"
   },
   {
    "duration": 4,
    "start_time": "2023-04-17T16:30:59.027Z"
   },
   {
    "duration": 4,
    "start_time": "2023-04-17T16:30:59.032Z"
   },
   {
    "duration": 26,
    "start_time": "2023-04-17T16:30:59.038Z"
   },
   {
    "duration": 9,
    "start_time": "2023-04-17T16:30:59.068Z"
   },
   {
    "duration": 15,
    "start_time": "2023-04-17T16:30:59.079Z"
   },
   {
    "duration": 9,
    "start_time": "2023-04-17T16:30:59.096Z"
   },
   {
    "duration": 12090699,
    "start_time": "2023-04-17T16:30:59.107Z"
   },
   {
    "duration": 34833,
    "start_time": "2023-04-17T19:52:29.856Z"
   },
   {
    "duration": 180,
    "start_time": "2023-04-17T19:53:04.691Z"
   },
   {
    "duration": 173334,
    "start_time": "2023-04-17T19:53:04.872Z"
   },
   {
    "duration": 714,
    "start_time": "2023-04-17T19:55:58.207Z"
   },
   {
    "duration": 22,
    "start_time": "2023-04-17T19:55:58.923Z"
   },
   {
    "duration": 180248,
    "start_time": "2023-04-17T19:55:58.947Z"
   },
   {
    "duration": 5971,
    "start_time": "2023-04-17T19:58:59.197Z"
   },
   {
    "duration": 30,
    "start_time": "2023-04-17T19:59:05.171Z"
   },
   {
    "duration": 6096662,
    "start_time": "2023-04-17T19:59:05.203Z"
   },
   {
    "duration": 23712,
    "start_time": "2023-04-17T21:40:41.957Z"
   },
   {
    "duration": 112,
    "start_time": "2023-04-17T21:41:05.756Z"
   },
   {
    "duration": 7,
    "start_time": "2023-04-17T21:41:05.870Z"
   },
   {
    "duration": 507734,
    "start_time": "2023-04-18T01:13:21.884Z"
   },
   {
    "duration": 10641,
    "start_time": "2023-04-18T01:21:49.620Z"
   },
   {
    "duration": 589,
    "start_time": "2023-04-18T01:22:00.263Z"
   },
   {
    "duration": 67,
    "start_time": "2023-04-18T01:26:04.506Z"
   },
   {
    "duration": 10828,
    "start_time": "2023-04-18T16:26:02.279Z"
   },
   {
    "duration": 3367,
    "start_time": "2023-04-18T16:26:13.109Z"
   },
   {
    "duration": 35,
    "start_time": "2023-04-18T16:26:16.478Z"
   },
   {
    "duration": 265,
    "start_time": "2023-04-18T16:26:16.516Z"
   },
   {
    "duration": 296,
    "start_time": "2023-04-18T16:26:16.788Z"
   },
   {
    "duration": 8,
    "start_time": "2023-04-18T16:26:17.089Z"
   },
   {
    "duration": 314,
    "start_time": "2023-04-18T16:26:17.099Z"
   },
   {
    "duration": 4086,
    "start_time": "2023-04-18T16:26:17.416Z"
   },
   {
    "duration": 37,
    "start_time": "2023-04-18T16:26:21.504Z"
   },
   {
    "duration": 68,
    "start_time": "2023-04-18T16:26:21.543Z"
   },
   {
    "duration": 10,
    "start_time": "2023-04-18T16:26:21.613Z"
   },
   {
    "duration": 6,
    "start_time": "2023-04-18T16:26:34.239Z"
   },
   {
    "duration": 28,
    "start_time": "2023-04-18T16:27:21.616Z"
   },
   {
    "duration": 4,
    "start_time": "2023-04-18T16:27:38.040Z"
   },
   {
    "duration": 4082,
    "start_time": "2023-04-18T16:28:03.873Z"
   },
   {
    "duration": 3,
    "start_time": "2023-04-18T16:28:34.158Z"
   },
   {
    "duration": 1413,
    "start_time": "2023-04-18T16:28:44.816Z"
   },
   {
    "duration": 0,
    "start_time": "2023-04-18T16:28:46.230Z"
   },
   {
    "duration": 28,
    "start_time": "2023-04-18T16:29:17.767Z"
   },
   {
    "duration": 4151,
    "start_time": "2023-04-18T16:29:43.032Z"
   },
   {
    "duration": 3,
    "start_time": "2023-04-18T16:30:01.466Z"
   },
   {
    "duration": 4,
    "start_time": "2023-04-18T16:30:03.745Z"
   },
   {
    "duration": 3,
    "start_time": "2023-04-18T16:30:08.428Z"
   },
   {
    "duration": 9551,
    "start_time": "2023-04-18T23:48:27.001Z"
   },
   {
    "duration": 3203,
    "start_time": "2023-04-18T23:48:37.045Z"
   },
   {
    "duration": 34,
    "start_time": "2023-04-18T23:48:45.417Z"
   },
   {
    "duration": 245,
    "start_time": "2023-04-18T23:48:46.593Z"
   },
   {
    "duration": 276,
    "start_time": "2023-04-18T23:48:50.712Z"
   },
   {
    "duration": 7,
    "start_time": "2023-04-18T23:48:57.538Z"
   },
   {
    "duration": 301,
    "start_time": "2023-04-18T23:49:31.650Z"
   },
   {
    "duration": 4019,
    "start_time": "2023-04-18T23:49:47.521Z"
   },
   {
    "duration": 30,
    "start_time": "2023-04-18T23:50:07.003Z"
   },
   {
    "duration": 47,
    "start_time": "2023-04-18T23:50:16.142Z"
   },
   {
    "duration": 8,
    "start_time": "2023-04-18T23:50:20.954Z"
   },
   {
    "duration": 2,
    "start_time": "2023-04-18T23:50:32.660Z"
   },
   {
    "duration": 3,
    "start_time": "2023-04-18T23:50:33.974Z"
   },
   {
    "duration": 4,
    "start_time": "2023-04-18T23:50:51.777Z"
   },
   {
    "duration": 4,
    "start_time": "2023-04-18T23:50:52.939Z"
   },
   {
    "duration": 601043,
    "start_time": "2023-04-18T23:51:00.180Z"
   },
   {
    "duration": 9,
    "start_time": "2023-04-19T00:01:01.226Z"
   },
   {
    "duration": 61,
    "start_time": "2023-04-19T00:01:01.238Z"
   },
   {
    "duration": 22,
    "start_time": "2023-04-19T00:01:01.303Z"
   },
   {
    "duration": 1074,
    "start_time": "2023-04-19T00:01:01.328Z"
   },
   {
    "duration": 0,
    "start_time": "2023-04-19T00:01:02.405Z"
   },
   {
    "duration": 0,
    "start_time": "2023-04-19T00:01:02.406Z"
   },
   {
    "duration": 0,
    "start_time": "2023-04-19T00:01:02.407Z"
   },
   {
    "duration": 0,
    "start_time": "2023-04-19T00:01:02.408Z"
   },
   {
    "duration": 0,
    "start_time": "2023-04-19T00:01:02.409Z"
   },
   {
    "duration": 0,
    "start_time": "2023-04-19T00:01:02.410Z"
   },
   {
    "duration": 0,
    "start_time": "2023-04-19T00:01:02.411Z"
   },
   {
    "duration": 0,
    "start_time": "2023-04-19T00:01:02.411Z"
   },
   {
    "duration": 5199,
    "start_time": "2023-04-19T00:05:44.022Z"
   },
   {
    "duration": 874,
    "start_time": "2023-04-19T00:05:49.224Z"
   },
   {
    "duration": 36,
    "start_time": "2023-04-19T00:05:50.100Z"
   },
   {
    "duration": 297,
    "start_time": "2023-04-19T00:05:50.139Z"
   },
   {
    "duration": 346,
    "start_time": "2023-04-19T00:05:50.438Z"
   },
   {
    "duration": 7,
    "start_time": "2023-04-19T00:05:50.789Z"
   },
   {
    "duration": 324,
    "start_time": "2023-04-19T00:05:50.798Z"
   },
   {
    "duration": 4053,
    "start_time": "2023-04-19T00:05:51.123Z"
   },
   {
    "duration": 32,
    "start_time": "2023-04-19T00:05:55.178Z"
   },
   {
    "duration": 47,
    "start_time": "2023-04-19T00:05:55.219Z"
   },
   {
    "duration": 23,
    "start_time": "2023-04-19T00:05:55.268Z"
   },
   {
    "duration": 10,
    "start_time": "2023-04-19T00:05:55.292Z"
   },
   {
    "duration": 5,
    "start_time": "2023-04-19T00:05:55.304Z"
   },
   {
    "duration": 6,
    "start_time": "2023-04-19T00:05:55.311Z"
   },
   {
    "duration": 9,
    "start_time": "2023-04-19T00:05:55.318Z"
   },
   {
    "duration": 6105,
    "start_time": "2023-04-19T00:34:24.832Z"
   },
   {
    "duration": 894,
    "start_time": "2023-04-19T00:34:30.940Z"
   },
   {
    "duration": 34,
    "start_time": "2023-04-19T00:34:31.836Z"
   },
   {
    "duration": 264,
    "start_time": "2023-04-19T00:34:31.872Z"
   },
   {
    "duration": 292,
    "start_time": "2023-04-19T00:34:32.137Z"
   },
   {
    "duration": 7,
    "start_time": "2023-04-19T00:34:32.430Z"
   },
   {
    "duration": 326,
    "start_time": "2023-04-19T00:34:32.439Z"
   },
   {
    "duration": 3978,
    "start_time": "2023-04-19T00:34:32.767Z"
   },
   {
    "duration": 30,
    "start_time": "2023-04-19T00:34:36.747Z"
   },
   {
    "duration": 48,
    "start_time": "2023-04-19T00:34:36.798Z"
   },
   {
    "duration": 8,
    "start_time": "2023-04-19T00:34:36.848Z"
   },
   {
    "duration": 30,
    "start_time": "2023-04-19T00:34:36.858Z"
   },
   {
    "duration": 4,
    "start_time": "2023-04-19T00:34:36.892Z"
   },
   {
    "duration": 9,
    "start_time": "2023-04-19T00:34:36.898Z"
   },
   {
    "duration": 7,
    "start_time": "2023-04-19T00:34:36.909Z"
   },
   {
    "duration": 613828,
    "start_time": "2023-04-19T00:34:36.918Z"
   },
   {
    "duration": 10,
    "start_time": "2023-04-19T00:44:50.747Z"
   },
   {
    "duration": 17,
    "start_time": "2023-04-19T00:44:50.760Z"
   },
   {
    "duration": 11,
    "start_time": "2023-04-19T00:44:50.779Z"
   },
   {
    "duration": 292,
    "start_time": "2023-04-19T00:44:50.792Z"
   },
   {
    "duration": 58,
    "start_time": "2023-04-19T00:44:51.088Z"
   },
   {
    "duration": 12,
    "start_time": "2023-04-19T00:44:51.148Z"
   },
   {
    "duration": 29,
    "start_time": "2023-04-19T00:44:51.163Z"
   },
   {
    "duration": 25,
    "start_time": "2023-04-19T00:44:51.194Z"
   },
   {
    "duration": 2917,
    "start_time": "2023-04-19T00:44:51.221Z"
   },
   {
    "duration": 2,
    "start_time": "2023-04-19T00:44:54.140Z"
   },
   {
    "duration": 13,
    "start_time": "2023-04-19T00:44:54.144Z"
   },
   {
    "duration": 4,
    "start_time": "2023-04-19T00:44:54.161Z"
   },
   {
    "duration": 6,
    "start_time": "2023-04-19T00:44:54.167Z"
   },
   {
    "duration": 347,
    "start_time": "2023-04-19T00:44:54.174Z"
   },
   {
    "duration": 0,
    "start_time": "2023-04-19T00:44:54.523Z"
   },
   {
    "duration": 0,
    "start_time": "2023-04-19T00:44:54.524Z"
   },
   {
    "duration": 0,
    "start_time": "2023-04-19T00:44:54.525Z"
   },
   {
    "duration": 0,
    "start_time": "2023-04-19T00:44:54.526Z"
   },
   {
    "duration": 0,
    "start_time": "2023-04-19T00:44:54.527Z"
   },
   {
    "duration": 0,
    "start_time": "2023-04-19T00:44:54.528Z"
   },
   {
    "duration": 0,
    "start_time": "2023-04-19T00:44:54.529Z"
   },
   {
    "duration": 0,
    "start_time": "2023-04-19T00:44:54.530Z"
   },
   {
    "duration": 0,
    "start_time": "2023-04-19T00:44:54.531Z"
   },
   {
    "duration": 0,
    "start_time": "2023-04-19T00:44:54.533Z"
   },
   {
    "duration": 0,
    "start_time": "2023-04-19T00:44:54.534Z"
   },
   {
    "duration": 0,
    "start_time": "2023-04-19T00:44:54.535Z"
   },
   {
    "duration": 0,
    "start_time": "2023-04-19T00:44:54.536Z"
   },
   {
    "duration": 0,
    "start_time": "2023-04-19T00:44:54.537Z"
   },
   {
    "duration": 0,
    "start_time": "2023-04-19T00:44:54.538Z"
   },
   {
    "duration": 0,
    "start_time": "2023-04-19T00:44:54.539Z"
   },
   {
    "duration": 0,
    "start_time": "2023-04-19T00:44:54.540Z"
   },
   {
    "duration": 0,
    "start_time": "2023-04-19T00:44:54.541Z"
   },
   {
    "duration": 0,
    "start_time": "2023-04-19T00:44:54.542Z"
   },
   {
    "duration": 0,
    "start_time": "2023-04-19T00:44:54.544Z"
   },
   {
    "duration": 0,
    "start_time": "2023-04-19T00:44:54.545Z"
   },
   {
    "duration": 0,
    "start_time": "2023-04-19T00:44:54.546Z"
   },
   {
    "duration": 0,
    "start_time": "2023-04-19T00:44:54.547Z"
   },
   {
    "duration": 0,
    "start_time": "2023-04-19T00:44:54.548Z"
   },
   {
    "duration": 0,
    "start_time": "2023-04-19T00:44:54.589Z"
   },
   {
    "duration": 0,
    "start_time": "2023-04-19T00:44:54.590Z"
   },
   {
    "duration": 0,
    "start_time": "2023-04-19T00:44:54.591Z"
   },
   {
    "duration": 0,
    "start_time": "2023-04-19T00:44:54.592Z"
   },
   {
    "duration": 0,
    "start_time": "2023-04-19T00:44:54.594Z"
   },
   {
    "duration": 1,
    "start_time": "2023-04-19T00:44:54.594Z"
   },
   {
    "duration": 0,
    "start_time": "2023-04-19T00:44:54.596Z"
   },
   {
    "duration": 0,
    "start_time": "2023-04-19T00:44:54.597Z"
   },
   {
    "duration": 0,
    "start_time": "2023-04-19T00:44:54.598Z"
   },
   {
    "duration": 0,
    "start_time": "2023-04-19T00:44:54.599Z"
   },
   {
    "duration": 1364,
    "start_time": "2023-04-19T00:50:54.697Z"
   },
   {
    "duration": 5313,
    "start_time": "2023-04-19T00:52:35.340Z"
   },
   {
    "duration": 864,
    "start_time": "2023-04-19T00:52:40.655Z"
   },
   {
    "duration": 34,
    "start_time": "2023-04-19T00:52:41.521Z"
   },
   {
    "duration": 284,
    "start_time": "2023-04-19T00:52:41.558Z"
   },
   {
    "duration": 299,
    "start_time": "2023-04-19T00:52:41.844Z"
   },
   {
    "duration": 7,
    "start_time": "2023-04-19T00:52:42.145Z"
   },
   {
    "duration": 318,
    "start_time": "2023-04-19T00:52:42.154Z"
   },
   {
    "duration": 3952,
    "start_time": "2023-04-19T00:52:42.474Z"
   },
   {
    "duration": 31,
    "start_time": "2023-04-19T00:52:46.428Z"
   },
   {
    "duration": 60,
    "start_time": "2023-04-19T00:52:46.470Z"
   },
   {
    "duration": 10,
    "start_time": "2023-04-19T00:52:46.533Z"
   },
   {
    "duration": 28,
    "start_time": "2023-04-19T00:52:46.546Z"
   },
   {
    "duration": 47,
    "start_time": "2023-04-19T00:52:46.576Z"
   },
   {
    "duration": 32,
    "start_time": "2023-04-19T00:52:46.625Z"
   },
   {
    "duration": 34,
    "start_time": "2023-04-19T00:52:46.658Z"
   },
   {
    "duration": 614292,
    "start_time": "2023-04-19T00:52:46.694Z"
   },
   {
    "duration": 9,
    "start_time": "2023-04-19T01:03:00.988Z"
   },
   {
    "duration": 38,
    "start_time": "2023-04-19T01:03:00.998Z"
   },
   {
    "duration": 46,
    "start_time": "2023-04-19T01:03:01.038Z"
   },
   {
    "duration": 279,
    "start_time": "2023-04-19T01:03:01.086Z"
   },
   {
    "duration": 62,
    "start_time": "2023-04-19T01:03:01.367Z"
   },
   {
    "duration": 14,
    "start_time": "2023-04-19T01:03:01.431Z"
   },
   {
    "duration": 28,
    "start_time": "2023-04-19T01:03:01.447Z"
   },
   {
    "duration": 49,
    "start_time": "2023-04-19T01:03:01.478Z"
   },
   {
    "duration": 1665,
    "start_time": "2023-04-19T01:03:01.529Z"
   },
   {
    "duration": 0,
    "start_time": "2023-04-19T01:03:03.196Z"
   },
   {
    "duration": 0,
    "start_time": "2023-04-19T01:03:03.198Z"
   },
   {
    "duration": 0,
    "start_time": "2023-04-19T01:03:03.199Z"
   },
   {
    "duration": 0,
    "start_time": "2023-04-19T01:03:03.201Z"
   },
   {
    "duration": 0,
    "start_time": "2023-04-19T01:03:03.202Z"
   },
   {
    "duration": 0,
    "start_time": "2023-04-19T01:03:03.203Z"
   },
   {
    "duration": 0,
    "start_time": "2023-04-19T01:03:03.204Z"
   },
   {
    "duration": 0,
    "start_time": "2023-04-19T01:03:03.205Z"
   },
   {
    "duration": 0,
    "start_time": "2023-04-19T01:03:03.207Z"
   },
   {
    "duration": 0,
    "start_time": "2023-04-19T01:03:03.208Z"
   },
   {
    "duration": 0,
    "start_time": "2023-04-19T01:03:03.210Z"
   },
   {
    "duration": 0,
    "start_time": "2023-04-19T01:03:03.210Z"
   },
   {
    "duration": 0,
    "start_time": "2023-04-19T01:03:03.212Z"
   },
   {
    "duration": 0,
    "start_time": "2023-04-19T01:03:03.213Z"
   },
   {
    "duration": 0,
    "start_time": "2023-04-19T01:03:03.214Z"
   },
   {
    "duration": 0,
    "start_time": "2023-04-19T01:03:03.215Z"
   },
   {
    "duration": 0,
    "start_time": "2023-04-19T01:03:03.216Z"
   },
   {
    "duration": 0,
    "start_time": "2023-04-19T01:03:03.218Z"
   },
   {
    "duration": 0,
    "start_time": "2023-04-19T01:03:03.219Z"
   },
   {
    "duration": 0,
    "start_time": "2023-04-19T01:03:03.220Z"
   },
   {
    "duration": 0,
    "start_time": "2023-04-19T01:03:03.221Z"
   },
   {
    "duration": 0,
    "start_time": "2023-04-19T01:03:03.223Z"
   },
   {
    "duration": 0,
    "start_time": "2023-04-19T01:03:03.223Z"
   },
   {
    "duration": 0,
    "start_time": "2023-04-19T01:03:03.225Z"
   },
   {
    "duration": 0,
    "start_time": "2023-04-19T01:03:03.226Z"
   },
   {
    "duration": 0,
    "start_time": "2023-04-19T01:03:03.227Z"
   },
   {
    "duration": 0,
    "start_time": "2023-04-19T01:03:03.228Z"
   },
   {
    "duration": 0,
    "start_time": "2023-04-19T01:03:03.229Z"
   },
   {
    "duration": 0,
    "start_time": "2023-04-19T01:03:03.230Z"
   },
   {
    "duration": 0,
    "start_time": "2023-04-19T01:03:03.231Z"
   },
   {
    "duration": 0,
    "start_time": "2023-04-19T01:03:03.232Z"
   },
   {
    "duration": 0,
    "start_time": "2023-04-19T01:03:03.289Z"
   },
   {
    "duration": 0,
    "start_time": "2023-04-19T01:03:03.290Z"
   },
   {
    "duration": 0,
    "start_time": "2023-04-19T01:03:03.292Z"
   },
   {
    "duration": 0,
    "start_time": "2023-04-19T01:03:03.293Z"
   },
   {
    "duration": 0,
    "start_time": "2023-04-19T01:03:03.294Z"
   },
   {
    "duration": 0,
    "start_time": "2023-04-19T01:03:03.295Z"
   },
   {
    "duration": 0,
    "start_time": "2023-04-19T01:03:03.297Z"
   },
   {
    "duration": 0,
    "start_time": "2023-04-19T01:03:03.298Z"
   },
   {
    "duration": 27,
    "start_time": "2023-04-19T01:05:21.223Z"
   },
   {
    "duration": 20,
    "start_time": "2023-04-19T01:06:51.295Z"
   },
   {
    "duration": 7098,
    "start_time": "2023-04-19T01:08:11.103Z"
   },
   {
    "duration": 5483,
    "start_time": "2023-04-19T01:46:26.906Z"
   },
   {
    "duration": 864,
    "start_time": "2023-04-19T01:46:32.391Z"
   },
   {
    "duration": 39,
    "start_time": "2023-04-19T01:46:33.257Z"
   },
   {
    "duration": 265,
    "start_time": "2023-04-19T01:46:33.299Z"
   },
   {
    "duration": 298,
    "start_time": "2023-04-19T01:46:33.566Z"
   },
   {
    "duration": 8,
    "start_time": "2023-04-19T01:46:33.865Z"
   },
   {
    "duration": 319,
    "start_time": "2023-04-19T01:46:33.874Z"
   },
   {
    "duration": 3978,
    "start_time": "2023-04-19T01:46:34.195Z"
   },
   {
    "duration": 30,
    "start_time": "2023-04-19T01:46:38.175Z"
   },
   {
    "duration": 47,
    "start_time": "2023-04-19T01:46:38.215Z"
   },
   {
    "duration": 30,
    "start_time": "2023-04-19T01:46:38.264Z"
   },
   {
    "duration": 7,
    "start_time": "2023-04-19T01:46:38.296Z"
   },
   {
    "duration": 10,
    "start_time": "2023-04-19T01:46:38.305Z"
   },
   {
    "duration": 5,
    "start_time": "2023-04-19T01:46:38.317Z"
   },
   {
    "duration": 7,
    "start_time": "2023-04-19T01:46:38.325Z"
   },
   {
    "duration": 5839,
    "start_time": "2023-04-19T01:49:41.426Z"
   },
   {
    "duration": 856,
    "start_time": "2023-04-19T01:49:47.267Z"
   },
   {
    "duration": 37,
    "start_time": "2023-04-19T01:49:48.126Z"
   },
   {
    "duration": 280,
    "start_time": "2023-04-19T01:49:48.166Z"
   },
   {
    "duration": 286,
    "start_time": "2023-04-19T01:49:48.448Z"
   },
   {
    "duration": 8,
    "start_time": "2023-04-19T01:49:48.736Z"
   },
   {
    "duration": 321,
    "start_time": "2023-04-19T01:49:48.746Z"
   },
   {
    "duration": 4054,
    "start_time": "2023-04-19T01:49:49.069Z"
   },
   {
    "duration": 30,
    "start_time": "2023-04-19T01:49:53.124Z"
   },
   {
    "duration": 64,
    "start_time": "2023-04-19T01:49:53.164Z"
   },
   {
    "duration": 9,
    "start_time": "2023-04-19T01:49:53.230Z"
   },
   {
    "duration": 10,
    "start_time": "2023-04-19T01:49:53.241Z"
   },
   {
    "duration": 4,
    "start_time": "2023-04-19T01:49:53.253Z"
   },
   {
    "duration": 5,
    "start_time": "2023-04-19T01:49:53.259Z"
   },
   {
    "duration": 4,
    "start_time": "2023-04-19T01:49:53.289Z"
   },
   {
    "duration": 5367,
    "start_time": "2023-04-19T01:56:47.389Z"
   },
   {
    "duration": 851,
    "start_time": "2023-04-19T01:56:52.758Z"
   },
   {
    "duration": 34,
    "start_time": "2023-04-19T01:56:53.611Z"
   },
   {
    "duration": 270,
    "start_time": "2023-04-19T01:56:53.647Z"
   },
   {
    "duration": 295,
    "start_time": "2023-04-19T01:56:53.919Z"
   },
   {
    "duration": 7,
    "start_time": "2023-04-19T01:56:54.216Z"
   },
   {
    "duration": 324,
    "start_time": "2023-04-19T01:56:54.224Z"
   },
   {
    "duration": 4011,
    "start_time": "2023-04-19T01:56:54.551Z"
   },
   {
    "duration": 32,
    "start_time": "2023-04-19T01:56:58.564Z"
   },
   {
    "duration": 58,
    "start_time": "2023-04-19T01:56:58.607Z"
   },
   {
    "duration": 30,
    "start_time": "2023-04-19T01:56:58.667Z"
   },
   {
    "duration": 5,
    "start_time": "2023-04-19T01:56:58.699Z"
   },
   {
    "duration": 5,
    "start_time": "2023-04-19T01:56:58.706Z"
   },
   {
    "duration": 4,
    "start_time": "2023-04-19T01:56:58.713Z"
   },
   {
    "duration": 8,
    "start_time": "2023-04-19T01:56:58.719Z"
   },
   {
    "duration": 621700,
    "start_time": "2023-04-19T01:56:58.729Z"
   },
   {
    "duration": 10,
    "start_time": "2023-04-19T02:07:20.430Z"
   },
   {
    "duration": 17,
    "start_time": "2023-04-19T02:07:20.442Z"
   },
   {
    "duration": 4,
    "start_time": "2023-04-19T02:07:20.461Z"
   },
   {
    "duration": 292,
    "start_time": "2023-04-19T02:07:20.466Z"
   },
   {
    "duration": 66,
    "start_time": "2023-04-19T02:07:20.760Z"
   },
   {
    "duration": 11,
    "start_time": "2023-04-19T02:07:20.828Z"
   },
   {
    "duration": 14,
    "start_time": "2023-04-19T02:07:20.841Z"
   },
   {
    "duration": 18,
    "start_time": "2023-04-19T02:07:20.857Z"
   },
   {
    "duration": 8409,
    "start_time": "2023-04-19T02:09:11.209Z"
   },
   {
    "duration": 3317,
    "start_time": "2023-04-19T02:09:19.620Z"
   },
   {
    "duration": 34,
    "start_time": "2023-04-19T02:09:22.939Z"
   },
   {
    "duration": 255,
    "start_time": "2023-04-19T02:09:22.975Z"
   },
   {
    "duration": 291,
    "start_time": "2023-04-19T02:09:23.232Z"
   },
   {
    "duration": 7,
    "start_time": "2023-04-19T02:09:23.525Z"
   },
   {
    "duration": 323,
    "start_time": "2023-04-19T02:09:23.534Z"
   },
   {
    "duration": 3973,
    "start_time": "2023-04-19T02:09:23.859Z"
   },
   {
    "duration": 30,
    "start_time": "2023-04-19T02:09:27.834Z"
   },
   {
    "duration": 60,
    "start_time": "2023-04-19T02:09:27.890Z"
   },
   {
    "duration": 11,
    "start_time": "2023-04-19T02:09:27.952Z"
   },
   {
    "duration": 24,
    "start_time": "2023-04-19T02:09:27.965Z"
   },
   {
    "duration": 17,
    "start_time": "2023-04-19T02:09:27.992Z"
   },
   {
    "duration": 24,
    "start_time": "2023-04-19T02:09:28.012Z"
   },
   {
    "duration": 15,
    "start_time": "2023-04-19T02:09:28.038Z"
   },
   {
    "duration": 631187,
    "start_time": "2023-04-19T02:09:28.055Z"
   },
   {
    "duration": 10,
    "start_time": "2023-04-19T02:19:59.244Z"
   },
   {
    "duration": 31,
    "start_time": "2023-04-19T02:19:59.256Z"
   },
   {
    "duration": 3,
    "start_time": "2023-04-19T02:19:59.289Z"
   },
   {
    "duration": 267,
    "start_time": "2023-04-19T02:19:59.294Z"
   },
   {
    "duration": 63,
    "start_time": "2023-04-19T02:19:59.563Z"
   },
   {
    "duration": 12,
    "start_time": "2023-04-19T02:19:59.628Z"
   },
   {
    "duration": 8,
    "start_time": "2023-04-19T02:19:59.643Z"
   },
   {
    "duration": 29,
    "start_time": "2023-04-19T02:19:59.653Z"
   },
   {
    "duration": 50,
    "start_time": "2023-04-19T02:20:43.430Z"
   },
   {
    "duration": 9026,
    "start_time": "2023-04-19T02:20:59.056Z"
   },
   {
    "duration": 3200,
    "start_time": "2023-04-19T02:21:08.084Z"
   },
   {
    "duration": 37,
    "start_time": "2023-04-19T02:21:11.286Z"
   },
   {
    "duration": 266,
    "start_time": "2023-04-19T02:21:11.326Z"
   },
   {
    "duration": 300,
    "start_time": "2023-04-19T02:21:11.594Z"
   },
   {
    "duration": 7,
    "start_time": "2023-04-19T02:21:11.896Z"
   },
   {
    "duration": 319,
    "start_time": "2023-04-19T02:21:11.905Z"
   },
   {
    "duration": 4044,
    "start_time": "2023-04-19T02:21:12.225Z"
   },
   {
    "duration": 36,
    "start_time": "2023-04-19T02:21:16.270Z"
   },
   {
    "duration": 53,
    "start_time": "2023-04-19T02:21:16.309Z"
   },
   {
    "duration": 25,
    "start_time": "2023-04-19T02:21:16.364Z"
   },
   {
    "duration": 3,
    "start_time": "2023-04-19T02:21:16.391Z"
   },
   {
    "duration": 14,
    "start_time": "2023-04-19T02:21:16.395Z"
   },
   {
    "duration": 24,
    "start_time": "2023-04-19T02:21:16.411Z"
   },
   {
    "duration": 4,
    "start_time": "2023-04-19T02:21:16.813Z"
   },
   {
    "duration": 665021,
    "start_time": "2023-04-19T02:21:21.919Z"
   },
   {
    "duration": 9,
    "start_time": "2023-04-19T02:32:26.942Z"
   },
   {
    "duration": 18,
    "start_time": "2023-04-19T02:32:26.953Z"
   },
   {
    "duration": 3,
    "start_time": "2023-04-19T02:32:26.973Z"
   },
   {
    "duration": 277,
    "start_time": "2023-04-19T02:32:26.978Z"
   },
   {
    "duration": 66,
    "start_time": "2023-04-19T02:32:27.257Z"
   },
   {
    "duration": 14,
    "start_time": "2023-04-19T02:32:27.325Z"
   },
   {
    "duration": 5,
    "start_time": "2023-04-19T02:32:27.342Z"
   },
   {
    "duration": 25,
    "start_time": "2023-04-19T02:32:27.349Z"
   },
   {
    "duration": 68,
    "start_time": "2023-04-19T02:35:48.300Z"
   },
   {
    "duration": 9496,
    "start_time": "2023-04-19T02:35:56.516Z"
   },
   {
    "duration": 3201,
    "start_time": "2023-04-19T02:36:06.014Z"
   },
   {
    "duration": 34,
    "start_time": "2023-04-19T02:36:09.217Z"
   },
   {
    "duration": 260,
    "start_time": "2023-04-19T02:36:09.253Z"
   },
   {
    "duration": 282,
    "start_time": "2023-04-19T02:36:09.515Z"
   },
   {
    "duration": 10,
    "start_time": "2023-04-19T02:36:09.799Z"
   },
   {
    "duration": 313,
    "start_time": "2023-04-19T02:36:09.811Z"
   },
   {
    "duration": 4124,
    "start_time": "2023-04-19T02:36:10.126Z"
   },
   {
    "duration": 38,
    "start_time": "2023-04-19T02:36:14.251Z"
   },
   {
    "duration": 46,
    "start_time": "2023-04-19T02:36:14.299Z"
   },
   {
    "duration": 8,
    "start_time": "2023-04-19T02:36:14.347Z"
   },
   {
    "duration": 33,
    "start_time": "2023-04-19T02:36:14.357Z"
   },
   {
    "duration": 9,
    "start_time": "2023-04-19T02:36:14.393Z"
   },
   {
    "duration": 6,
    "start_time": "2023-04-19T02:36:14.404Z"
   },
   {
    "duration": 25,
    "start_time": "2023-04-19T02:36:14.413Z"
   },
   {
    "duration": 5233,
    "start_time": "2023-04-19T02:36:38.595Z"
   },
   {
    "duration": 849,
    "start_time": "2023-04-19T02:36:43.831Z"
   },
   {
    "duration": 35,
    "start_time": "2023-04-19T02:36:44.682Z"
   },
   {
    "duration": 265,
    "start_time": "2023-04-19T02:36:44.720Z"
   },
   {
    "duration": 301,
    "start_time": "2023-04-19T02:36:44.989Z"
   },
   {
    "duration": 8,
    "start_time": "2023-04-19T02:36:45.292Z"
   },
   {
    "duration": 328,
    "start_time": "2023-04-19T02:36:45.302Z"
   },
   {
    "duration": 3933,
    "start_time": "2023-04-19T02:36:45.632Z"
   },
   {
    "duration": 31,
    "start_time": "2023-04-19T02:36:49.567Z"
   },
   {
    "duration": 51,
    "start_time": "2023-04-19T02:36:49.608Z"
   },
   {
    "duration": 31,
    "start_time": "2023-04-19T02:36:49.661Z"
   },
   {
    "duration": 19,
    "start_time": "2023-04-19T02:36:49.694Z"
   },
   {
    "duration": 8,
    "start_time": "2023-04-19T02:36:49.715Z"
   },
   {
    "duration": 9,
    "start_time": "2023-04-19T02:36:49.725Z"
   },
   {
    "duration": 11,
    "start_time": "2023-04-19T02:36:49.735Z"
   },
   {
    "duration": 612213,
    "start_time": "2023-04-19T02:36:49.747Z"
   },
   {
    "duration": 9,
    "start_time": "2023-04-19T02:47:01.962Z"
   },
   {
    "duration": 19,
    "start_time": "2023-04-19T02:47:01.973Z"
   },
   {
    "duration": 15,
    "start_time": "2023-04-19T02:47:01.994Z"
   },
   {
    "duration": 288,
    "start_time": "2023-04-19T02:47:02.011Z"
   },
   {
    "duration": 54,
    "start_time": "2023-04-19T02:47:02.301Z"
   },
   {
    "duration": 12,
    "start_time": "2023-04-19T02:47:02.357Z"
   },
   {
    "duration": 21,
    "start_time": "2023-04-19T02:47:02.371Z"
   },
   {
    "duration": 13,
    "start_time": "2023-04-19T02:47:02.393Z"
   },
   {
    "duration": 1325,
    "start_time": "2023-04-19T02:47:02.408Z"
   },
   {
    "duration": 2,
    "start_time": "2023-04-19T02:47:03.735Z"
   },
   {
    "duration": 8,
    "start_time": "2023-04-19T02:47:03.739Z"
   },
   {
    "duration": 3,
    "start_time": "2023-04-19T02:47:03.751Z"
   },
   {
    "duration": 18,
    "start_time": "2023-04-19T02:47:03.755Z"
   },
   {
    "duration": 335,
    "start_time": "2023-04-19T02:47:03.775Z"
   },
   {
    "duration": 0,
    "start_time": "2023-04-19T02:47:04.112Z"
   },
   {
    "duration": 0,
    "start_time": "2023-04-19T02:47:04.113Z"
   },
   {
    "duration": 0,
    "start_time": "2023-04-19T02:47:04.114Z"
   },
   {
    "duration": 0,
    "start_time": "2023-04-19T02:47:04.115Z"
   },
   {
    "duration": 0,
    "start_time": "2023-04-19T02:47:04.116Z"
   },
   {
    "duration": 0,
    "start_time": "2023-04-19T02:47:04.118Z"
   },
   {
    "duration": 0,
    "start_time": "2023-04-19T02:47:04.119Z"
   },
   {
    "duration": 0,
    "start_time": "2023-04-19T02:47:04.119Z"
   },
   {
    "duration": 0,
    "start_time": "2023-04-19T02:47:04.120Z"
   },
   {
    "duration": 0,
    "start_time": "2023-04-19T02:47:04.121Z"
   },
   {
    "duration": 0,
    "start_time": "2023-04-19T02:47:04.123Z"
   },
   {
    "duration": 0,
    "start_time": "2023-04-19T02:47:04.123Z"
   },
   {
    "duration": 0,
    "start_time": "2023-04-19T02:47:04.125Z"
   },
   {
    "duration": 0,
    "start_time": "2023-04-19T02:47:04.126Z"
   },
   {
    "duration": 0,
    "start_time": "2023-04-19T02:47:04.127Z"
   },
   {
    "duration": 0,
    "start_time": "2023-04-19T02:47:04.128Z"
   },
   {
    "duration": 0,
    "start_time": "2023-04-19T02:47:04.129Z"
   },
   {
    "duration": 0,
    "start_time": "2023-04-19T02:47:04.130Z"
   },
   {
    "duration": 0,
    "start_time": "2023-04-19T02:47:04.131Z"
   },
   {
    "duration": 0,
    "start_time": "2023-04-19T02:47:04.132Z"
   },
   {
    "duration": 0,
    "start_time": "2023-04-19T02:47:04.133Z"
   },
   {
    "duration": 0,
    "start_time": "2023-04-19T02:47:04.134Z"
   },
   {
    "duration": 0,
    "start_time": "2023-04-19T02:47:04.135Z"
   },
   {
    "duration": 0,
    "start_time": "2023-04-19T02:47:04.136Z"
   },
   {
    "duration": 0,
    "start_time": "2023-04-19T02:47:04.138Z"
   },
   {
    "duration": 0,
    "start_time": "2023-04-19T02:47:04.139Z"
   },
   {
    "duration": 0,
    "start_time": "2023-04-19T02:47:04.140Z"
   },
   {
    "duration": 0,
    "start_time": "2023-04-19T02:47:04.142Z"
   },
   {
    "duration": 0,
    "start_time": "2023-04-19T02:47:04.143Z"
   },
   {
    "duration": 0,
    "start_time": "2023-04-19T02:47:04.189Z"
   },
   {
    "duration": 0,
    "start_time": "2023-04-19T02:47:04.191Z"
   },
   {
    "duration": 0,
    "start_time": "2023-04-19T02:47:04.193Z"
   },
   {
    "duration": 0,
    "start_time": "2023-04-19T02:47:04.194Z"
   },
   {
    "duration": 0,
    "start_time": "2023-04-19T02:47:04.196Z"
   },
   {
    "duration": 1688,
    "start_time": "2023-04-19T02:50:38.812Z"
   },
   {
    "duration": 2,
    "start_time": "2023-04-19T02:50:45.494Z"
   },
   {
    "duration": 22,
    "start_time": "2023-04-19T02:50:49.604Z"
   },
   {
    "duration": 5315,
    "start_time": "2023-04-19T02:52:30.513Z"
   },
   {
    "duration": 857,
    "start_time": "2023-04-19T02:52:35.830Z"
   },
   {
    "duration": 35,
    "start_time": "2023-04-19T02:52:36.689Z"
   },
   {
    "duration": 273,
    "start_time": "2023-04-19T02:52:36.727Z"
   },
   {
    "duration": 294,
    "start_time": "2023-04-19T02:52:37.002Z"
   },
   {
    "duration": 7,
    "start_time": "2023-04-19T02:52:37.298Z"
   },
   {
    "duration": 315,
    "start_time": "2023-04-19T02:52:37.307Z"
   },
   {
    "duration": 4133,
    "start_time": "2023-04-19T02:52:37.624Z"
   },
   {
    "duration": 35,
    "start_time": "2023-04-19T02:52:41.759Z"
   },
   {
    "duration": 91,
    "start_time": "2023-04-19T02:52:41.804Z"
   },
   {
    "duration": 11,
    "start_time": "2023-04-19T02:52:41.897Z"
   },
   {
    "duration": 14,
    "start_time": "2023-04-19T02:52:41.910Z"
   },
   {
    "duration": 8,
    "start_time": "2023-04-19T02:52:41.925Z"
   },
   {
    "duration": 5,
    "start_time": "2023-04-19T02:52:41.935Z"
   },
   {
    "duration": 10,
    "start_time": "2023-04-19T02:52:41.941Z"
   },
   {
    "duration": 1987344,
    "start_time": "2023-04-19T02:52:41.953Z"
   },
   {
    "duration": 10,
    "start_time": "2023-04-19T03:25:49.299Z"
   },
   {
    "duration": 13,
    "start_time": "2023-04-19T03:25:49.311Z"
   },
   {
    "duration": 3,
    "start_time": "2023-04-19T03:25:49.326Z"
   },
   {
    "duration": 1232,
    "start_time": "2023-04-19T03:25:49.330Z"
   },
   {
    "duration": 177,
    "start_time": "2023-04-19T03:25:50.566Z"
   },
   {
    "duration": 13,
    "start_time": "2023-04-19T03:25:50.745Z"
   },
   {
    "duration": 20,
    "start_time": "2023-04-19T03:25:50.760Z"
   },
   {
    "duration": 15,
    "start_time": "2023-04-19T03:25:50.782Z"
   },
   {
    "duration": 5351,
    "start_time": "2023-04-19T03:25:50.799Z"
   },
   {
    "duration": 3,
    "start_time": "2023-04-19T03:25:56.152Z"
   },
   {
    "duration": 18,
    "start_time": "2023-04-19T03:25:56.157Z"
   },
   {
    "duration": 16,
    "start_time": "2023-04-19T03:25:56.179Z"
   },
   {
    "duration": 26,
    "start_time": "2023-04-19T03:25:56.197Z"
   },
   {
    "duration": 35,
    "start_time": "2023-04-19T03:25:56.225Z"
   },
   {
    "duration": 493,
    "start_time": "2023-04-19T03:25:56.263Z"
   },
   {
    "duration": 0,
    "start_time": "2023-04-19T03:25:56.757Z"
   },
   {
    "duration": 0,
    "start_time": "2023-04-19T03:25:56.759Z"
   },
   {
    "duration": 0,
    "start_time": "2023-04-19T03:25:56.761Z"
   },
   {
    "duration": 0,
    "start_time": "2023-04-19T03:25:56.762Z"
   },
   {
    "duration": 0,
    "start_time": "2023-04-19T03:25:56.763Z"
   },
   {
    "duration": 0,
    "start_time": "2023-04-19T03:25:56.764Z"
   },
   {
    "duration": 0,
    "start_time": "2023-04-19T03:25:56.766Z"
   },
   {
    "duration": 0,
    "start_time": "2023-04-19T03:25:56.767Z"
   },
   {
    "duration": 0,
    "start_time": "2023-04-19T03:25:56.790Z"
   },
   {
    "duration": 0,
    "start_time": "2023-04-19T03:25:56.792Z"
   },
   {
    "duration": 0,
    "start_time": "2023-04-19T03:25:56.793Z"
   },
   {
    "duration": 0,
    "start_time": "2023-04-19T03:25:56.794Z"
   },
   {
    "duration": 0,
    "start_time": "2023-04-19T03:25:56.796Z"
   },
   {
    "duration": 0,
    "start_time": "2023-04-19T03:25:56.797Z"
   },
   {
    "duration": 0,
    "start_time": "2023-04-19T03:25:56.798Z"
   },
   {
    "duration": 1,
    "start_time": "2023-04-19T03:25:56.798Z"
   },
   {
    "duration": 0,
    "start_time": "2023-04-19T03:25:56.799Z"
   },
   {
    "duration": 0,
    "start_time": "2023-04-19T03:25:56.801Z"
   },
   {
    "duration": 0,
    "start_time": "2023-04-19T03:25:56.802Z"
   },
   {
    "duration": 0,
    "start_time": "2023-04-19T03:25:56.803Z"
   },
   {
    "duration": 0,
    "start_time": "2023-04-19T03:25:56.804Z"
   },
   {
    "duration": 0,
    "start_time": "2023-04-19T03:25:56.805Z"
   },
   {
    "duration": 0,
    "start_time": "2023-04-19T03:25:56.807Z"
   },
   {
    "duration": 0,
    "start_time": "2023-04-19T03:25:56.808Z"
   },
   {
    "duration": 0,
    "start_time": "2023-04-19T03:25:56.809Z"
   },
   {
    "duration": 0,
    "start_time": "2023-04-19T03:25:56.811Z"
   },
   {
    "duration": 0,
    "start_time": "2023-04-19T03:25:56.812Z"
   },
   {
    "duration": 0,
    "start_time": "2023-04-19T03:25:56.814Z"
   },
   {
    "duration": 0,
    "start_time": "2023-04-19T03:25:56.815Z"
   },
   {
    "duration": 0,
    "start_time": "2023-04-19T03:25:56.816Z"
   },
   {
    "duration": 0,
    "start_time": "2023-04-19T03:25:56.818Z"
   },
   {
    "duration": 0,
    "start_time": "2023-04-19T03:25:56.819Z"
   },
   {
    "duration": 0,
    "start_time": "2023-04-19T03:25:56.821Z"
   },
   {
    "duration": 6033,
    "start_time": "2023-04-19T03:29:52.806Z"
   },
   {
    "duration": 945,
    "start_time": "2023-04-19T03:29:58.841Z"
   },
   {
    "duration": 43,
    "start_time": "2023-04-19T03:29:59.788Z"
   },
   {
    "duration": 298,
    "start_time": "2023-04-19T03:29:59.834Z"
   },
   {
    "duration": 402,
    "start_time": "2023-04-19T03:30:00.134Z"
   },
   {
    "duration": 13,
    "start_time": "2023-04-19T03:30:00.539Z"
   },
   {
    "duration": 463,
    "start_time": "2023-04-19T03:30:00.556Z"
   },
   {
    "duration": 4621,
    "start_time": "2023-04-19T03:30:01.021Z"
   },
   {
    "duration": 31,
    "start_time": "2023-04-19T03:30:05.645Z"
   },
   {
    "duration": 94,
    "start_time": "2023-04-19T03:30:05.702Z"
   },
   {
    "duration": 10,
    "start_time": "2023-04-19T03:30:05.798Z"
   },
   {
    "duration": 5,
    "start_time": "2023-04-19T03:30:05.810Z"
   },
   {
    "duration": 8,
    "start_time": "2023-04-19T03:30:05.818Z"
   },
   {
    "duration": 29,
    "start_time": "2023-04-19T03:30:05.828Z"
   },
   {
    "duration": 15,
    "start_time": "2023-04-19T03:30:05.859Z"
   },
   {
    "duration": 2605172,
    "start_time": "2023-04-19T03:30:05.876Z"
   },
   {
    "duration": 10,
    "start_time": "2023-04-19T04:13:31.050Z"
   },
   {
    "duration": 49,
    "start_time": "2023-04-19T04:13:31.062Z"
   },
   {
    "duration": 39,
    "start_time": "2023-04-19T04:13:31.113Z"
   },
   {
    "duration": 1333,
    "start_time": "2023-04-19T04:13:31.154Z"
   },
   {
    "duration": 202,
    "start_time": "2023-04-19T04:13:32.490Z"
   },
   {
    "duration": 18,
    "start_time": "2023-04-19T04:13:32.695Z"
   },
   {
    "duration": 23,
    "start_time": "2023-04-19T04:13:32.715Z"
   },
   {
    "duration": 27,
    "start_time": "2023-04-19T04:13:32.739Z"
   },
   {
    "duration": 20601,
    "start_time": "2023-04-19T07:37:04.661Z"
   },
   {
    "duration": 3855,
    "start_time": "2023-04-19T07:37:25.265Z"
   },
   {
    "duration": 37,
    "start_time": "2023-04-19T07:37:29.122Z"
   },
   {
    "duration": 268,
    "start_time": "2023-04-19T07:37:29.162Z"
   },
   {
    "duration": 304,
    "start_time": "2023-04-19T07:37:29.432Z"
   },
   {
    "duration": 13,
    "start_time": "2023-04-19T07:37:29.738Z"
   },
   {
    "duration": 352,
    "start_time": "2023-04-19T07:37:29.754Z"
   },
   {
    "duration": 5352,
    "start_time": "2023-04-19T07:37:30.107Z"
   },
   {
    "duration": 38,
    "start_time": "2023-04-19T07:37:35.461Z"
   },
   {
    "duration": 132,
    "start_time": "2023-04-19T07:37:35.518Z"
   },
   {
    "duration": 22,
    "start_time": "2023-04-19T07:37:35.652Z"
   },
   {
    "duration": 22,
    "start_time": "2023-04-19T07:37:35.676Z"
   },
   {
    "duration": 19,
    "start_time": "2023-04-19T07:37:35.700Z"
   },
   {
    "duration": 8,
    "start_time": "2023-04-19T07:37:35.722Z"
   },
   {
    "duration": 22,
    "start_time": "2023-04-19T07:37:35.732Z"
   },
   {
    "duration": 2611647,
    "start_time": "2023-04-19T07:37:35.756Z"
   },
   {
    "duration": 13,
    "start_time": "2023-04-19T08:21:07.410Z"
   },
   {
    "duration": 10,
    "start_time": "2023-04-19T08:21:07.426Z"
   },
   {
    "duration": 20,
    "start_time": "2023-04-19T08:21:07.438Z"
   },
   {
    "duration": 1395,
    "start_time": "2023-04-19T08:21:07.460Z"
   },
   {
    "duration": 240,
    "start_time": "2023-04-19T08:21:08.857Z"
   },
   {
    "duration": 24,
    "start_time": "2023-04-19T08:21:09.100Z"
   },
   {
    "duration": 5,
    "start_time": "2023-04-19T08:21:09.128Z"
   },
   {
    "duration": 16,
    "start_time": "2023-04-19T08:21:09.134Z"
   },
   {
    "duration": 61,
    "start_time": "2023-04-19T08:58:49.818Z"
   },
   {
    "duration": 12126,
    "start_time": "2023-04-19T08:59:04.535Z"
   },
   {
    "duration": 4793,
    "start_time": "2023-04-19T08:59:16.665Z"
   },
   {
    "duration": 37,
    "start_time": "2023-04-19T08:59:21.461Z"
   },
   {
    "duration": 285,
    "start_time": "2023-04-19T08:59:21.501Z"
   },
   {
    "duration": 390,
    "start_time": "2023-04-19T08:59:21.788Z"
   },
   {
    "duration": 28,
    "start_time": "2023-04-19T08:59:22.180Z"
   },
   {
    "duration": 399,
    "start_time": "2023-04-19T08:59:22.212Z"
   },
   {
    "duration": 5432,
    "start_time": "2023-04-19T08:59:22.618Z"
   },
   {
    "duration": 33,
    "start_time": "2023-04-19T08:59:28.052Z"
   },
   {
    "duration": 87,
    "start_time": "2023-04-19T08:59:28.091Z"
   },
   {
    "duration": 26,
    "start_time": "2023-04-19T08:59:28.180Z"
   },
   {
    "duration": 14,
    "start_time": "2023-04-19T08:59:28.208Z"
   },
   {
    "duration": 6,
    "start_time": "2023-04-19T08:59:28.227Z"
   },
   {
    "duration": 19,
    "start_time": "2023-04-19T08:59:28.236Z"
   },
   {
    "duration": 24,
    "start_time": "2023-04-19T08:59:28.257Z"
   },
   {
    "duration": 2533852,
    "start_time": "2023-04-19T08:59:28.294Z"
   },
   {
    "duration": 10,
    "start_time": "2023-04-19T09:41:42.148Z"
   },
   {
    "duration": 21,
    "start_time": "2023-04-19T09:41:42.161Z"
   },
   {
    "duration": 4,
    "start_time": "2023-04-19T09:41:42.195Z"
   },
   {
    "duration": 1442,
    "start_time": "2023-04-19T09:41:42.203Z"
   },
   {
    "duration": 236,
    "start_time": "2023-04-19T09:41:43.648Z"
   },
   {
    "duration": 31,
    "start_time": "2023-04-19T09:41:43.887Z"
   },
   {
    "duration": 14,
    "start_time": "2023-04-19T09:41:43.920Z"
   },
   {
    "duration": 26,
    "start_time": "2023-04-19T09:41:43.936Z"
   },
   {
    "duration": 587,
    "start_time": "2023-04-19T09:46:24.355Z"
   },
   {
    "duration": 74,
    "start_time": "2023-04-19T09:47:52.479Z"
   },
   {
    "duration": 16781,
    "start_time": "2023-04-19T09:48:08.537Z"
   },
   {
    "duration": 3422,
    "start_time": "2023-04-19T09:48:25.320Z"
   },
   {
    "duration": 35,
    "start_time": "2023-04-19T09:48:28.744Z"
   },
   {
    "duration": 296,
    "start_time": "2023-04-19T09:48:28.781Z"
   },
   {
    "duration": 296,
    "start_time": "2023-04-19T09:48:29.078Z"
   },
   {
    "duration": 22,
    "start_time": "2023-04-19T09:48:29.376Z"
   },
   {
    "duration": 323,
    "start_time": "2023-04-19T09:48:29.406Z"
   },
   {
    "duration": 4608,
    "start_time": "2023-04-19T09:48:29.730Z"
   },
   {
    "duration": 31,
    "start_time": "2023-04-19T09:48:34.340Z"
   },
   {
    "duration": 97,
    "start_time": "2023-04-19T09:48:34.396Z"
   },
   {
    "duration": 11,
    "start_time": "2023-04-19T09:48:34.499Z"
   },
   {
    "duration": 18,
    "start_time": "2023-04-19T09:48:34.512Z"
   },
   {
    "duration": 34,
    "start_time": "2023-04-19T09:48:34.532Z"
   },
   {
    "duration": 20,
    "start_time": "2023-04-19T09:48:34.568Z"
   },
   {
    "duration": 10,
    "start_time": "2023-04-19T09:48:34.594Z"
   },
   {
    "duration": 2199965,
    "start_time": "2023-04-19T09:48:34.607Z"
   },
   {
    "duration": 10,
    "start_time": "2023-04-19T10:25:14.573Z"
   },
   {
    "duration": 15,
    "start_time": "2023-04-19T10:25:14.596Z"
   },
   {
    "duration": 17,
    "start_time": "2023-04-19T10:25:14.613Z"
   },
   {
    "duration": 1176,
    "start_time": "2023-04-19T10:25:14.632Z"
   },
   {
    "duration": 192,
    "start_time": "2023-04-19T10:25:15.809Z"
   },
   {
    "duration": 14,
    "start_time": "2023-04-19T10:25:16.003Z"
   },
   {
    "duration": 18,
    "start_time": "2023-04-19T10:25:16.019Z"
   },
   {
    "duration": 26,
    "start_time": "2023-04-19T10:25:16.039Z"
   },
   {
    "duration": 35,
    "start_time": "2023-04-19T10:25:16.067Z"
   },
   {
    "duration": 6,
    "start_time": "2023-04-19T10:25:16.104Z"
   },
   {
    "duration": 17,
    "start_time": "2023-04-19T10:25:16.112Z"
   },
   {
    "duration": 3,
    "start_time": "2023-04-19T10:25:16.133Z"
   },
   {
    "duration": 365,
    "start_time": "2023-04-19T10:25:16.137Z"
   },
   {
    "duration": 0,
    "start_time": "2023-04-19T10:25:16.504Z"
   },
   {
    "duration": 0,
    "start_time": "2023-04-19T10:25:16.506Z"
   },
   {
    "duration": 0,
    "start_time": "2023-04-19T10:25:16.507Z"
   },
   {
    "duration": 0,
    "start_time": "2023-04-19T10:25:16.509Z"
   },
   {
    "duration": 0,
    "start_time": "2023-04-19T10:25:16.510Z"
   },
   {
    "duration": 0,
    "start_time": "2023-04-19T10:25:16.511Z"
   },
   {
    "duration": 0,
    "start_time": "2023-04-19T10:25:16.512Z"
   },
   {
    "duration": 0,
    "start_time": "2023-04-19T10:25:16.513Z"
   },
   {
    "duration": 0,
    "start_time": "2023-04-19T10:25:16.514Z"
   },
   {
    "duration": 0,
    "start_time": "2023-04-19T10:25:16.515Z"
   },
   {
    "duration": 0,
    "start_time": "2023-04-19T10:25:16.516Z"
   },
   {
    "duration": 0,
    "start_time": "2023-04-19T10:25:16.517Z"
   },
   {
    "duration": 0,
    "start_time": "2023-04-19T10:25:16.519Z"
   },
   {
    "duration": 0,
    "start_time": "2023-04-19T10:25:16.520Z"
   },
   {
    "duration": 1,
    "start_time": "2023-04-19T10:25:16.520Z"
   },
   {
    "duration": 0,
    "start_time": "2023-04-19T10:25:16.522Z"
   },
   {
    "duration": 0,
    "start_time": "2023-04-19T10:25:16.524Z"
   },
   {
    "duration": 0,
    "start_time": "2023-04-19T10:25:16.525Z"
   },
   {
    "duration": 0,
    "start_time": "2023-04-19T10:25:16.526Z"
   },
   {
    "duration": 0,
    "start_time": "2023-04-19T10:25:16.527Z"
   },
   {
    "duration": 0,
    "start_time": "2023-04-19T10:25:16.528Z"
   },
   {
    "duration": 0,
    "start_time": "2023-04-19T10:25:16.529Z"
   },
   {
    "duration": 0,
    "start_time": "2023-04-19T10:25:16.530Z"
   },
   {
    "duration": 0,
    "start_time": "2023-04-19T10:25:16.532Z"
   },
   {
    "duration": 0,
    "start_time": "2023-04-19T10:25:16.533Z"
   },
   {
    "duration": 0,
    "start_time": "2023-04-19T10:25:16.534Z"
   },
   {
    "duration": 0,
    "start_time": "2023-04-19T10:25:16.535Z"
   },
   {
    "duration": 0,
    "start_time": "2023-04-19T10:25:16.536Z"
   },
   {
    "duration": 0,
    "start_time": "2023-04-19T10:25:16.537Z"
   },
   {
    "duration": 0,
    "start_time": "2023-04-19T10:25:16.538Z"
   },
   {
    "duration": 0,
    "start_time": "2023-04-19T10:25:16.539Z"
   },
   {
    "duration": 0,
    "start_time": "2023-04-19T10:25:16.593Z"
   },
   {
    "duration": 0,
    "start_time": "2023-04-19T10:25:16.594Z"
   },
   {
    "duration": 0,
    "start_time": "2023-04-19T10:25:16.595Z"
   },
   {
    "duration": 0,
    "start_time": "2023-04-19T10:25:16.596Z"
   },
   {
    "duration": 3,
    "start_time": "2023-04-19T10:26:16.843Z"
   },
   {
    "duration": 26,
    "start_time": "2023-04-19T10:26:18.537Z"
   },
   {
    "duration": 14379,
    "start_time": "2023-04-19T10:48:04.375Z"
   },
   {
    "duration": 3354,
    "start_time": "2023-04-19T10:48:18.756Z"
   },
   {
    "duration": 36,
    "start_time": "2023-04-19T10:48:22.112Z"
   },
   {
    "duration": 260,
    "start_time": "2023-04-19T10:48:22.151Z"
   },
   {
    "duration": 326,
    "start_time": "2023-04-19T10:48:22.413Z"
   },
   {
    "duration": 8,
    "start_time": "2023-04-19T10:48:22.741Z"
   },
   {
    "duration": 338,
    "start_time": "2023-04-19T10:48:22.751Z"
   },
   {
    "duration": 4002,
    "start_time": "2023-04-19T10:48:23.091Z"
   },
   {
    "duration": 39,
    "start_time": "2023-04-19T10:48:27.095Z"
   },
   {
    "duration": 100,
    "start_time": "2023-04-19T10:48:27.145Z"
   },
   {
    "duration": 9,
    "start_time": "2023-04-19T10:48:27.247Z"
   },
   {
    "duration": 19,
    "start_time": "2023-04-19T10:48:27.258Z"
   },
   {
    "duration": 14,
    "start_time": "2023-04-19T10:48:27.279Z"
   },
   {
    "duration": 6,
    "start_time": "2023-04-19T10:48:27.295Z"
   },
   {
    "duration": 9,
    "start_time": "2023-04-19T10:48:27.303Z"
   },
   {
    "duration": 5480,
    "start_time": "2023-04-19T10:49:06.622Z"
   },
   {
    "duration": 876,
    "start_time": "2023-04-19T10:49:12.105Z"
   },
   {
    "duration": 37,
    "start_time": "2023-04-19T10:49:12.982Z"
   },
   {
    "duration": 268,
    "start_time": "2023-04-19T10:49:13.022Z"
   },
   {
    "duration": 289,
    "start_time": "2023-04-19T10:49:13.292Z"
   },
   {
    "duration": 11,
    "start_time": "2023-04-19T10:49:13.583Z"
   },
   {
    "duration": 324,
    "start_time": "2023-04-19T10:49:13.596Z"
   },
   {
    "duration": 4011,
    "start_time": "2023-04-19T10:49:13.922Z"
   },
   {
    "duration": 32,
    "start_time": "2023-04-19T10:49:17.935Z"
   },
   {
    "duration": 49,
    "start_time": "2023-04-19T10:49:17.989Z"
   },
   {
    "duration": 8,
    "start_time": "2023-04-19T10:49:18.040Z"
   },
   {
    "duration": 6,
    "start_time": "2023-04-19T10:49:18.050Z"
   },
   {
    "duration": 4,
    "start_time": "2023-04-19T10:49:18.058Z"
   },
   {
    "duration": 5,
    "start_time": "2023-04-19T10:49:18.088Z"
   },
   {
    "duration": 13,
    "start_time": "2023-04-19T10:49:18.094Z"
   },
   {
    "duration": 635964,
    "start_time": "2023-04-19T10:49:18.109Z"
   },
   {
    "duration": 9,
    "start_time": "2023-04-19T10:59:54.075Z"
   },
   {
    "duration": 21,
    "start_time": "2023-04-19T10:59:54.090Z"
   },
   {
    "duration": 3,
    "start_time": "2023-04-19T10:59:54.113Z"
   },
   {
    "duration": 291,
    "start_time": "2023-04-19T10:59:54.118Z"
   },
   {
    "duration": 57,
    "start_time": "2023-04-19T10:59:54.410Z"
   },
   {
    "duration": 25,
    "start_time": "2023-04-19T10:59:54.469Z"
   },
   {
    "duration": 22,
    "start_time": "2023-04-19T10:59:54.496Z"
   },
   {
    "duration": 25,
    "start_time": "2023-04-19T10:59:54.520Z"
   },
   {
    "duration": 19420,
    "start_time": "2023-04-19T10:59:54.547Z"
   },
   {
    "duration": 0,
    "start_time": "2023-04-19T11:00:13.971Z"
   },
   {
    "duration": 0,
    "start_time": "2023-04-19T11:00:13.972Z"
   },
   {
    "duration": 0,
    "start_time": "2023-04-19T11:00:13.974Z"
   },
   {
    "duration": 0,
    "start_time": "2023-04-19T11:00:13.976Z"
   },
   {
    "duration": 0,
    "start_time": "2023-04-19T11:00:13.990Z"
   },
   {
    "duration": 0,
    "start_time": "2023-04-19T11:00:13.992Z"
   },
   {
    "duration": 0,
    "start_time": "2023-04-19T11:00:13.993Z"
   },
   {
    "duration": 0,
    "start_time": "2023-04-19T11:00:13.995Z"
   },
   {
    "duration": 0,
    "start_time": "2023-04-19T11:00:13.996Z"
   },
   {
    "duration": 0,
    "start_time": "2023-04-19T11:00:13.997Z"
   },
   {
    "duration": 0,
    "start_time": "2023-04-19T11:00:13.998Z"
   },
   {
    "duration": 0,
    "start_time": "2023-04-19T11:00:13.999Z"
   },
   {
    "duration": 0,
    "start_time": "2023-04-19T11:00:14.001Z"
   },
   {
    "duration": 0,
    "start_time": "2023-04-19T11:00:14.002Z"
   },
   {
    "duration": 0,
    "start_time": "2023-04-19T11:00:14.003Z"
   },
   {
    "duration": 0,
    "start_time": "2023-04-19T11:00:14.004Z"
   },
   {
    "duration": 0,
    "start_time": "2023-04-19T11:00:14.005Z"
   },
   {
    "duration": 0,
    "start_time": "2023-04-19T11:00:14.007Z"
   },
   {
    "duration": 0,
    "start_time": "2023-04-19T11:00:14.008Z"
   },
   {
    "duration": 1,
    "start_time": "2023-04-19T11:00:14.009Z"
   },
   {
    "duration": 0,
    "start_time": "2023-04-19T11:00:14.011Z"
   },
   {
    "duration": 0,
    "start_time": "2023-04-19T11:00:14.012Z"
   },
   {
    "duration": 0,
    "start_time": "2023-04-19T11:00:14.013Z"
   },
   {
    "duration": 0,
    "start_time": "2023-04-19T11:00:14.014Z"
   },
   {
    "duration": 0,
    "start_time": "2023-04-19T11:00:14.016Z"
   },
   {
    "duration": 0,
    "start_time": "2023-04-19T11:00:14.017Z"
   },
   {
    "duration": 0,
    "start_time": "2023-04-19T11:00:14.018Z"
   },
   {
    "duration": 0,
    "start_time": "2023-04-19T11:00:14.019Z"
   },
   {
    "duration": 0,
    "start_time": "2023-04-19T11:00:14.020Z"
   },
   {
    "duration": 0,
    "start_time": "2023-04-19T11:00:14.021Z"
   },
   {
    "duration": 0,
    "start_time": "2023-04-19T11:00:14.022Z"
   },
   {
    "duration": 0,
    "start_time": "2023-04-19T11:00:14.023Z"
   },
   {
    "duration": 0,
    "start_time": "2023-04-19T11:00:14.024Z"
   },
   {
    "duration": 0,
    "start_time": "2023-04-19T11:00:14.025Z"
   },
   {
    "duration": 0,
    "start_time": "2023-04-19T11:00:14.026Z"
   },
   {
    "duration": 0,
    "start_time": "2023-04-19T11:00:14.089Z"
   },
   {
    "duration": 0,
    "start_time": "2023-04-19T11:00:14.091Z"
   },
   {
    "duration": 0,
    "start_time": "2023-04-19T11:00:14.092Z"
   },
   {
    "duration": 0,
    "start_time": "2023-04-19T11:00:14.093Z"
   },
   {
    "duration": 19054,
    "start_time": "2023-04-19T11:00:35.415Z"
   },
   {
    "duration": 3,
    "start_time": "2023-04-19T11:00:54.471Z"
   },
   {
    "duration": 38,
    "start_time": "2023-04-19T11:00:54.476Z"
   },
   {
    "duration": 3242,
    "start_time": "2023-04-19T11:03:06.065Z"
   },
   {
    "duration": 5,
    "start_time": "2023-04-19T11:03:16.425Z"
   },
   {
    "duration": 3,
    "start_time": "2023-04-19T11:04:01.186Z"
   },
   {
    "duration": 4,
    "start_time": "2023-04-19T11:04:02.503Z"
   },
   {
    "duration": 49,
    "start_time": "2023-04-19T11:05:37.784Z"
   },
   {
    "duration": 3,
    "start_time": "2023-04-19T11:06:39.084Z"
   },
   {
    "duration": 31,
    "start_time": "2023-04-19T11:06:45.301Z"
   },
   {
    "duration": 20497,
    "start_time": "2023-04-19T11:07:32.501Z"
   },
   {
    "duration": 705882,
    "start_time": "2023-04-19T11:08:39.725Z"
   },
   {
    "duration": 29875,
    "start_time": "2023-04-19T11:20:25.609Z"
   },
   {
    "duration": 36269,
    "start_time": "2023-04-19T11:20:55.490Z"
   },
   {
    "duration": 5648,
    "start_time": "2023-04-19T11:24:14.694Z"
   },
   {
    "duration": 964,
    "start_time": "2023-04-19T11:24:20.345Z"
   },
   {
    "duration": 36,
    "start_time": "2023-04-19T11:24:21.311Z"
   },
   {
    "duration": 276,
    "start_time": "2023-04-19T11:24:21.350Z"
   },
   {
    "duration": 329,
    "start_time": "2023-04-19T11:24:21.628Z"
   },
   {
    "duration": 9,
    "start_time": "2023-04-19T11:24:21.960Z"
   },
   {
    "duration": 352,
    "start_time": "2023-04-19T11:24:21.972Z"
   },
   {
    "duration": 4091,
    "start_time": "2023-04-19T11:24:22.326Z"
   },
   {
    "duration": 33,
    "start_time": "2023-04-19T11:24:26.419Z"
   },
   {
    "duration": 67,
    "start_time": "2023-04-19T11:24:26.463Z"
   },
   {
    "duration": 9,
    "start_time": "2023-04-19T11:24:26.532Z"
   },
   {
    "duration": 5,
    "start_time": "2023-04-19T11:24:26.543Z"
   },
   {
    "duration": 17,
    "start_time": "2023-04-19T11:24:26.550Z"
   },
   {
    "duration": 4,
    "start_time": "2023-04-19T11:24:26.589Z"
   },
   {
    "duration": 19,
    "start_time": "2023-04-19T11:24:26.595Z"
   },
   {
    "duration": 644063,
    "start_time": "2023-04-19T11:24:26.616Z"
   },
   {
    "duration": 12,
    "start_time": "2023-04-19T11:35:10.681Z"
   },
   {
    "duration": 11,
    "start_time": "2023-04-19T11:35:10.695Z"
   },
   {
    "duration": 12,
    "start_time": "2023-04-19T11:35:10.708Z"
   },
   {
    "duration": 289,
    "start_time": "2023-04-19T11:35:10.721Z"
   },
   {
    "duration": 59,
    "start_time": "2023-04-19T11:35:11.012Z"
   },
   {
    "duration": 26,
    "start_time": "2023-04-19T11:35:11.073Z"
   },
   {
    "duration": 7,
    "start_time": "2023-04-19T11:35:11.101Z"
   },
   {
    "duration": 23,
    "start_time": "2023-04-19T11:35:11.110Z"
   },
   {
    "duration": 2950,
    "start_time": "2023-04-19T11:35:11.135Z"
   },
   {
    "duration": 4,
    "start_time": "2023-04-19T11:35:14.087Z"
   },
   {
    "duration": 8,
    "start_time": "2023-04-19T11:35:14.093Z"
   },
   {
    "duration": 20,
    "start_time": "2023-04-19T11:35:14.105Z"
   },
   {
    "duration": 25663,
    "start_time": "2023-04-19T11:35:14.127Z"
   },
   {
    "duration": 703771,
    "start_time": "2023-04-19T11:35:39.792Z"
   },
   {
    "duration": 30358,
    "start_time": "2023-04-19T11:47:23.565Z"
   },
   {
    "duration": 37456,
    "start_time": "2023-04-19T11:47:53.925Z"
   },
   {
    "duration": 160,
    "start_time": "2023-04-19T11:48:31.383Z"
   },
   {
    "duration": 362,
    "start_time": "2023-04-19T11:48:31.545Z"
   },
   {
    "duration": 0,
    "start_time": "2023-04-19T11:48:31.909Z"
   },
   {
    "duration": 0,
    "start_time": "2023-04-19T11:48:31.911Z"
   },
   {
    "duration": 0,
    "start_time": "2023-04-19T11:48:31.912Z"
   },
   {
    "duration": 0,
    "start_time": "2023-04-19T11:48:31.914Z"
   },
   {
    "duration": 0,
    "start_time": "2023-04-19T11:48:31.915Z"
   },
   {
    "duration": 0,
    "start_time": "2023-04-19T11:48:31.916Z"
   },
   {
    "duration": 0,
    "start_time": "2023-04-19T11:48:31.918Z"
   },
   {
    "duration": 0,
    "start_time": "2023-04-19T11:48:31.920Z"
   },
   {
    "duration": 0,
    "start_time": "2023-04-19T11:48:31.921Z"
   },
   {
    "duration": 1,
    "start_time": "2023-04-19T11:48:31.922Z"
   },
   {
    "duration": 0,
    "start_time": "2023-04-19T11:48:31.924Z"
   },
   {
    "duration": 0,
    "start_time": "2023-04-19T11:48:31.925Z"
   },
   {
    "duration": 0,
    "start_time": "2023-04-19T11:48:31.926Z"
   },
   {
    "duration": 0,
    "start_time": "2023-04-19T11:48:31.927Z"
   },
   {
    "duration": 0,
    "start_time": "2023-04-19T11:48:31.929Z"
   },
   {
    "duration": 0,
    "start_time": "2023-04-19T11:48:31.930Z"
   },
   {
    "duration": 0,
    "start_time": "2023-04-19T11:48:31.931Z"
   },
   {
    "duration": 0,
    "start_time": "2023-04-19T11:48:31.932Z"
   },
   {
    "duration": 0,
    "start_time": "2023-04-19T11:48:31.933Z"
   },
   {
    "duration": 0,
    "start_time": "2023-04-19T11:48:31.935Z"
   },
   {
    "duration": 0,
    "start_time": "2023-04-19T11:48:31.937Z"
   },
   {
    "duration": 0,
    "start_time": "2023-04-19T11:48:31.938Z"
   },
   {
    "duration": 0,
    "start_time": "2023-04-19T11:48:31.939Z"
   },
   {
    "duration": 0,
    "start_time": "2023-04-19T11:48:31.990Z"
   },
   {
    "duration": 0,
    "start_time": "2023-04-19T11:48:31.992Z"
   },
   {
    "duration": 0,
    "start_time": "2023-04-19T11:48:31.994Z"
   },
   {
    "duration": 21,
    "start_time": "2023-04-19T12:08:07.554Z"
   },
   {
    "duration": 910,
    "start_time": "2023-04-19T12:08:39.836Z"
   },
   {
    "duration": 502,
    "start_time": "2023-04-19T12:09:07.907Z"
   },
   {
    "duration": 526,
    "start_time": "2023-04-19T12:09:28.095Z"
   },
   {
    "duration": 464,
    "start_time": "2023-04-19T12:12:35.493Z"
   },
   {
    "duration": 517,
    "start_time": "2023-04-19T12:13:07.221Z"
   },
   {
    "duration": 60,
    "start_time": "2023-04-19T12:18:48.646Z"
   },
   {
    "duration": 49,
    "start_time": "2023-04-19T12:19:53.436Z"
   },
   {
    "duration": 55,
    "start_time": "2023-04-19T12:20:03.258Z"
   },
   {
    "duration": 57,
    "start_time": "2023-04-19T12:20:16.976Z"
   },
   {
    "duration": 53,
    "start_time": "2023-04-19T12:20:43.507Z"
   },
   {
    "duration": 67,
    "start_time": "2023-04-19T12:21:52.783Z"
   },
   {
    "duration": 61,
    "start_time": "2023-04-19T12:22:14.908Z"
   },
   {
    "duration": 14,
    "start_time": "2023-04-19T12:25:22.574Z"
   },
   {
    "duration": 189,
    "start_time": "2023-04-19T12:25:31.816Z"
   },
   {
    "duration": 44,
    "start_time": "2023-04-19T12:29:30.208Z"
   },
   {
    "duration": 10,
    "start_time": "2023-04-19T12:29:31.547Z"
   },
   {
    "duration": 122,
    "start_time": "2023-04-19T12:29:38.606Z"
   },
   {
    "duration": 34,
    "start_time": "2023-04-19T12:29:58.131Z"
   },
   {
    "duration": 8,
    "start_time": "2023-04-19T12:29:59.131Z"
   },
   {
    "duration": 126,
    "start_time": "2023-04-19T12:30:03.171Z"
   },
   {
    "duration": 7,
    "start_time": "2023-04-19T12:30:25.083Z"
   },
   {
    "duration": 29,
    "start_time": "2023-04-19T12:30:26.411Z"
   },
   {
    "duration": 6,
    "start_time": "2023-04-19T12:33:59.957Z"
   },
   {
    "duration": 9,
    "start_time": "2023-04-19T12:34:02.517Z"
   },
   {
    "duration": 67477,
    "start_time": "2023-04-19T12:34:09.734Z"
   },
   {
    "duration": 31,
    "start_time": "2023-04-19T12:35:27.148Z"
   },
   {
    "duration": 24,
    "start_time": "2023-04-19T12:39:01.336Z"
   },
   {
    "duration": 28,
    "start_time": "2023-04-19T12:41:40.675Z"
   },
   {
    "duration": 21,
    "start_time": "2023-04-19T12:41:57.130Z"
   },
   {
    "duration": 685,
    "start_time": "2023-04-19T12:42:50.725Z"
   },
   {
    "duration": 661,
    "start_time": "2023-04-19T12:46:00.695Z"
   },
   {
    "duration": 585,
    "start_time": "2023-04-19T12:46:17.621Z"
   },
   {
    "duration": 26,
    "start_time": "2023-04-19T12:48:32.695Z"
   },
   {
    "duration": 528,
    "start_time": "2023-04-19T12:49:18.040Z"
   },
   {
    "duration": 572,
    "start_time": "2023-04-19T12:59:39.161Z"
   },
   {
    "duration": 31,
    "start_time": "2023-04-19T13:06:14.291Z"
   },
   {
    "duration": 55637,
    "start_time": "2023-04-19T13:06:29.535Z"
   },
   {
    "duration": 293,
    "start_time": "2023-04-19T13:07:36.425Z"
   },
   {
    "duration": 330,
    "start_time": "2023-04-19T13:08:10.839Z"
   },
   {
    "duration": 297,
    "start_time": "2023-04-19T13:15:02.682Z"
   },
   {
    "duration": 28,
    "start_time": "2023-04-19T13:15:05.814Z"
   },
   {
    "duration": 216215,
    "start_time": "2023-04-19T13:18:22.785Z"
   },
   {
    "duration": 0,
    "start_time": "2023-04-19T13:21:59.003Z"
   },
   {
    "duration": 0,
    "start_time": "2023-04-19T13:21:59.004Z"
   },
   {
    "duration": 5853,
    "start_time": "2023-04-19T13:45:12.487Z"
   },
   {
    "duration": 952,
    "start_time": "2023-04-19T13:45:18.342Z"
   },
   {
    "duration": 36,
    "start_time": "2023-04-19T13:45:19.300Z"
   },
   {
    "duration": 286,
    "start_time": "2023-04-19T13:45:19.339Z"
   },
   {
    "duration": 321,
    "start_time": "2023-04-19T13:45:19.627Z"
   },
   {
    "duration": 10,
    "start_time": "2023-04-19T13:45:19.950Z"
   },
   {
    "duration": 343,
    "start_time": "2023-04-19T13:45:19.962Z"
   },
   {
    "duration": 4498,
    "start_time": "2023-04-19T13:45:20.312Z"
   },
   {
    "duration": 31,
    "start_time": "2023-04-19T13:45:24.812Z"
   },
   {
    "duration": 70,
    "start_time": "2023-04-19T13:45:24.853Z"
   },
   {
    "duration": 10,
    "start_time": "2023-04-19T13:45:24.926Z"
   },
   {
    "duration": 10,
    "start_time": "2023-04-19T13:45:24.938Z"
   },
   {
    "duration": 6,
    "start_time": "2023-04-19T13:45:24.950Z"
   },
   {
    "duration": 41,
    "start_time": "2023-04-19T13:45:24.957Z"
   },
   {
    "duration": 5,
    "start_time": "2023-04-19T13:45:25.000Z"
   },
   {
    "duration": 11914,
    "start_time": "2023-04-19T13:45:25.007Z"
   },
   {
    "duration": 9,
    "start_time": "2023-04-19T13:45:36.923Z"
   },
   {
    "duration": 10,
    "start_time": "2023-04-19T13:45:36.933Z"
   },
   {
    "duration": 5,
    "start_time": "2023-04-19T13:45:36.945Z"
   },
   {
    "duration": 911,
    "start_time": "2023-04-19T13:45:36.952Z"
   },
   {
    "duration": 0,
    "start_time": "2023-04-19T13:45:37.866Z"
   },
   {
    "duration": 0,
    "start_time": "2023-04-19T13:45:37.868Z"
   },
   {
    "duration": 0,
    "start_time": "2023-04-19T13:45:37.869Z"
   },
   {
    "duration": 0,
    "start_time": "2023-04-19T13:45:37.870Z"
   },
   {
    "duration": 0,
    "start_time": "2023-04-19T13:45:37.872Z"
   },
   {
    "duration": 0,
    "start_time": "2023-04-19T13:45:37.873Z"
   },
   {
    "duration": 0,
    "start_time": "2023-04-19T13:45:37.874Z"
   },
   {
    "duration": 0,
    "start_time": "2023-04-19T13:45:37.876Z"
   },
   {
    "duration": 0,
    "start_time": "2023-04-19T13:45:37.877Z"
   },
   {
    "duration": 0,
    "start_time": "2023-04-19T13:45:37.878Z"
   },
   {
    "duration": 0,
    "start_time": "2023-04-19T13:45:37.879Z"
   },
   {
    "duration": 0,
    "start_time": "2023-04-19T13:45:37.880Z"
   },
   {
    "duration": 0,
    "start_time": "2023-04-19T13:45:37.882Z"
   },
   {
    "duration": 0,
    "start_time": "2023-04-19T13:45:37.883Z"
   },
   {
    "duration": 0,
    "start_time": "2023-04-19T13:45:37.884Z"
   },
   {
    "duration": 0,
    "start_time": "2023-04-19T13:45:37.886Z"
   },
   {
    "duration": 0,
    "start_time": "2023-04-19T13:45:37.888Z"
   },
   {
    "duration": 0,
    "start_time": "2023-04-19T13:45:37.888Z"
   },
   {
    "duration": 0,
    "start_time": "2023-04-19T13:45:37.890Z"
   },
   {
    "duration": 0,
    "start_time": "2023-04-19T13:45:37.891Z"
   },
   {
    "duration": 0,
    "start_time": "2023-04-19T13:45:37.892Z"
   },
   {
    "duration": 0,
    "start_time": "2023-04-19T13:45:37.893Z"
   },
   {
    "duration": 0,
    "start_time": "2023-04-19T13:45:37.895Z"
   },
   {
    "duration": 0,
    "start_time": "2023-04-19T13:45:37.896Z"
   },
   {
    "duration": 0,
    "start_time": "2023-04-19T13:45:37.898Z"
   },
   {
    "duration": 0,
    "start_time": "2023-04-19T13:45:37.899Z"
   },
   {
    "duration": 0,
    "start_time": "2023-04-19T13:45:37.903Z"
   },
   {
    "duration": 0,
    "start_time": "2023-04-19T13:45:37.904Z"
   },
   {
    "duration": 0,
    "start_time": "2023-04-19T13:45:37.905Z"
   },
   {
    "duration": 0,
    "start_time": "2023-04-19T13:45:37.906Z"
   },
   {
    "duration": 0,
    "start_time": "2023-04-19T13:45:37.907Z"
   },
   {
    "duration": 0,
    "start_time": "2023-04-19T13:45:37.909Z"
   },
   {
    "duration": 0,
    "start_time": "2023-04-19T13:45:37.910Z"
   },
   {
    "duration": 0,
    "start_time": "2023-04-19T13:45:37.912Z"
   },
   {
    "duration": 0,
    "start_time": "2023-04-19T13:45:37.913Z"
   },
   {
    "duration": 0,
    "start_time": "2023-04-19T13:45:37.914Z"
   },
   {
    "duration": 0,
    "start_time": "2023-04-19T13:45:37.915Z"
   },
   {
    "duration": 0,
    "start_time": "2023-04-19T13:45:37.916Z"
   },
   {
    "duration": 0,
    "start_time": "2023-04-19T13:45:37.918Z"
   },
   {
    "duration": 0,
    "start_time": "2023-04-19T13:45:37.919Z"
   },
   {
    "duration": 5949,
    "start_time": "2023-04-19T13:45:50.479Z"
   },
   {
    "duration": 1134,
    "start_time": "2023-04-19T13:45:56.430Z"
   },
   {
    "duration": 49,
    "start_time": "2023-04-19T13:45:57.566Z"
   },
   {
    "duration": 267,
    "start_time": "2023-04-19T13:45:57.619Z"
   },
   {
    "duration": 327,
    "start_time": "2023-04-19T13:45:57.887Z"
   },
   {
    "duration": 8,
    "start_time": "2023-04-19T13:45:58.216Z"
   },
   {
    "duration": 339,
    "start_time": "2023-04-19T13:45:58.226Z"
   },
   {
    "duration": 4517,
    "start_time": "2023-04-19T13:45:58.567Z"
   },
   {
    "duration": 38,
    "start_time": "2023-04-19T13:46:03.086Z"
   },
   {
    "duration": 73,
    "start_time": "2023-04-19T13:46:03.136Z"
   },
   {
    "duration": 10,
    "start_time": "2023-04-19T13:46:03.211Z"
   },
   {
    "duration": 24,
    "start_time": "2023-04-19T13:46:03.222Z"
   },
   {
    "duration": 16,
    "start_time": "2023-04-19T13:46:03.248Z"
   },
   {
    "duration": 21,
    "start_time": "2023-04-19T13:46:03.266Z"
   },
   {
    "duration": 16,
    "start_time": "2023-04-19T13:46:03.289Z"
   },
   {
    "duration": 723403,
    "start_time": "2023-04-19T13:46:03.307Z"
   },
   {
    "duration": 10,
    "start_time": "2023-04-19T13:58:06.712Z"
   },
   {
    "duration": 9,
    "start_time": "2023-04-19T13:58:06.724Z"
   },
   {
    "duration": 4,
    "start_time": "2023-04-19T13:58:06.735Z"
   },
   {
    "duration": 291,
    "start_time": "2023-04-19T13:58:06.741Z"
   },
   {
    "duration": 72,
    "start_time": "2023-04-19T13:58:07.034Z"
   },
   {
    "duration": 13,
    "start_time": "2023-04-19T13:58:07.108Z"
   },
   {
    "duration": 8,
    "start_time": "2023-04-19T13:58:07.123Z"
   },
   {
    "duration": 18,
    "start_time": "2023-04-19T13:58:07.133Z"
   },
   {
    "duration": 3064,
    "start_time": "2023-04-19T13:58:07.153Z"
   },
   {
    "duration": 5,
    "start_time": "2023-04-19T13:58:10.219Z"
   },
   {
    "duration": 7,
    "start_time": "2023-04-19T13:58:10.226Z"
   },
   {
    "duration": 43,
    "start_time": "2023-04-19T13:58:10.238Z"
   },
   {
    "duration": 37,
    "start_time": "2023-04-19T13:58:10.283Z"
   },
   {
    "duration": 25667,
    "start_time": "2023-04-19T13:58:10.322Z"
   },
   {
    "duration": 101,
    "start_time": "2023-04-19T13:58:35.992Z"
   },
   {
    "duration": 375,
    "start_time": "2023-04-19T13:58:36.101Z"
   },
   {
    "duration": 0,
    "start_time": "2023-04-19T13:58:36.478Z"
   },
   {
    "duration": 0,
    "start_time": "2023-04-19T13:58:36.479Z"
   },
   {
    "duration": 0,
    "start_time": "2023-04-19T13:58:36.481Z"
   },
   {
    "duration": 0,
    "start_time": "2023-04-19T13:58:36.492Z"
   },
   {
    "duration": 0,
    "start_time": "2023-04-19T13:58:36.493Z"
   },
   {
    "duration": 0,
    "start_time": "2023-04-19T13:58:36.493Z"
   },
   {
    "duration": 0,
    "start_time": "2023-04-19T13:58:36.494Z"
   },
   {
    "duration": 0,
    "start_time": "2023-04-19T13:58:36.495Z"
   },
   {
    "duration": 0,
    "start_time": "2023-04-19T13:58:36.496Z"
   },
   {
    "duration": 0,
    "start_time": "2023-04-19T13:58:36.497Z"
   },
   {
    "duration": 0,
    "start_time": "2023-04-19T13:58:36.498Z"
   },
   {
    "duration": 0,
    "start_time": "2023-04-19T13:58:36.499Z"
   },
   {
    "duration": 0,
    "start_time": "2023-04-19T13:58:36.499Z"
   },
   {
    "duration": 0,
    "start_time": "2023-04-19T13:58:36.500Z"
   },
   {
    "duration": 0,
    "start_time": "2023-04-19T13:58:36.501Z"
   },
   {
    "duration": 0,
    "start_time": "2023-04-19T13:58:36.502Z"
   },
   {
    "duration": 0,
    "start_time": "2023-04-19T13:58:36.503Z"
   },
   {
    "duration": 0,
    "start_time": "2023-04-19T13:58:36.504Z"
   },
   {
    "duration": 0,
    "start_time": "2023-04-19T13:58:36.505Z"
   },
   {
    "duration": 0,
    "start_time": "2023-04-19T13:58:36.507Z"
   },
   {
    "duration": 0,
    "start_time": "2023-04-19T13:58:36.509Z"
   },
   {
    "duration": 0,
    "start_time": "2023-04-19T13:58:36.510Z"
   },
   {
    "duration": 0,
    "start_time": "2023-04-19T13:58:36.512Z"
   },
   {
    "duration": 0,
    "start_time": "2023-04-19T13:58:36.513Z"
   },
   {
    "duration": 0,
    "start_time": "2023-04-19T13:58:36.514Z"
   },
   {
    "duration": 0,
    "start_time": "2023-04-19T13:58:36.516Z"
   },
   {
    "duration": 0,
    "start_time": "2023-04-19T13:58:36.517Z"
   },
   {
    "duration": 26,
    "start_time": "2023-04-19T14:00:56.547Z"
   },
   {
    "duration": 16,
    "start_time": "2023-04-19T14:01:35.023Z"
   },
   {
    "duration": 29,
    "start_time": "2023-04-19T14:01:49.872Z"
   },
   {
    "duration": 28,
    "start_time": "2023-04-19T14:03:02.030Z"
   },
   {
    "duration": 30,
    "start_time": "2023-04-19T14:04:17.518Z"
   },
   {
    "duration": 34,
    "start_time": "2023-04-19T14:05:19.998Z"
   },
   {
    "duration": 26,
    "start_time": "2023-04-19T14:05:48.376Z"
   },
   {
    "duration": 34,
    "start_time": "2023-04-19T14:06:40.416Z"
   },
   {
    "duration": 31,
    "start_time": "2023-04-19T14:08:07.871Z"
   },
   {
    "duration": 21,
    "start_time": "2023-04-19T14:08:27.272Z"
   },
   {
    "duration": 46,
    "start_time": "2023-04-19T14:10:12.581Z"
   },
   {
    "duration": 29,
    "start_time": "2023-04-19T14:12:15.110Z"
   },
   {
    "duration": 33,
    "start_time": "2023-04-19T14:12:22.827Z"
   },
   {
    "duration": 16,
    "start_time": "2023-04-19T14:12:51.741Z"
   },
   {
    "duration": 17,
    "start_time": "2023-04-19T14:13:08.517Z"
   },
   {
    "duration": 28,
    "start_time": "2023-04-19T14:14:34.639Z"
   },
   {
    "duration": 31,
    "start_time": "2023-04-19T14:15:07.254Z"
   },
   {
    "duration": 28,
    "start_time": "2023-04-19T14:15:38.191Z"
   },
   {
    "duration": 105805,
    "start_time": "2023-04-19T14:15:51.085Z"
   },
   {
    "duration": 92393,
    "start_time": "2023-04-19T14:18:54.000Z"
   },
   {
    "duration": 95,
    "start_time": "2023-04-19T14:20:26.396Z"
   },
   {
    "duration": 5690,
    "start_time": "2023-04-19T14:39:16.007Z"
   },
   {
    "duration": 925,
    "start_time": "2023-04-19T14:39:21.699Z"
   },
   {
    "duration": 40,
    "start_time": "2023-04-19T14:39:22.626Z"
   },
   {
    "duration": 298,
    "start_time": "2023-04-19T14:39:22.669Z"
   },
   {
    "duration": 340,
    "start_time": "2023-04-19T14:39:22.968Z"
   },
   {
    "duration": 7,
    "start_time": "2023-04-19T14:39:23.311Z"
   },
   {
    "duration": 340,
    "start_time": "2023-04-19T14:39:23.321Z"
   },
   {
    "duration": 4241,
    "start_time": "2023-04-19T14:39:23.663Z"
   },
   {
    "duration": 33,
    "start_time": "2023-04-19T14:39:27.906Z"
   },
   {
    "duration": 81,
    "start_time": "2023-04-19T14:39:27.949Z"
   },
   {
    "duration": 10,
    "start_time": "2023-04-19T14:39:28.032Z"
   },
   {
    "duration": 8,
    "start_time": "2023-04-19T14:39:28.044Z"
   },
   {
    "duration": 5,
    "start_time": "2023-04-19T14:39:28.054Z"
   },
   {
    "duration": 5,
    "start_time": "2023-04-19T14:39:28.090Z"
   },
   {
    "duration": 15,
    "start_time": "2023-04-19T14:39:28.097Z"
   },
   {
    "duration": 656770,
    "start_time": "2023-04-19T14:39:28.114Z"
   },
   {
    "duration": 10,
    "start_time": "2023-04-19T14:50:24.886Z"
   },
   {
    "duration": 8,
    "start_time": "2023-04-19T14:50:24.898Z"
   },
   {
    "duration": 4,
    "start_time": "2023-04-19T14:50:24.908Z"
   },
   {
    "duration": 299,
    "start_time": "2023-04-19T14:50:24.914Z"
   },
   {
    "duration": 60,
    "start_time": "2023-04-19T14:50:25.215Z"
   },
   {
    "duration": 25,
    "start_time": "2023-04-19T14:50:25.277Z"
   },
   {
    "duration": 9,
    "start_time": "2023-04-19T14:50:25.303Z"
   },
   {
    "duration": 11,
    "start_time": "2023-04-19T14:50:25.314Z"
   },
   {
    "duration": 2932,
    "start_time": "2023-04-19T14:50:25.326Z"
   },
   {
    "duration": 5,
    "start_time": "2023-04-19T14:50:28.260Z"
   },
   {
    "duration": 6,
    "start_time": "2023-04-19T14:50:28.267Z"
   },
   {
    "duration": 4,
    "start_time": "2023-04-19T14:50:28.292Z"
   },
   {
    "duration": 7,
    "start_time": "2023-04-19T14:50:28.297Z"
   },
   {
    "duration": 25199,
    "start_time": "2023-04-19T14:50:28.306Z"
   },
   {
    "duration": 97,
    "start_time": "2023-04-19T14:50:53.593Z"
   },
   {
    "duration": 110817,
    "start_time": "2023-04-19T14:50:53.692Z"
   },
   {
    "duration": 15,
    "start_time": "2023-04-19T14:52:44.516Z"
   },
   {
    "duration": 662528,
    "start_time": "2023-04-19T14:52:44.534Z"
   },
   {
    "duration": 53646,
    "start_time": "2023-04-19T15:03:47.064Z"
   },
   {
    "duration": 2464476,
    "start_time": "2023-04-19T15:04:40.712Z"
   },
   {
    "duration": 9,
    "start_time": "2023-04-19T15:45:45.190Z"
   },
   {
    "duration": 31109,
    "start_time": "2023-04-19T15:45:45.201Z"
   },
   {
    "duration": 273,
    "start_time": "2023-04-19T15:46:16.311Z"
   },
   {
    "duration": 690788,
    "start_time": "2023-04-19T15:46:16.586Z"
   },
   {
    "duration": 19,
    "start_time": "2023-04-19T15:57:47.376Z"
   },
   {
    "duration": 35542,
    "start_time": "2023-04-19T15:57:47.397Z"
   },
   {
    "duration": 23,
    "start_time": "2023-04-19T15:58:22.941Z"
   },
   {
    "duration": 1042486,
    "start_time": "2023-04-19T15:58:22.966Z"
   },
   {
    "duration": 8,
    "start_time": "2023-04-19T16:15:45.454Z"
   },
   {
    "duration": 8,
    "start_time": "2023-04-19T16:15:45.464Z"
   },
   {
    "duration": 18,
    "start_time": "2023-04-19T16:15:45.489Z"
   },
   {
    "duration": 65,
    "start_time": "2023-04-19T16:15:45.509Z"
   },
   {
    "duration": 10,
    "start_time": "2023-04-19T16:15:45.576Z"
   },
   {
    "duration": 180384,
    "start_time": "2023-04-19T16:15:45.589Z"
   },
   {
    "duration": 780,
    "start_time": "2023-04-19T16:18:45.975Z"
   },
   {
    "duration": 10,
    "start_time": "2023-04-19T16:18:46.756Z"
   },
   {
    "duration": 3073,
    "start_time": "2023-04-19T16:18:46.768Z"
   },
   {
    "duration": 9,
    "start_time": "2023-04-19T16:18:49.843Z"
   },
   {
    "duration": 198218,
    "start_time": "2023-04-19T16:18:49.854Z"
   },
   {
    "duration": 6229,
    "start_time": "2023-04-19T16:22:08.074Z"
   },
   {
    "duration": 12,
    "start_time": "2023-04-19T16:22:14.305Z"
   },
   {
    "duration": 29511,
    "start_time": "2023-04-19T16:22:14.320Z"
   },
   {
    "duration": 10,
    "start_time": "2023-04-19T16:22:43.833Z"
   },
   {
    "duration": 616761,
    "start_time": "2023-04-19T16:22:43.845Z"
   },
   {
    "duration": 13461,
    "start_time": "2023-04-19T16:33:00.609Z"
   },
   {
    "duration": 351,
    "start_time": "2023-04-19T16:33:14.072Z"
   },
   {
    "duration": 147951,
    "start_time": "2023-04-19T16:33:14.425Z"
   },
   {
    "duration": 13,
    "start_time": "2023-04-19T16:35:42.378Z"
   },
   {
    "duration": 11,
    "start_time": "2023-04-19T16:35:42.393Z"
   },
   {
    "duration": 327,
    "start_time": "2023-04-19T23:41:16.667Z"
   },
   {
    "duration": 10,
    "start_time": "2023-04-19T23:42:44.319Z"
   },
   {
    "duration": 6792,
    "start_time": "2023-04-21T11:09:18.470Z"
   },
   {
    "duration": 5159,
    "start_time": "2023-04-21T11:09:25.264Z"
   },
   {
    "duration": 3584,
    "start_time": "2023-04-21T11:09:30.425Z"
   },
   {
    "duration": 33,
    "start_time": "2023-04-21T11:09:34.011Z"
   },
   {
    "duration": 292,
    "start_time": "2023-04-21T11:09:34.045Z"
   },
   {
    "duration": 243,
    "start_time": "2023-04-21T11:09:34.339Z"
   },
   {
    "duration": 13,
    "start_time": "2023-04-21T11:09:34.583Z"
   },
   {
    "duration": 266,
    "start_time": "2023-04-21T11:09:34.597Z"
   },
   {
    "duration": 3370,
    "start_time": "2023-04-21T11:09:34.865Z"
   },
   {
    "duration": 24,
    "start_time": "2023-04-21T11:09:38.244Z"
   },
   {
    "duration": 60,
    "start_time": "2023-04-21T11:09:38.269Z"
   },
   {
    "duration": 7,
    "start_time": "2023-04-21T11:09:38.330Z"
   },
   {
    "duration": 4,
    "start_time": "2023-04-21T11:09:38.339Z"
   },
   {
    "duration": 10,
    "start_time": "2023-04-21T11:09:38.345Z"
   },
   {
    "duration": 6,
    "start_time": "2023-04-21T11:09:38.356Z"
   },
   {
    "duration": 4,
    "start_time": "2023-04-21T11:09:38.363Z"
   },
   {
    "duration": 3850,
    "start_time": "2023-04-21T13:37:09.823Z"
   },
   {
    "duration": 802,
    "start_time": "2023-04-21T13:37:13.674Z"
   },
   {
    "duration": 36,
    "start_time": "2023-04-21T13:37:14.478Z"
   },
   {
    "duration": 264,
    "start_time": "2023-04-21T13:37:14.517Z"
   },
   {
    "duration": 255,
    "start_time": "2023-04-21T13:37:14.783Z"
   },
   {
    "duration": 6,
    "start_time": "2023-04-21T13:37:15.040Z"
   },
   {
    "duration": 308,
    "start_time": "2023-04-21T13:37:15.047Z"
   },
   {
    "duration": 3502,
    "start_time": "2023-04-21T13:37:15.357Z"
   },
   {
    "duration": 39,
    "start_time": "2023-04-21T13:37:18.861Z"
   },
   {
    "duration": 6,
    "start_time": "2023-04-21T13:37:18.903Z"
   },
   {
    "duration": 6,
    "start_time": "2023-04-21T13:37:18.911Z"
   },
   {
    "duration": 9,
    "start_time": "2023-04-21T13:37:18.918Z"
   },
   {
    "duration": 4,
    "start_time": "2023-04-21T13:37:18.929Z"
   },
   {
    "duration": 6,
    "start_time": "2023-04-21T13:37:18.934Z"
   },
   {
    "duration": 4,
    "start_time": "2023-04-21T13:37:18.942Z"
   },
   {
    "duration": 1663837,
    "start_time": "2023-04-21T13:37:18.947Z"
   },
   {
    "duration": 11,
    "start_time": "2023-04-21T14:05:02.785Z"
   },
   {
    "duration": 59,
    "start_time": "2023-04-21T14:05:02.798Z"
   },
   {
    "duration": 14,
    "start_time": "2023-04-21T14:05:02.859Z"
   },
   {
    "duration": 1017,
    "start_time": "2023-04-21T14:05:02.874Z"
   },
   {
    "duration": 176,
    "start_time": "2023-04-21T14:05:03.896Z"
   },
   {
    "duration": 20,
    "start_time": "2023-04-21T14:05:04.074Z"
   },
   {
    "duration": 14,
    "start_time": "2023-04-21T14:05:04.097Z"
   },
   {
    "duration": 38,
    "start_time": "2023-04-21T14:05:04.112Z"
   },
   {
    "duration": 8255,
    "start_time": "2023-04-21T14:05:04.152Z"
   },
   {
    "duration": 4,
    "start_time": "2023-04-21T14:05:12.409Z"
   },
   {
    "duration": 12,
    "start_time": "2023-04-21T14:05:12.415Z"
   },
   {
    "duration": 3,
    "start_time": "2023-04-21T14:05:12.431Z"
   },
   {
    "duration": 5,
    "start_time": "2023-04-21T14:05:12.436Z"
   },
   {
    "duration": 435706,
    "start_time": "2023-04-21T14:05:12.443Z"
   },
   {
    "duration": 2148,
    "start_time": "2023-04-21T14:12:28.151Z"
   },
   {
    "duration": 14,
    "start_time": "2023-04-21T14:12:30.301Z"
   },
   {
    "duration": 8555,
    "start_time": "2023-04-21T14:12:30.316Z"
   },
   {
    "duration": 9,
    "start_time": "2023-04-21T14:12:38.872Z"
   },
   {
    "duration": 44924,
    "start_time": "2023-04-21T14:12:38.882Z"
   },
   {
    "duration": 98,
    "start_time": "2023-04-21T14:13:23.809Z"
   },
   {
    "duration": 181188,
    "start_time": "2023-04-21T14:13:23.910Z"
   },
   {
    "duration": 95,
    "start_time": "2023-04-21T14:16:25.100Z"
   },
   {
    "duration": 86928,
    "start_time": "2023-04-21T14:16:25.197Z"
   },
   {
    "duration": 621,
    "start_time": "2023-04-21T14:17:52.127Z"
   },
   {
    "duration": 3478402,
    "start_time": "2023-04-21T14:17:52.750Z"
   },
   {
    "duration": 7,
    "start_time": "2023-04-21T15:15:51.154Z"
   },
   {
    "duration": 166,
    "start_time": "2023-04-21T15:15:51.162Z"
   },
   {
    "duration": 0,
    "start_time": "2023-04-21T15:15:51.330Z"
   },
   {
    "duration": 0,
    "start_time": "2023-04-21T15:15:51.331Z"
   },
   {
    "duration": 0,
    "start_time": "2023-04-21T15:15:51.332Z"
   },
   {
    "duration": 0,
    "start_time": "2023-04-21T15:15:51.333Z"
   },
   {
    "duration": 3128362,
    "start_time": "2023-04-21T15:34:33.184Z"
   },
   {
    "duration": 231193,
    "start_time": "2023-04-21T16:26:41.548Z"
   },
   {
    "duration": 11525919,
    "start_time": "2023-04-21T16:30:32.743Z"
   },
   {
    "duration": 7,
    "start_time": "2023-04-21T19:42:38.664Z"
   },
   {
    "duration": 226813,
    "start_time": "2023-04-21T19:42:38.673Z"
   }
  ],
  "kernelspec": {
   "display_name": "Python 3 (ipykernel)",
   "language": "python",
   "name": "python3"
  },
  "language_info": {
   "codemirror_mode": {
    "name": "ipython",
    "version": 3
   },
   "file_extension": ".py",
   "mimetype": "text/x-python",
   "name": "python",
   "nbconvert_exporter": "python",
   "pygments_lexer": "ipython3",
   "version": "3.9.5"
  },
  "toc": {
   "base_numbering": 1,
   "nav_menu": {},
   "number_sections": true,
   "sideBar": true,
   "skip_h1_title": true,
   "title_cell": "Содержание",
   "title_sidebar": "Contents",
   "toc_cell": true,
   "toc_position": {
    "height": "calc(100% - 180px)",
    "left": "10px",
    "top": "150px",
    "width": "302.391px"
   },
   "toc_section_display": true,
   "toc_window_display": true
  }
 },
 "nbformat": 4,
 "nbformat_minor": 2
}
